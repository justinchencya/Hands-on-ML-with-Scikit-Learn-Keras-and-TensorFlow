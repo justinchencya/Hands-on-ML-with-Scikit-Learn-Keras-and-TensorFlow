{
 "cells": [
  {
   "cell_type": "markdown",
   "metadata": {},
   "source": [
    "# Setup"
   ]
  },
  {
   "cell_type": "code",
   "execution_count": 1,
   "metadata": {},
   "outputs": [],
   "source": [
    "# Python ≥3.5 is required\n",
    "import sys\n",
    "assert sys.version_info >= (3, 5)\n",
    "\n",
    "# Scikit-Learn ≥0.20 is required\n",
    "import sklearn\n",
    "assert sklearn.__version__ >= \"0.20\"\n",
    "\n",
    "try:\n",
    "    # %tensorflow_version only exists in Colab.\n",
    "    %tensorflow_version 2.x\n",
    "except Exception:\n",
    "    pass\n",
    "\n",
    "# TensorFlow ≥2.0 is required\n",
    "import tensorflow as tf\n",
    "assert tf.__version__ >= \"2.0\"\n",
    "\n",
    "# Common imports\n",
    "import numpy as np\n",
    "import os\n",
    "\n",
    "# to make this notebook's output stable across runs\n",
    "np.random.seed(42)\n",
    "\n",
    "# To plot pretty figures\n",
    "%matplotlib inline\n",
    "import matplotlib as mpl\n",
    "import matplotlib.pyplot as plt\n",
    "mpl.rc('axes', labelsize=14)\n",
    "mpl.rc('xtick', labelsize=12)\n",
    "mpl.rc('ytick', labelsize=12)\n",
    "\n",
    "# # Where to save the figures\n",
    "# PROJECT_ROOT_DIR = \".\"\n",
    "# CHAPTER_ID = \"ann\"\n",
    "# IMAGES_PATH = os.path.join(PROJECT_ROOT_DIR, \"images\", CHAPTER_ID)\n",
    "# os.makedirs(IMAGES_PATH, exist_ok=True)\n",
    "\n",
    "# def save_fig(fig_id, tight_layout=True, fig_extension=\"png\", resolution=300):\n",
    "#     path = os.path.join(IMAGES_PATH, fig_id + \".\" + fig_extension)\n",
    "#     print(\"Saving figure\", fig_id)\n",
    "#     if tight_layout:\n",
    "#         plt.tight_layout()\n",
    "#     plt.savefig(path, format=fig_extension, dpi=resolution)\n",
    "\n",
    "# Ignore useless warnings (see SciPy issue #5998)\n",
    "import warnings\n",
    "warnings.filterwarnings(action=\"ignore\", message=\"^internal gelsd\")"
   ]
  },
  {
   "cell_type": "markdown",
   "metadata": {},
   "source": [
    "# Perceptrons\n",
    "- The **Perceptron** is one of the simplest Artificial Neural Network architectures.\n",
    "- A Perceptron is simply composed of a single layer of **Threshold Logic Units (TLUs)**, with each TLU connected to all the inputs.\n",
    "    - For a threshold logic unit (TLU), or sometimes a linear threshold unit (LTU), the inputs and output are now numbers (instead of binary on/off values) and each input connection is associated with a weight. \n",
    "    - The TLU computes a **weighted sum of its inputs** (i.e. $z = X^{T}W$), then applies a **step function** to that sum and outputs the result: $h_w(X) = step(z)$, where $z = X^{T}W$.\n",
    "- When all the neurons in a layer are connected to every neuron in the previous layer (i.e., its input neurons), it is called a **fully connected layer** or a **dense layer**.\n",
    "- To represent the fact that each input is sent to every TLU, it is common to draw special passthrough neurons called **input neurons**: they just output whatever input they are fed. \n",
    "    - All the input neurons form the **input layer**.\n",
    "- Moreover, an extra bias feature is generally added ($X_0$ = 1): it is typically represented using a special type of neuron called a **bias neuron**, which just outputs 1 all the time.\n",
    "- It is possible to efficiently compute the outputs of a layer of artificial neurons for several instances at once:\n",
    "    - $h_{W,b}(X) = \\Phi(XW+b)$\n",
    "    - The function $\\phi$ is called the **activation function**: when the artificial neurons are TLUs, it is a step function.\n",
    "    \n",
    "## How is a Perceptron trained?\n",
    "- The Perceptron is fed one training instance at a time, and for each instance it makes its predictions. \n",
    "- For every output neuron that produced a wrong prediction, it reinforces the connection weights from the inputs that would have contributed to the correct prediction.\n",
    "- Perceptron learning rule (weight update):\n",
    "    - $w_{i,j}^{(next \\: step)} = w_{i,j} + \\eta(y_i - \\hat{y}_i)x_i$\n",
    "        - $w_{i,j}$ is the connection weight between the ith input neuron and the jth output neuron.\n",
    "        - $x_i$ is the $i^{th}$ input value of the current training instance.\n",
    "        - $\\hat{y}_j$ is the output of the $j^{th}$ output neuron for the current training instance.\n",
    "        - $y_j$ is the target output of the $j^{th}$ output neuron for the current training instance.\n",
    "        - $\\eta$ is the **learning rate**."
   ]
  },
  {
   "cell_type": "code",
   "execution_count": 2,
   "metadata": {},
   "outputs": [],
   "source": [
    "import numpy as np\n",
    "from sklearn.datasets import load_iris\n",
    "from sklearn.linear_model import Perceptron\n",
    "\n",
    "iris = load_iris()\n",
    "X = iris.data[:, (2,3)]\n",
    "y = (iris.target == 0).astype(np.int)\n",
    "\n",
    "per_clf = Perceptron(max_iter=1000, tol=1e-3, random_state=42)\n",
    "per_clf.fit(X, y)\n",
    "\n",
    "y_pred = per_clf.predict([[2, 0.5]])"
   ]
  },
  {
   "cell_type": "code",
   "execution_count": 3,
   "metadata": {},
   "outputs": [
    {
     "data": {
      "text/plain": [
       "array([1])"
      ]
     },
     "execution_count": 3,
     "metadata": {},
     "output_type": "execute_result"
    }
   ],
   "source": [
    "y_pred"
   ]
  },
  {
   "cell_type": "markdown",
   "metadata": {},
   "source": [
    "# Multi-Layer Perceptron and Backpropagation\n",
    "- An **Multi-Layer Perceptron (MLP)** is composed of one (passthrough) **input layer**, one or more layers of TLUs, called **hidden layers**, and one final layer of TLUs called the **output layer**. \n",
    "    - The layers close to the input layer are usually called the lower layers, and the ones close to the outputs are usually called the upper layers. \n",
    "    - Every layer except the output layer includes a bias neuron and is fully connected to the next layer.\n",
    "- When an ANN contains a deep stack of hidden layers, it is called a **deep neural network (DNN)**.\n",
    "- The **Backpropagation** Training Algorithm\n",
    "    - For each training instance, the backpropagation algorithm first makes a prediction (**forward pass**), measures the error, then goes through each layer in reverse to measure the error contribution from each connection (**reverse pass**), and finally slightly tweaks the connection weights to reduce the error (**Gradient Descent step**).\n",
    "\n",
    "## The Backpropagation Algorithm\n",
    "*A Summary from Udemy Python for Data Science and Machine Learning Bootcamp*\n",
    "- Notations:\n",
    "    - $X$: input (vector of features)\n",
    "    - $y$: target output\n",
    "    - $L$: total number of layers\n",
    "    - $\\sigma$: activation function\n",
    "    - $C$: cost function\n",
    "    - $W^{l} = (w^{l}_{jk})$: the weights between layer $l-1$ and layer $l$\n",
    "- Step 1 - Pass the input $X$ to the input layer and apply the activation function $\\sigma$ to get a result $a$:\n",
    "    - $z = WX + b$\n",
    "    - $a = \\sigma(z)$\n",
    "    - This resulting $a$ is then fed into the next layer as the new $X$ (and so on).\n",
    "- Step 2 - For each layer, compute:\n",
    "    - $z^{l} = W^{l}a^{l-1} + b^{l}$\n",
    "    - $a^{l} = \\sigma(z^{l})$\n",
    "- Step 3 - Compute the error vector:\n",
    "    - $\\delta^{L} = \\nabla_aC \\circ \\sigma'(z^{L})$\n",
    "        - $\\nabla_aC$ = the rate of change of cost function $C$ with respect to the output activations $a^{L}$\n",
    "        - Operator $\\circ$ = Hadamard Product, i.e. element-to-element multiplication\n",
    "- Step 4 - Backpropagate the error: \n",
    "    - For each layer $l = L-1, L-2, ...$:\n",
    "        - $\\delta^{l} = (W^{l+1})^{T}\\delta^{l+1} \\circ \\sigma'(z^{l})$\n",
    "- Step 5 - Adjust the weight $W^{l}$ and bias $b^{l}$ for each layer through gradient descent:\n",
    "    - $\\frac{\\partial C}{\\partial w^{l}_jk} =a^{l-1}_k \\delta^{l}_j$\n",
    "        - $w^{l}_{jk}$ is the weight between the $k^{th}$ node on layer $l-1$ and the $j^{th}$ node on layer $l$.\n",
    "    - $\\frac{\\partial C}{\\partial b^{l}_j} = \\delta^{l}_j$\n",
    "\n",
    "### About Activation Functions\n",
    "- In order to make the algorithm work properly, people have also been **changing the activation function** from the step function to some other alternatives.\n",
    "    - This was essential because the step function contains only flat segments, so there is no gradient to work with (Gradient Descent cannot move on a flat surface).\n",
    "    - We need activation functions with well-defined nonzero derivatives everywhere, allowing Gradient Descent to make some progress at every step.\n",
    "    - Commonly used activation functions are: \n",
    "        - The **logistic (sigmoid) function**: \n",
    "            - $\\sigma(z) = 1/(1+exp(-z))$\n",
    "        - The **hyperbolic tangent function**: \n",
    "            - $tanh(z) = 2\\sigma(2z)-1$\n",
    "        - The **Rectified Linear Unit function (ReLu)**: \n",
    "            - $ReLU(z) = max(0, z)$\n",
    "    - For more activation functions, check out:\n",
    "        - https://en.wikipedia.org/wiki/Activation_function"
   ]
  },
  {
   "cell_type": "code",
   "execution_count": 4,
   "metadata": {},
   "outputs": [],
   "source": [
    "def sigmoid(z):\n",
    "    return 1/(1+np.exp(-z))\n",
    "\n",
    "def relu(z):\n",
    "    return np.maximum(0, z)\n",
    "\n",
    "def derivative(f, z, eps=0.000001):\n",
    "    return (f(z + eps) - f(z - eps)) / (2 * eps)"
   ]
  },
  {
   "cell_type": "code",
   "execution_count": 5,
   "metadata": {},
   "outputs": [
    {
     "data": {
      "text/plain": [
       "[-5, 5, -0.2, 1.2]"
      ]
     },
     "execution_count": 5,
     "metadata": {},
     "output_type": "execute_result"
    },
    {
     "data": {
      "image/png": "[encoded data removed]",
      "text/plain": [
       "<Figure size 792x288 with 2 Axes>"
      ]
     },
     "metadata": {
      "needs_background": "light"
     },
     "output_type": "display_data"
    }
   ],
   "source": [
    "z = np.linspace(-5, 5, 200)\n",
    "\n",
    "plt.figure(figsize=(11,4))\n",
    "\n",
    "plt.subplot(121)\n",
    "plt.plot(z, np.sign(z), \"r-\", linewidth=1, label=\"Step\")\n",
    "plt.plot(z, sigmoid(z), \"g--\", linewidth=2, label=\"Sigmoid\")\n",
    "plt.plot(z, np.tanh(z), \"b-\", linewidth=2, label=\"Tanh\")\n",
    "plt.plot(z, relu(z), \"m-.\", linewidth=2, label=\"ReLU\")\n",
    "plt.grid(True)\n",
    "plt.legend(loc=\"center right\", fontsize=14)\n",
    "plt.title(\"Activation functions\", fontsize=14)\n",
    "plt.axis([-5, 5, -1.2, 1.2])\n",
    "\n",
    "plt.subplot(122)\n",
    "plt.plot(z, derivative(np.sign, z), \"r-\", linewidth=1, label=\"Step\")\n",
    "plt.plot(0, 0, \"ro\", markersize=5)\n",
    "plt.plot(0, 0, \"rx\", markersize=10)\n",
    "plt.plot(z, derivative(sigmoid, z), \"g--\", linewidth=2, label=\"Sigmoid\")\n",
    "plt.plot(z, derivative(np.tanh, z), \"b-\", linewidth=2, label=\"Tanh\")\n",
    "plt.plot(z, derivative(relu, z), \"m-.\", linewidth=2, label=\"ReLU\")\n",
    "plt.grid(True)\n",
    "#plt.legend(loc=\"center right\", fontsize=14)\n",
    "plt.title(\"Derivatives\", fontsize=14)\n",
    "plt.axis([-5, 5, -0.2, 1.2])"
   ]
  },
  {
   "cell_type": "markdown",
   "metadata": {},
   "source": [
    "# Multi-Class Classification Considerations\n",
    "*A Summary from Udemy Python for Data Science and Machine Learning Bootcamp*\n",
    "- Note that all the activation functions introduced above would make sense for a single output, either a continuous prediction or a binary label.\n",
    "    - Correspondingly, it seems like we always assumed that there is only one node in the output layer.\n",
    "- For a **multi-class classification** problem, we may need something different.\n",
    "    - The easies way to handle this problem is have **one neuron for each class** on the output layer.\n",
    "    - We also need to re-organize our training data using **One-Hot Encoding**.\n",
    "- Activation Functions\n",
    "    - **Non-Exclusive** Classes\n",
    "        - **Sigmoid Function**: $\\frac{1}{1+e^{-z}}$\n",
    "            - Each neuron will output a value between 0 and 1, indicating the probability of having that class assigned to it.\n",
    "            \n",
    "    - **Mutually-Exclusive** Classes\n",
    "        - **Softmax Function**: $\\sigma(z)_i = \\frac{e^{z_i}}{\\sum_{j=1}^{K}e^{z_j}}$, $i=1,2,...K$, where $K$ is the total number of classes.\n",
    "            - The softmax function will calculate the probability of each class over all possible classes.\n",
    "            - More specifically, the $i^{th}$ neuron will calculate the probability of assigining the $i^{th}$ class to the instance.\n",
    "            - Thus, each neuron will output a value between 0 and 1, all adding up to 1."
   ]
  },
  {
   "cell_type": "markdown",
   "metadata": {},
   "source": [
    "# Building an Image Classifier"
   ]
  },
  {
   "cell_type": "markdown",
   "metadata": {},
   "source": [
    "- First, import TensorFlow and Keras."
   ]
  },
  {
   "cell_type": "code",
   "execution_count": 6,
   "metadata": {},
   "outputs": [],
   "source": [
    "import tensorflow as tf\n",
    "from tensorflow import keras"
   ]
  },
  {
   "cell_type": "code",
   "execution_count": 7,
   "metadata": {},
   "outputs": [
    {
     "data": {
      "text/plain": [
       "'2.0.0'"
      ]
     },
     "execution_count": 7,
     "metadata": {},
     "output_type": "execute_result"
    }
   ],
   "source": [
    "tf.__version__"
   ]
  },
  {
   "cell_type": "code",
   "execution_count": 8,
   "metadata": {},
   "outputs": [
    {
     "data": {
      "text/plain": [
       "'2.2.4-tf'"
      ]
     },
     "execution_count": 8,
     "metadata": {},
     "output_type": "execute_result"
    }
   ],
   "source": [
    "keras.__version__"
   ]
  },
  {
   "cell_type": "markdown",
   "metadata": {},
   "source": [
    "- Load the fashion MNIST dataset."
   ]
  },
  {
   "cell_type": "code",
   "execution_count": 9,
   "metadata": {},
   "outputs": [],
   "source": [
    "fashion_mnist = keras.datasets.fashion_mnist\n",
    "\n",
    "(X_train_full, y_train_full), (X_test, y_test) = fashion_mnist.load_data()"
   ]
  },
  {
   "cell_type": "code",
   "execution_count": 10,
   "metadata": {},
   "outputs": [
    {
     "data": {
      "text/plain": [
       "(60000, 28, 28)"
      ]
     },
     "execution_count": 10,
     "metadata": {},
     "output_type": "execute_result"
    }
   ],
   "source": [
    "X_train_full.shape"
   ]
  },
  {
   "cell_type": "code",
   "execution_count": 11,
   "metadata": {},
   "outputs": [
    {
     "data": {
      "text/plain": [
       "dtype('uint8')"
      ]
     },
     "execution_count": 11,
     "metadata": {},
     "output_type": "execute_result"
    }
   ],
   "source": [
    "X_train_full.dtype"
   ]
  },
  {
   "cell_type": "markdown",
   "metadata": {},
   "source": [
    "- Let's split the full training set into a validation set and a smaller training set.\n",
    "- We also scale the pixel intensities down to the 0-1 range and convert them to floats by diviting 255."
   ]
  },
  {
   "cell_type": "code",
   "execution_count": 12,
   "metadata": {},
   "outputs": [],
   "source": [
    "X_valid, X_train = X_train_full[:5000] / 255., X_train_full[5000:] / 255.\n",
    "y_valid, y_train = y_train_full[:5000], y_train_full[5000:]\n",
    "X_test = X_test / 255."
   ]
  },
  {
   "cell_type": "code",
   "execution_count": 13,
   "metadata": {},
   "outputs": [
    {
     "data": {
      "text/plain": [
       "<matplotlib.image.AxesImage at 0x7fd3928f4210>"
      ]
     },
     "execution_count": 13,
     "metadata": {},
     "output_type": "execute_result"
    },
    {
     "data": {
      "image/png": "[encoded data removed]",
      "text/plain": [
       "<Figure size 432x288 with 1 Axes>"
      ]
     },
     "metadata": {
      "needs_background": "light"
     },
     "output_type": "display_data"
    }
   ],
   "source": [
    "plt.imshow(X_train[0], cmap='binary')"
   ]
  },
  {
   "cell_type": "markdown",
   "metadata": {},
   "source": [
    "- Here are the labels and correponding class names (obtained manually)."
   ]
  },
  {
   "cell_type": "code",
   "execution_count": 14,
   "metadata": {},
   "outputs": [
    {
     "data": {
      "text/plain": [
       "array([4, 0, 7, ..., 3, 0, 5], dtype=uint8)"
      ]
     },
     "execution_count": 14,
     "metadata": {},
     "output_type": "execute_result"
    }
   ],
   "source": [
    "y_train"
   ]
  },
  {
   "cell_type": "code",
   "execution_count": 15,
   "metadata": {},
   "outputs": [
    {
     "data": {
      "text/plain": [
       "'Coat'"
      ]
     },
     "execution_count": 15,
     "metadata": {},
     "output_type": "execute_result"
    }
   ],
   "source": [
    "class_names = [\"T-shirt/top\", \"Trouser\", \"Pullover\", \"Dress\", \"Coat\",\n",
    "               \"Sandal\", \"Shirt\", \"Sneaker\", \"Bag\", \"Ankle boot\"]\n",
    "\n",
    "class_names[y_train[0]]"
   ]
  },
  {
   "cell_type": "markdown",
   "metadata": {},
   "source": [
    "- Let's look at a sample of the images in the dataset."
   ]
  },
  {
   "cell_type": "code",
   "execution_count": 16,
   "metadata": {},
   "outputs": [
    {
     "data": {
      "image/png": "[encoded data removed]",
      "text/plain": [
       "<Figure size 864x345.6 with 40 Axes>"
      ]
     },
     "metadata": {
      "needs_background": "light"
     },
     "output_type": "display_data"
    }
   ],
   "source": [
    "n_rows = 4\n",
    "n_cols = 10\n",
    "plt.figure(figsize=(n_cols * 1.2, n_rows * 1.2))\n",
    "\n",
    "for row in range(n_rows):\n",
    "    for col in range(n_cols):\n",
    "        index = n_cols*row + col\n",
    "        plt.subplot(n_rows, n_cols, index+1)\n",
    "        plt.imshow(X_train[index], cmap='binary', interpolation='nearest')\n",
    "        plt.axis('off')\n",
    "        plt.title(class_names[y_train[index]], fontsize=12)\n",
    "        \n",
    "plt.subplots_adjust(wspace=0.2, hspace=0.5)"
   ]
  },
  {
   "cell_type": "markdown",
   "metadata": {},
   "source": [
    "- Creating the model using the `Squential` API.\n",
    "- Let’s go through the code below line by line:\n",
    "    - The first line creates a **Sequential model**. \n",
    "        - This is the simplest kind of Keras model, for neural networks that are just composed of a single stack of layers, connected sequentially. This is called the sequential API.\n",
    "    - Next, we build the first layer and add it to the model. \n",
    "        - It is a **Flatten layer** whose role is simply to **convert each input image into a 1D array**: if it receives input data X, it computes X.reshape(-1, 1). \n",
    "        - This layer does not have any parameters, it is just there to do some simple preprocessing. \n",
    "        - Since it is the first layer in the model, you should specify the `input_shape`: this does not include the batch size, only the shape of the instances. \n",
    "        - Alternatively, you could add a `keras.layers.InputLayer` as the first layer, `setting shape=[28,28]`.\n",
    "    - Next we add a **Dense hidden layer** with 300 neurons. \n",
    "        - It will use the ReLU activation function. \n",
    "        - Each Dense layer manages its own weight matrix, containing all the connection weights between the neurons and their inputs. It also manages a vector of bias terms (one per neuron). \n",
    "        - When it receives some input data, it computes $h_{W,b}(X) = \\Phi(XW+b)$.\n",
    "    - Next we add a second Dense hidden layer with 100 neurons, also using the ReLU activation function.\n",
    "    - Finally, we add a **Dense output layer** with 10 neurons (one per class), using the softmax activation function (because the classes are exclusive)."
   ]
  },
  {
   "cell_type": "code",
   "execution_count": 17,
   "metadata": {},
   "outputs": [],
   "source": [
    "model = keras.models.Sequential()\n",
    "\n",
    "model.add(keras.layers.Flatten(input_shape=[28, 28]))\n",
    "model.add(keras.layers.Dense(300, activation='relu'))\n",
    "model.add(keras.layers.Dense(100, activation='relu'))\n",
    "model.add(keras.layers.Dense(10, activation='softmax'))"
   ]
  },
  {
   "cell_type": "code",
   "execution_count": 18,
   "metadata": {},
   "outputs": [
    {
     "data": {
      "text/plain": [
       "[<tensorflow.python.keras.layers.core.Flatten at 0x7fd3935435d0>,\n",
       " <tensorflow.python.keras.layers.core.Dense at 0x7fd393543850>,\n",
       " <tensorflow.python.keras.layers.core.Dense at 0x7fd3929355d0>,\n",
       " <tensorflow.python.keras.layers.core.Dense at 0x7fd39292c6d0>]"
      ]
     },
     "execution_count": 18,
     "metadata": {},
     "output_type": "execute_result"
    }
   ],
   "source": [
    "model.layers"
   ]
  },
  {
   "cell_type": "code",
   "execution_count": 19,
   "metadata": {},
   "outputs": [
    {
     "name": "stdout",
     "output_type": "stream",
     "text": [
      "Model: \"sequential\"\n",
      "_________________________________________________________________\n",
      "Layer (type)                 Output Shape              Param #   \n",
      "=================================================================\n",
      "flatten (Flatten)            (None, 784)               0         \n",
      "_________________________________________________________________\n",
      "dense (Dense)                (None, 300)               235500    \n",
      "_________________________________________________________________\n",
      "dense_1 (Dense)              (None, 100)               30100     \n",
      "_________________________________________________________________\n",
      "dense_2 (Dense)              (None, 10)                1010      \n",
      "=================================================================\n",
      "Total params: 266,610\n",
      "Trainable params: 266,610\n",
      "Non-trainable params: 0\n",
      "_________________________________________________________________\n"
     ]
    }
   ],
   "source": [
    "model.summary()"
   ]
  },
  {
   "cell_type": "code",
   "execution_count": 20,
   "metadata": {},
   "outputs": [
    {
     "data": {
      "image/png": "[encoded data removed]",
      "text/plain": [
       "<IPython.core.display.Image object>"
      ]
     },
     "execution_count": 20,
     "metadata": {},
     "output_type": "execute_result"
    }
   ],
   "source": [
    "keras.utils.plot_model(model, \"my_fasion_mnist_model.png\", show_shapes=True)"
   ]
  },
  {
   "cell_type": "code",
   "execution_count": 21,
   "metadata": {},
   "outputs": [
    {
     "data": {
      "text/plain": [
       "'dense'"
      ]
     },
     "execution_count": 21,
     "metadata": {},
     "output_type": "execute_result"
    }
   ],
   "source": [
    "hidden1 = model.layers[1]\n",
    "hidden1.name"
   ]
  },
  {
   "cell_type": "code",
   "execution_count": 22,
   "metadata": {},
   "outputs": [
    {
     "data": {
      "text/plain": [
       "True"
      ]
     },
     "execution_count": 22,
     "metadata": {},
     "output_type": "execute_result"
    }
   ],
   "source": [
    "model.get_layer(hidden1.name) is hidden1"
   ]
  },
  {
   "cell_type": "markdown",
   "metadata": {},
   "source": [
    "- All the parameters of a layer can be accessed using its `get_weights()` and `set_weights()` method."
   ]
  },
  {
   "cell_type": "code",
   "execution_count": 23,
   "metadata": {},
   "outputs": [],
   "source": [
    "weights, biases = hidden1.get_weights()"
   ]
  },
  {
   "cell_type": "code",
   "execution_count": 24,
   "metadata": {},
   "outputs": [
    {
     "data": {
      "text/plain": [
       "array([[ 0.04515666, -0.069977  ,  0.06051429, ...,  0.04753841,\n",
       "        -0.04744945,  0.0120912 ],\n",
       "       [ 0.04659864, -0.04578223,  0.07400607, ..., -0.05066   ,\n",
       "        -0.0084181 , -0.03304876],\n",
       "       [ 0.06414753, -0.03600916,  0.05302051, ..., -0.01792533,\n",
       "         0.06207846,  0.03128438],\n",
       "       ...,\n",
       "       [-0.00251668,  0.05214743, -0.0117376 , ..., -0.02881119,\n",
       "        -0.07110146,  0.03284575],\n",
       "       [ 0.05465785, -0.01079703, -0.00169583, ...,  0.03523929,\n",
       "         0.04061551, -0.04402542],\n",
       "       [ 0.00068085,  0.06616262, -0.054733  , ...,  0.05206339,\n",
       "        -0.02470464,  0.03530402]], dtype=float32)"
      ]
     },
     "execution_count": 24,
     "metadata": {},
     "output_type": "execute_result"
    }
   ],
   "source": [
    "weights"
   ]
  },
  {
   "cell_type": "code",
   "execution_count": 25,
   "metadata": {},
   "outputs": [
    {
     "data": {
      "text/plain": [
       "(784, 300)"
      ]
     },
     "execution_count": 25,
     "metadata": {},
     "output_type": "execute_result"
    }
   ],
   "source": [
    "weights.shape"
   ]
  },
  {
   "cell_type": "markdown",
   "metadata": {},
   "source": [
    "- Notice that the Dense layer initialized the connection weights randomly (which is needed to break symmetry, as we discussed earlier), and the biases were just initialized to zeros, which is fine."
   ]
  },
  {
   "cell_type": "code",
   "execution_count": 26,
   "metadata": {},
   "outputs": [
    {
     "data": {
      "text/plain": [
       "array([0., 0., 0., 0., 0., 0., 0., 0., 0., 0., 0., 0., 0., 0., 0., 0., 0.,\n",
       "       0., 0., 0., 0., 0., 0., 0., 0., 0., 0., 0., 0., 0., 0., 0., 0., 0.,\n",
       "       0., 0., 0., 0., 0., 0., 0., 0., 0., 0., 0., 0., 0., 0., 0., 0., 0.,\n",
       "       0., 0., 0., 0., 0., 0., 0., 0., 0., 0., 0., 0., 0., 0., 0., 0., 0.,\n",
       "       0., 0., 0., 0., 0., 0., 0., 0., 0., 0., 0., 0., 0., 0., 0., 0., 0.,\n",
       "       0., 0., 0., 0., 0., 0., 0., 0., 0., 0., 0., 0., 0., 0., 0., 0., 0.,\n",
       "       0., 0., 0., 0., 0., 0., 0., 0., 0., 0., 0., 0., 0., 0., 0., 0., 0.,\n",
       "       0., 0., 0., 0., 0., 0., 0., 0., 0., 0., 0., 0., 0., 0., 0., 0., 0.,\n",
       "       0., 0., 0., 0., 0., 0., 0., 0., 0., 0., 0., 0., 0., 0., 0., 0., 0.,\n",
       "       0., 0., 0., 0., 0., 0., 0., 0., 0., 0., 0., 0., 0., 0., 0., 0., 0.,\n",
       "       0., 0., 0., 0., 0., 0., 0., 0., 0., 0., 0., 0., 0., 0., 0., 0., 0.,\n",
       "       0., 0., 0., 0., 0., 0., 0., 0., 0., 0., 0., 0., 0., 0., 0., 0., 0.,\n",
       "       0., 0., 0., 0., 0., 0., 0., 0., 0., 0., 0., 0., 0., 0., 0., 0., 0.,\n",
       "       0., 0., 0., 0., 0., 0., 0., 0., 0., 0., 0., 0., 0., 0., 0., 0., 0.,\n",
       "       0., 0., 0., 0., 0., 0., 0., 0., 0., 0., 0., 0., 0., 0., 0., 0., 0.,\n",
       "       0., 0., 0., 0., 0., 0., 0., 0., 0., 0., 0., 0., 0., 0., 0., 0., 0.,\n",
       "       0., 0., 0., 0., 0., 0., 0., 0., 0., 0., 0., 0., 0., 0., 0., 0., 0.,\n",
       "       0., 0., 0., 0., 0., 0., 0., 0., 0., 0., 0.], dtype=float32)"
      ]
     },
     "execution_count": 26,
     "metadata": {},
     "output_type": "execute_result"
    }
   ],
   "source": [
    "biases"
   ]
  },
  {
   "cell_type": "code",
   "execution_count": 27,
   "metadata": {},
   "outputs": [
    {
     "data": {
      "text/plain": [
       "(300,)"
      ]
     },
     "execution_count": 27,
     "metadata": {},
     "output_type": "execute_result"
    }
   ],
   "source": [
    "biases.shape"
   ]
  },
  {
   "cell_type": "markdown",
   "metadata": {},
   "source": [
    "- After a model is created, you must call its `compile()` method to specify the loss function and the optimizer to use.\n",
    "    - First, we use the **\"sparse_categorical_crossentropy\" loss** because we have sparse labels (i.e., for each instance there is just a target class index, from 0 to 9 in this case), and the classes are exclusive. \n",
    "        - If instead we had **one target probability per class** for each instance (such as one-hot vectors, e.g. [0., 0., 0., 1., 0., 0., 0., 0., 0., 0.] to represent class 3), then we would need to use the **\"categorical_crossentropy\"** loss instead. \n",
    "        - If we were doing **binary classification** (with one or more binary labels), then we would use the **\"sigmoid\"** (i.e., logistic) activation function in the output layer instead of the \"softmax\" activation function, and we would use the **\"binary_crossentropy\"** loss.\n",
    "    - Secondly, regarding the optimizer, \"sgd\" simply means that we will train the model using simple **Stochastic Gradient Descent**.\n",
    "    - Finally, since this is a classifier, it’s useful to measure its \"accuracy\" during training and evaluation."
   ]
  },
  {
   "cell_type": "code",
   "execution_count": 28,
   "metadata": {},
   "outputs": [],
   "source": [
    "model.compile(loss='sparse_categorical_crossentropy', optimizer='sgd', metrics=['accuracy'])"
   ]
  },
  {
   "cell_type": "code",
   "execution_count": 29,
   "metadata": {},
   "outputs": [
    {
     "name": "stdout",
     "output_type": "stream",
     "text": [
      "Train on 55000 samples, validate on 5000 samples\n",
      "Epoch 1/30\n",
      "55000/55000 [==============================] - 6s 116us/sample - loss: 0.7099 - accuracy: 0.7657 - val_loss: 0.5275 - val_accuracy: 0.8220\n",
      "Epoch 2/30\n",
      "55000/55000 [==============================] - 6s 116us/sample - loss: 0.4871 - accuracy: 0.8300 - val_loss: 0.4448 - val_accuracy: 0.8464\n",
      "Epoch 3/30\n",
      "55000/55000 [==============================] - 6s 111us/sample - loss: 0.4429 - accuracy: 0.8441 - val_loss: 0.4280 - val_accuracy: 0.8540\n",
      "Epoch 4/30\n",
      "55000/55000 [==============================] - 6s 112us/sample - loss: 0.4163 - accuracy: 0.8545 - val_loss: 0.4187 - val_accuracy: 0.8564\n",
      "Epoch 5/30\n",
      "55000/55000 [==============================] - 6s 114us/sample - loss: 0.3960 - accuracy: 0.8623 - val_loss: 0.3792 - val_accuracy: 0.8684\n",
      "Epoch 6/30\n",
      "55000/55000 [==============================] - 6s 112us/sample - loss: 0.3796 - accuracy: 0.8662 - val_loss: 0.3872 - val_accuracy: 0.8626\n",
      "Epoch 7/30\n",
      "55000/55000 [==============================] - 6s 112us/sample - loss: 0.3664 - accuracy: 0.8709 - val_loss: 0.3815 - val_accuracy: 0.8682\n",
      "Epoch 8/30\n",
      "55000/55000 [==============================] - 6s 117us/sample - loss: 0.3540 - accuracy: 0.8749 - val_loss: 0.3532 - val_accuracy: 0.8760\n",
      "Epoch 9/30\n",
      "55000/55000 [==============================] - 7s 119us/sample - loss: 0.3438 - accuracy: 0.8791 - val_loss: 0.3491 - val_accuracy: 0.8806\n",
      "Epoch 10/30\n",
      "55000/55000 [==============================] - 6s 117us/sample - loss: 0.3354 - accuracy: 0.8804 - val_loss: 0.3473 - val_accuracy: 0.8752\n",
      "Epoch 11/30\n",
      "55000/55000 [==============================] - 6s 118us/sample - loss: 0.3254 - accuracy: 0.8842 - val_loss: 0.3353 - val_accuracy: 0.8812\n",
      "Epoch 12/30\n",
      "55000/55000 [==============================] - 6s 114us/sample - loss: 0.3180 - accuracy: 0.8859 - val_loss: 0.3337 - val_accuracy: 0.8812\n",
      "Epoch 13/30\n",
      "55000/55000 [==============================] - 6s 112us/sample - loss: 0.3106 - accuracy: 0.8886 - val_loss: 0.3415 - val_accuracy: 0.8786\n",
      "Epoch 14/30\n",
      "55000/55000 [==============================] - 6s 114us/sample - loss: 0.3049 - accuracy: 0.8906 - val_loss: 0.3397 - val_accuracy: 0.8782\n",
      "Epoch 15/30\n",
      "55000/55000 [==============================] - 6s 113us/sample - loss: 0.2981 - accuracy: 0.8931 - val_loss: 0.3286 - val_accuracy: 0.8820\n",
      "Epoch 16/30\n",
      "55000/55000 [==============================] - 6s 112us/sample - loss: 0.2918 - accuracy: 0.8947 - val_loss: 0.3139 - val_accuracy: 0.8888\n",
      "Epoch 17/30\n",
      "55000/55000 [==============================] - 6s 112us/sample - loss: 0.2858 - accuracy: 0.8967 - val_loss: 0.3129 - val_accuracy: 0.8890\n",
      "Epoch 18/30\n",
      "55000/55000 [==============================] - 6s 113us/sample - loss: 0.2794 - accuracy: 0.9003 - val_loss: 0.3070 - val_accuracy: 0.8930\n",
      "Epoch 19/30\n",
      "55000/55000 [==============================] - 6s 111us/sample - loss: 0.2758 - accuracy: 0.9004 - val_loss: 0.3199 - val_accuracy: 0.8840\n",
      "Epoch 20/30\n",
      "55000/55000 [==============================] - 6s 111us/sample - loss: 0.2686 - accuracy: 0.9038 - val_loss: 0.3206 - val_accuracy: 0.8816\n",
      "Epoch 21/30\n",
      "55000/55000 [==============================] - 6s 111us/sample - loss: 0.2650 - accuracy: 0.9047 - val_loss: 0.3188 - val_accuracy: 0.8862\n",
      "Epoch 22/30\n",
      "55000/55000 [==============================] - 6s 112us/sample - loss: 0.2599 - accuracy: 0.9064 - val_loss: 0.3069 - val_accuracy: 0.8888\n",
      "Epoch 23/30\n",
      "55000/55000 [==============================] - 6s 111us/sample - loss: 0.2561 - accuracy: 0.9083 - val_loss: 0.2965 - val_accuracy: 0.8902\n",
      "Epoch 24/30\n",
      "55000/55000 [==============================] - 6s 111us/sample - loss: 0.2513 - accuracy: 0.9107 - val_loss: 0.3064 - val_accuracy: 0.8914\n",
      "Epoch 25/30\n",
      "55000/55000 [==============================] - 6s 112us/sample - loss: 0.2461 - accuracy: 0.9118 - val_loss: 0.3005 - val_accuracy: 0.8916\n",
      "Epoch 26/30\n",
      "55000/55000 [==============================] - 6s 112us/sample - loss: 0.2427 - accuracy: 0.9126 - val_loss: 0.3140 - val_accuracy: 0.8878\n",
      "Epoch 27/30\n",
      "55000/55000 [==============================] - 6s 112us/sample - loss: 0.2376 - accuracy: 0.9147 - val_loss: 0.3082 - val_accuracy: 0.8892\n",
      "Epoch 28/30\n",
      "55000/55000 [==============================] - 6s 111us/sample - loss: 0.2336 - accuracy: 0.9165 - val_loss: 0.3073 - val_accuracy: 0.8918\n",
      "Epoch 29/30\n",
      "55000/55000 [==============================] - 6s 111us/sample - loss: 0.2311 - accuracy: 0.9164 - val_loss: 0.3003 - val_accuracy: 0.8926\n",
      "Epoch 30/30\n",
      "55000/55000 [==============================] - 6s 111us/sample - loss: 0.2267 - accuracy: 0.9191 - val_loss: 0.2934 - val_accuracy: 0.8892\n"
     ]
    }
   ],
   "source": [
    "history = model.fit(X_train, y_train, epochs=30, validation_data=(X_valid, y_valid))"
   ]
  },
  {
   "cell_type": "code",
   "execution_count": 30,
   "metadata": {},
   "outputs": [
    {
     "data": {
      "text/plain": [
       "{'batch_size': 32,\n",
       " 'epochs': 30,\n",
       " 'steps': 1719,\n",
       " 'samples': 55000,\n",
       " 'verbose': 0,\n",
       " 'do_validation': True,\n",
       " 'metrics': ['loss', 'accuracy', 'val_loss', 'val_accuracy']}"
      ]
     },
     "execution_count": 30,
     "metadata": {},
     "output_type": "execute_result"
    }
   ],
   "source": [
    "history.params"
   ]
  },
  {
   "cell_type": "code",
   "execution_count": 31,
   "metadata": {},
   "outputs": [
    {
     "name": "stdout",
     "output_type": "stream",
     "text": [
      "[0, 1, 2, 3, 4, 5, 6, 7, 8, 9, 10, 11, 12, 13, 14, 15, 16, 17, 18, 19, 20, 21, 22, 23, 24, 25, 26, 27, 28, 29]\n"
     ]
    }
   ],
   "source": [
    "print(history.epoch)"
   ]
  },
  {
   "cell_type": "code",
   "execution_count": 32,
   "metadata": {},
   "outputs": [
    {
     "data": {
      "text/plain": [
       "(0, 1)"
      ]
     },
     "execution_count": 32,
     "metadata": {},
     "output_type": "execute_result"
    },
    {
     "data": {
      "image/png": "[encoded data removed]",
      "text/plain": [
       "<Figure size 576x360 with 1 Axes>"
      ]
     },
     "metadata": {
      "needs_background": "light"
     },
     "output_type": "display_data"
    }
   ],
   "source": [
    "import pandas as pd\n",
    "\n",
    "pd.DataFrame(history.history).plot(figsize=(8, 5))\n",
    "plt.grid(True)\n",
    "plt.gca().set_ylim(0, 1)"
   ]
  },
  {
   "cell_type": "code",
   "execution_count": 33,
   "metadata": {},
   "outputs": [
    {
     "data": {
      "text/plain": [
       "[0.32636287940144537, 0.8829]"
      ]
     },
     "execution_count": 33,
     "metadata": {},
     "output_type": "execute_result"
    }
   ],
   "source": [
    "model.evaluate(X_test, y_test, verbose=0)"
   ]
  },
  {
   "cell_type": "code",
   "execution_count": 34,
   "metadata": {},
   "outputs": [
    {
     "data": {
      "text/plain": [
       "array([[0.  , 0.  , 0.  , 0.  , 0.  , 0.  , 0.  , 0.02, 0.  , 0.98],\n",
       "       [0.  , 0.  , 1.  , 0.  , 0.  , 0.  , 0.  , 0.  , 0.  , 0.  ],\n",
       "       [0.  , 1.  , 0.  , 0.  , 0.  , 0.  , 0.  , 0.  , 0.  , 0.  ]],\n",
       "      dtype=float32)"
      ]
     },
     "execution_count": 34,
     "metadata": {},
     "output_type": "execute_result"
    }
   ],
   "source": [
    "X_new = X_test[:3]\n",
    "y_proba = model.predict(X_new)\n",
    "y_proba.round(2)"
   ]
  },
  {
   "cell_type": "code",
   "execution_count": 35,
   "metadata": {},
   "outputs": [
    {
     "data": {
      "text/plain": [
       "array(['Ankle boot', 'Pullover', 'Trouser'], dtype='<U11')"
      ]
     },
     "execution_count": 35,
     "metadata": {},
     "output_type": "execute_result"
    }
   ],
   "source": [
    "y_pred = model.predict_classes(X_new)\n",
    "np.array(class_names)[y_pred]"
   ]
  },
  {
   "cell_type": "code",
   "execution_count": 36,
   "metadata": {},
   "outputs": [
    {
     "data": {
      "image/png": "[encoded data removed]",
      "text/plain": [
       "<Figure size 518.4x172.8 with 3 Axes>"
      ]
     },
     "metadata": {
      "needs_background": "light"
     },
     "output_type": "display_data"
    }
   ],
   "source": [
    "plt.figure(figsize=(7.2, 2.4))\n",
    "for index, image in enumerate(X_new):\n",
    "    plt.subplot(1, 3, index + 1)\n",
    "    plt.imshow(image, cmap=\"binary\", interpolation=\"nearest\")\n",
    "    plt.axis('off')\n",
    "    plt.title(class_names[y_test[index]], fontsize=12)\n",
    "plt.subplots_adjust(wspace=0.2, hspace=0.5)"
   ]
  },
  {
   "cell_type": "markdown",
   "metadata": {},
   "source": [
    "# Regression MLP\n",
    "- Building, training, evaluating and using a regression MLP using the Sequential API to make predictions is quite similar to what we did for classification. \n",
    "    - The main differences are the fact that the **output layer** has **a single neuron** (since we only want to predict a single value) and uses **no activation function**, and the loss function is the **mean squared error**.\n",
    "- Let's load, sploit, and scale the California Housing dataset."
   ]
  },
  {
   "cell_type": "code",
   "execution_count": 37,
   "metadata": {},
   "outputs": [],
   "source": [
    "from sklearn.datasets import fetch_california_housing\n",
    "from sklearn.model_selection import train_test_split\n",
    "from sklearn.preprocessing import StandardScaler\n",
    "\n",
    "housing = fetch_california_housing()\n",
    "\n",
    "X_train_full, X_test, y_train_full, y_test = train_test_split(housing.data, housing.target, random_state=42)\n",
    "X_train, X_valid, y_train, y_valid = train_test_split(X_train_full, y_train_full, random_state=42)\n",
    "\n",
    "scaler = StandardScaler()\n",
    "X_train = scaler.fit_transform(X_train)\n",
    "X_valid = scaler.fit_transform(X_valid)\n",
    "X_test = scaler.fit_transform(X_test)"
   ]
  },
  {
   "cell_type": "code",
   "execution_count": 38,
   "metadata": {},
   "outputs": [],
   "source": [
    "np.random.seed(42)\n",
    "tf.random.set_seed(42)"
   ]
  },
  {
   "cell_type": "code",
   "execution_count": 39,
   "metadata": {},
   "outputs": [
    {
     "name": "stdout",
     "output_type": "stream",
     "text": [
      "Train on 11610 samples, validate on 3870 samples\n",
      "Epoch 1/30\n",
      "11610/11610 [==============================] - 1s 82us/sample - loss: 1.6321 - val_loss: 0.8146\n",
      "Epoch 2/30\n",
      "11610/11610 [==============================] - 1s 46us/sample - loss: 0.7124 - val_loss: 0.6724\n",
      "Epoch 3/30\n",
      "11610/11610 [==============================] - 1s 47us/sample - loss: 0.6348 - val_loss: 0.6268\n",
      "Epoch 4/30\n",
      "11610/11610 [==============================] - 1s 47us/sample - loss: 0.5983 - val_loss: 0.5935\n",
      "Epoch 5/30\n",
      "11610/11610 [==============================] - 1s 47us/sample - loss: 0.5713 - val_loss: 0.5720\n",
      "Epoch 6/30\n",
      "11610/11610 [==============================] - 1s 46us/sample - loss: 0.5482 - val_loss: 0.5535\n",
      "Epoch 7/30\n",
      "11610/11610 [==============================] - 1s 46us/sample - loss: 0.5298 - val_loss: 0.5394\n",
      "Epoch 8/30\n",
      "11610/11610 [==============================] - 1s 46us/sample - loss: 0.5138 - val_loss: 0.5249\n",
      "Epoch 9/30\n",
      "11610/11610 [==============================] - 1s 46us/sample - loss: 0.5005 - val_loss: 0.5146\n",
      "Epoch 10/30\n",
      "11610/11610 [==============================] - 1s 47us/sample - loss: 0.4884 - val_loss: 0.5048\n",
      "Epoch 11/30\n",
      "11610/11610 [==============================] - 1s 46us/sample - loss: 0.4783 - val_loss: 0.4995\n",
      "Epoch 12/30\n",
      "11610/11610 [==============================] - 1s 47us/sample - loss: 0.4696 - val_loss: 0.4913\n",
      "Epoch 13/30\n",
      "11610/11610 [==============================] - 1s 46us/sample - loss: 0.4621 - val_loss: 0.4871\n",
      "Epoch 14/30\n",
      "11610/11610 [==============================] - 1s 46us/sample - loss: 0.4554 - val_loss: 0.4800\n",
      "Epoch 15/30\n",
      "11610/11610 [==============================] - 1s 46us/sample - loss: 0.4495 - val_loss: 0.4775\n",
      "Epoch 16/30\n",
      "11610/11610 [==============================] - 1s 46us/sample - loss: 0.4443 - val_loss: 0.4717\n",
      "Epoch 17/30\n",
      "11610/11610 [==============================] - 1s 46us/sample - loss: 0.4397 - val_loss: 0.4698\n",
      "Epoch 18/30\n",
      "11610/11610 [==============================] - 1s 49us/sample - loss: 0.4352 - val_loss: 0.4667\n",
      "Epoch 19/30\n",
      "11610/11610 [==============================] - 1s 46us/sample - loss: 0.4316 - val_loss: 0.4627\n",
      "Epoch 20/30\n",
      "11610/11610 [==============================] - 1s 46us/sample - loss: 0.4280 - val_loss: 0.4604\n",
      "Epoch 21/30\n",
      "11610/11610 [==============================] - 1s 46us/sample - loss: 0.4249 - val_loss: 0.4585\n",
      "Epoch 22/30\n",
      "11610/11610 [==============================] - 1s 46us/sample - loss: 0.4219 - val_loss: 0.4564\n",
      "Epoch 23/30\n",
      "11610/11610 [==============================] - 1s 47us/sample - loss: 0.4191 - val_loss: 0.4553\n",
      "Epoch 24/30\n",
      "11610/11610 [==============================] - 1s 46us/sample - loss: 0.4167 - val_loss: 0.4523\n",
      "Epoch 25/30\n",
      "11610/11610 [==============================] - 1s 46us/sample - loss: 0.4143 - val_loss: 0.4529\n",
      "Epoch 26/30\n",
      "11610/11610 [==============================] - 1s 46us/sample - loss: 0.4122 - val_loss: 0.4493\n",
      "Epoch 27/30\n",
      "11610/11610 [==============================] - 1s 46us/sample - loss: 0.4102 - val_loss: 0.4483\n",
      "Epoch 28/30\n",
      "11610/11610 [==============================] - 1s 46us/sample - loss: 0.4083 - val_loss: 0.4482\n",
      "Epoch 29/30\n",
      "11610/11610 [==============================] - 1s 46us/sample - loss: 0.4065 - val_loss: 0.4474\n",
      "Epoch 30/30\n",
      "11610/11610 [==============================] - 1s 46us/sample - loss: 0.4050 - val_loss: 0.4451\n"
     ]
    }
   ],
   "source": [
    "model = keras.Sequential([\n",
    "    keras.layers.Dense(30, activation='relu', input_shape=X_train[0].shape),\n",
    "    keras.layers.Dense(1)\n",
    "])\n",
    "\n",
    "model.compile(loss='mean_squared_error', optimizer=keras.optimizers.SGD(lr=1e-3))\n",
    "history = model.fit(X_train, y_train, epochs=30, validation_data=(X_valid, y_valid))"
   ]
  },
  {
   "cell_type": "code",
   "execution_count": 40,
   "metadata": {},
   "outputs": [
    {
     "data": {
      "text/plain": [
       "0.40478352220483527"
      ]
     },
     "execution_count": 40,
     "metadata": {},
     "output_type": "execute_result"
    }
   ],
   "source": [
    "model.evaluate(X_test, y_test, verbose=0)"
   ]
  },
  {
   "cell_type": "code",
   "execution_count": 41,
   "metadata": {},
   "outputs": [
    {
     "data": {
      "text/plain": [
       "(array([[0.34051526],\n",
       "        [1.8398935 ],\n",
       "        [3.565778  ]], dtype=float32),\n",
       " array([0.477  , 0.458  , 5.00001]))"
      ]
     },
     "execution_count": 41,
     "metadata": {},
     "output_type": "execute_result"
    }
   ],
   "source": [
    "X_new = X_test[:3]\n",
    "y_pred = model.predict(X_new)\n",
    "y_pred, y_test[:3]"
   ]
  },
  {
   "cell_type": "code",
   "execution_count": 42,
   "metadata": {},
   "outputs": [
    {
     "data": {
      "text/plain": [
       "(0, 1)"
      ]
     },
     "execution_count": 42,
     "metadata": {},
     "output_type": "execute_result"
    },
    {
     "data": {
      "image/png": "[encoded data removed]",
      "text/plain": [
       "<Figure size 432x288 with 1 Axes>"
      ]
     },
     "metadata": {
      "needs_background": "light"
     },
     "output_type": "display_data"
    }
   ],
   "source": [
    "plt.plot(pd.DataFrame(history.history))\n",
    "plt.grid(True)\n",
    "plt.gca().set_ylim(0, 1)"
   ]
  },
  {
   "cell_type": "markdown",
   "metadata": {},
   "source": [
    "# Functional API\n",
    "- Not all neural network models are simply sequential.\n",
    "- One example of a non-sequential neural network is a **Wide & Deep neural network**.\n",
    "    - It connects **all or part of the inputs directly to the output layer**.\n",
    "    - This architecture makes it possible for the neural network to learn **both deep patterns (using the deep path) and simple rules (through the short path)**. \n",
    "    - In contrast, a regular MLP forces all the data to flow through the full stack of layers, thus simple patterns in the data may end up being distorted by this sequence of transformations."
   ]
  },
  {
   "cell_type": "code",
   "execution_count": 43,
   "metadata": {},
   "outputs": [],
   "source": [
    "np.random.seed(42)\n",
    "tf.random.set_seed(42)"
   ]
  },
  {
   "cell_type": "markdown",
   "metadata": {},
   "source": [
    "- First, we need to create an **Input object**.\n",
    "    - This is needed because we may have multiple inputs, as we will see later.\n",
    "- Next, we create a **Dense layer** with 30 neurons and using the ReLU activation function. \n",
    "    - As soon as it is created, notice that we **call it like a function**, passing it the input. \n",
    "    - This is why this is called the **Functional API**.\n",
    "- We then create a second hidden layer, and again we use it as a function. \n",
    "    - Note however that we pass it the output of the first hidden layer.\n",
    "- Next, we create a **concatenate() layer**, and once again we immediately use it like a function, to **concatenate the input and the output of the second hidden layer**.\n",
    "- Then we create the **output layer**, with a single neuron and no activation function, and we call it like a function, passing it the result of the concatenation.\n",
    "- Lastly, we create a Keras Model, specifying which inputs and outputs to use."
   ]
  },
  {
   "cell_type": "code",
   "execution_count": 44,
   "metadata": {},
   "outputs": [],
   "source": [
    "input_ = keras.layers.Input(shape=X_train.shape[1:])\n",
    "hidden1 = keras.layers.Dense(30, activation='relu')(input_)\n",
    "hidden2 = keras.layers.Dense(30, activation='relu')(hidden1)\n",
    "concat = keras.layers.concatenate([input_, hidden2])\n",
    "output = keras.layers.Dense(1)(concat)\n",
    "\n",
    "model = keras.models.Model(inputs=[input_], outputs=[output])"
   ]
  },
  {
   "cell_type": "code",
   "execution_count": 45,
   "metadata": {},
   "outputs": [
    {
     "name": "stdout",
     "output_type": "stream",
     "text": [
      "Model: \"model\"\n",
      "__________________________________________________________________________________________________\n",
      "Layer (type)                    Output Shape         Param #     Connected to                     \n",
      "==================================================================================================\n",
      "input_1 (InputLayer)            [(None, 8)]          0                                            \n",
      "__________________________________________________________________________________________________\n",
      "dense_5 (Dense)                 (None, 30)           270         input_1[0][0]                    \n",
      "__________________________________________________________________________________________________\n",
      "dense_6 (Dense)                 (None, 30)           930         dense_5[0][0]                    \n",
      "__________________________________________________________________________________________________\n",
      "concatenate (Concatenate)       (None, 38)           0           input_1[0][0]                    \n",
      "                                                                 dense_6[0][0]                    \n",
      "__________________________________________________________________________________________________\n",
      "dense_7 (Dense)                 (None, 1)            39          concatenate[0][0]                \n",
      "==================================================================================================\n",
      "Total params: 1,239\n",
      "Trainable params: 1,239\n",
      "Non-trainable params: 0\n",
      "__________________________________________________________________________________________________\n"
     ]
    }
   ],
   "source": [
    "model.summary()"
   ]
  },
  {
   "cell_type": "code",
   "execution_count": 46,
   "metadata": {
    "scrolled": true
   },
   "outputs": [
    {
     "name": "stdout",
     "output_type": "stream",
     "text": [
      "Train on 11610 samples, validate on 3870 samples\n",
      "Epoch 1/30\n",
      "11610/11610 [==============================] - 1s 108us/sample - loss: 1.2474 - val_loss: 0.6968\n",
      "Epoch 2/30\n",
      "11610/11610 [==============================] - 1s 56us/sample - loss: 0.6341 - val_loss: 0.6358\n",
      "Epoch 3/30\n",
      "11610/11610 [==============================] - 1s 56us/sample - loss: 0.5885 - val_loss: 0.5949\n",
      "Epoch 4/30\n",
      "11610/11610 [==============================] - 1s 56us/sample - loss: 0.5599 - val_loss: 0.5703\n",
      "Epoch 5/30\n",
      "11610/11610 [==============================] - 1s 57us/sample - loss: 0.5367 - val_loss: 0.5532\n",
      "Epoch 6/30\n",
      "11610/11610 [==============================] - 1s 57us/sample - loss: 0.5170 - val_loss: 0.5344\n",
      "Epoch 7/30\n",
      "11610/11610 [==============================] - 1s 57us/sample - loss: 0.5022 - val_loss: 0.5236\n",
      "Epoch 8/30\n",
      "11610/11610 [==============================] - 1s 57us/sample - loss: 0.4885 - val_loss: 0.5099\n",
      "Epoch 9/30\n",
      "11610/11610 [==============================] - 1s 57us/sample - loss: 0.4778 - val_loss: 0.5012\n",
      "Epoch 10/30\n",
      "11610/11610 [==============================] - 1s 58us/sample - loss: 0.4673 - val_loss: 0.4905\n",
      "Epoch 11/30\n",
      "11610/11610 [==============================] - 1s 56us/sample - loss: 0.4585 - val_loss: 0.4884\n",
      "Epoch 12/30\n",
      "11610/11610 [==============================] - 1s 57us/sample - loss: 0.4508 - val_loss: 0.4774\n",
      "Epoch 13/30\n",
      "11610/11610 [==============================] - 1s 62us/sample - loss: 0.4437 - val_loss: 0.4749\n",
      "Epoch 14/30\n",
      "11610/11610 [==============================] - 1s 57us/sample - loss: 0.4375 - val_loss: 0.4673\n",
      "Epoch 15/30\n",
      "11610/11610 [==============================] - 1s 58us/sample - loss: 0.4316 - val_loss: 0.4665\n",
      "Epoch 16/30\n",
      "11610/11610 [==============================] - 1s 62us/sample - loss: 0.4263 - val_loss: 0.4583\n",
      "Epoch 17/30\n",
      "11610/11610 [==============================] - 1s 60us/sample - loss: 0.4216 - val_loss: 0.4578\n",
      "Epoch 18/30\n",
      "11610/11610 [==============================] - 1s 56us/sample - loss: 0.4168 - val_loss: 0.4544\n",
      "Epoch 19/30\n",
      "11610/11610 [==============================] - 1s 59us/sample - loss: 0.4131 - val_loss: 0.4500\n",
      "Epoch 20/30\n",
      "11610/11610 [==============================] - 1s 62us/sample - loss: 0.4093 - val_loss: 0.4478\n",
      "Epoch 21/30\n",
      "11610/11610 [==============================] - 1s 57us/sample - loss: 0.4059 - val_loss: 0.4459\n",
      "Epoch 22/30\n",
      "11610/11610 [==============================] - 1s 55us/sample - loss: 0.4028 - val_loss: 0.4441\n",
      "Epoch 23/30\n",
      "11610/11610 [==============================] - 1s 55us/sample - loss: 0.3998 - val_loss: 0.4432\n",
      "Epoch 24/30\n",
      "11610/11610 [==============================] - 1s 57us/sample - loss: 0.3973 - val_loss: 0.4399\n",
      "Epoch 25/30\n",
      "11610/11610 [==============================] - 1s 57us/sample - loss: 0.3946 - val_loss: 0.4415\n",
      "Epoch 26/30\n",
      "11610/11610 [==============================] - 1s 57us/sample - loss: 0.3920 - val_loss: 0.4374\n",
      "Epoch 27/30\n",
      "11610/11610 [==============================] - 1s 57us/sample - loss: 0.3900 - val_loss: 0.4367\n",
      "Epoch 28/30\n",
      "11610/11610 [==============================] - 1s 57us/sample - loss: 0.3875 - val_loss: 0.4362\n",
      "Epoch 29/30\n",
      "11610/11610 [==============================] - 1s 57us/sample - loss: 0.3856 - val_loss: 0.4351\n",
      "Epoch 30/30\n",
      "11610/11610 [==============================] - 1s 55us/sample - loss: 0.3837 - val_loss: 0.4338\n"
     ]
    }
   ],
   "source": [
    "model.compile(loss='mean_squared_error', optimizer=keras.optimizers.SGD(lr=1e-3))\n",
    "\n",
    "history = model.fit(X_train, y_train, epochs=30, validation_data=(X_valid, y_valid))"
   ]
  },
  {
   "cell_type": "code",
   "execution_count": 47,
   "metadata": {},
   "outputs": [
    {
     "data": {
      "text/plain": [
       "0.3923840394777845"
      ]
     },
     "execution_count": 47,
     "metadata": {},
     "output_type": "execute_result"
    }
   ],
   "source": [
    "mse_test = model.evaluate(X_test, y_test, verbose=0)\n",
    "mse_test"
   ]
  },
  {
   "cell_type": "markdown",
   "metadata": {},
   "source": [
    "- What if we want to send different subsets of input features through the wide or deep paths?\n",
    "    - We will send 5 features (features 0 to 4) through the wide path, and 6 features (features 2 to 7) through the deep path.\n",
    "    - Note that 3 features (features 2, 3, 4) will go through both."
   ]
  },
  {
   "cell_type": "code",
   "execution_count": 48,
   "metadata": {},
   "outputs": [],
   "source": [
    "np.random.seed(42)\n",
    "tf.random.set_seed(42)"
   ]
  },
  {
   "cell_type": "code",
   "execution_count": 49,
   "metadata": {},
   "outputs": [],
   "source": [
    "input_A = keras.layers.Input(shape=[5], name='wide_input')\n",
    "input_B = keras.layers.Input(shape=[6], name='deep_input')\n",
    "hidden1 = keras.layers.Dense(30, activation='relu')(input_B)\n",
    "hidden2 = keras.layers.Dense(30, activation='relu')(hidden1)\n",
    "concat = keras.layers.concatenate([input_A, hidden2])\n",
    "output = keras.layers.Dense(1, name='output')(concat)\n",
    "model = keras.models.Model(inputs=[input_A, input_B], outputs=[output])"
   ]
  },
  {
   "cell_type": "code",
   "execution_count": 50,
   "metadata": {},
   "outputs": [],
   "source": [
    "model.compile(loss='mse', optimizer=keras.optimizers.SGD(lr=1e-3))"
   ]
  },
  {
   "cell_type": "code",
   "execution_count": 51,
   "metadata": {},
   "outputs": [],
   "source": [
    "X_train_A, X_train_B = X_train[:, :5], X_train[:, 2:]\n",
    "X_valid_A, X_valid_B = X_valid[:, :5], X_valid[:, 2:]\n",
    "X_test_A, X_test_B = X_test[:, :5], X_test[:, 2:]\n",
    "X_new_A, X_new_B = X_test_A[:3], X_test_B[:3]"
   ]
  },
  {
   "cell_type": "code",
   "execution_count": 52,
   "metadata": {},
   "outputs": [
    {
     "name": "stdout",
     "output_type": "stream",
     "text": [
      "Train on 11610 samples, validate on 3870 samples\n",
      "Epoch 1/20\n",
      "11610/11610 [==============================] - 1s 99us/sample - loss: 1.8095 - val_loss: 0.8101\n",
      "Epoch 2/20\n",
      "11610/11610 [==============================] - 1s 59us/sample - loss: 0.6798 - val_loss: 0.6453\n",
      "Epoch 3/20\n",
      "11610/11610 [==============================] - 1s 58us/sample - loss: 0.5957 - val_loss: 0.5978\n",
      "Epoch 4/20\n",
      "11610/11610 [==============================] - 1s 56us/sample - loss: 0.5580 - val_loss: 0.5669\n",
      "Epoch 5/20\n",
      "11610/11610 [==============================] - 1s 57us/sample - loss: 0.5331 - val_loss: 0.5504\n",
      "Epoch 6/20\n",
      "11610/11610 [==============================] - 1s 57us/sample - loss: 0.5124 - val_loss: 0.5346\n",
      "Epoch 7/20\n",
      "11610/11610 [==============================] - 1s 56us/sample - loss: 0.4972 - val_loss: 0.5254\n",
      "Epoch 8/20\n",
      "11610/11610 [==============================] - 1s 60us/sample - loss: 0.4834 - val_loss: 0.5157\n",
      "Epoch 9/20\n",
      "11610/11610 [==============================] - 1s 57us/sample - loss: 0.4746 - val_loss: 0.5065\n",
      "Epoch 10/20\n",
      "11610/11610 [==============================] - 1s 57us/sample - loss: 0.4648 - val_loss: 0.5010\n",
      "Epoch 11/20\n",
      "11610/11610 [==============================] - 1s 58us/sample - loss: 0.4575 - val_loss: 0.5004\n",
      "Epoch 12/20\n",
      "11610/11610 [==============================] - 1s 57us/sample - loss: 0.4520 - val_loss: 0.4932\n",
      "Epoch 13/20\n",
      "11610/11610 [==============================] - 1s 57us/sample - loss: 0.4474 - val_loss: 0.4882\n",
      "Epoch 14/20\n",
      "11610/11610 [==============================] - 1s 57us/sample - loss: 0.4424 - val_loss: 0.4824\n",
      "Epoch 15/20\n",
      "11610/11610 [==============================] - 1s 57us/sample - loss: 0.4389 - val_loss: 0.4845\n",
      "Epoch 16/20\n",
      "11610/11610 [==============================] - 1s 57us/sample - loss: 0.4360 - val_loss: 0.4783\n",
      "Epoch 17/20\n",
      "11610/11610 [==============================] - 1s 57us/sample - loss: 0.4329 - val_loss: 0.4792\n",
      "Epoch 18/20\n",
      "11610/11610 [==============================] - 1s 57us/sample - loss: 0.4300 - val_loss: 0.4766\n",
      "Epoch 19/20\n",
      "11610/11610 [==============================] - 1s 57us/sample - loss: 0.4282 - val_loss: 0.4735\n",
      "Epoch 20/20\n",
      "11610/11610 [==============================] - 1s 57us/sample - loss: 0.4256 - val_loss: 0.4726\n"
     ]
    }
   ],
   "source": [
    "history = model.fit((X_train_A, X_train_B), y_train, epochs=20, validation_data=((X_valid_A, X_valid_B), y_valid))"
   ]
  },
  {
   "cell_type": "code",
   "execution_count": 53,
   "metadata": {},
   "outputs": [
    {
     "data": {
      "text/plain": [
       "0.43282527868137805"
      ]
     },
     "execution_count": 53,
     "metadata": {},
     "output_type": "execute_result"
    }
   ],
   "source": [
    "model.evaluate((X_test_A, X_test_B), y_test, verbose=0)"
   ]
  },
  {
   "cell_type": "markdown",
   "metadata": {},
   "source": [
    "- Adding an **auxiliary output** for regularization\n",
    "    - You may want to add some auxiliary outputs in a neural network architecture to ensure that the underlying part of the network learns something useful on its own, without relying on the rest of the network.\n",
    "- In the code below, we'll add an auxiliary output layer to hidden layer 2, which will show the power of the depth path only."
   ]
  },
  {
   "cell_type": "code",
   "execution_count": 54,
   "metadata": {},
   "outputs": [],
   "source": [
    "input_A = keras.layers.Input(shape=[5], name='wide_input')\n",
    "input_B = keras.layers.Input(shape=[6], name='deep_input')\n",
    "hidden1 = keras.layers.Dense(30, activation='relu')(input_B)\n",
    "hidden2 = keras.layers.Dense(30, activation='relu')(hidden1)\n",
    "concat = keras.layers.concatenate([input_A, hidden2])\n",
    "output = keras.layers.Dense(1, name='main_output')(concat)\n",
    "aux_output = keras.layers.Dense(1, name='aux_output')(hidden2)\n",
    "\n",
    "model = keras.models.Model(inputs=[input_A, input_B], outputs=[output, aux_output])"
   ]
  },
  {
   "cell_type": "code",
   "execution_count": 55,
   "metadata": {},
   "outputs": [],
   "source": [
    "model.compile(loss=['mse', 'mse'], loss_weights=[0.9, 0.1], optimizer=keras.optimizers.SGD(lr=1e-3))"
   ]
  },
  {
   "cell_type": "code",
   "execution_count": 56,
   "metadata": {},
   "outputs": [
    {
     "name": "stdout",
     "output_type": "stream",
     "text": [
      "Train on 11610 samples, validate on 3870 samples\n",
      "Epoch 1/20\n",
      "11610/11610 [==============================] - 2s 147us/sample - loss: 2.0913 - main_output_loss: 1.8435 - aux_output_loss: 4.3144 - val_loss: 1.0987 - val_main_output_loss: 0.8657 - val_aux_output_loss: 3.1942\n",
      "Epoch 2/20\n",
      "11610/11610 [==============================] - 1s 66us/sample - loss: 0.9790 - main_output_loss: 0.7783 - aux_output_loss: 2.7838 - val_loss: 0.8586 - val_main_output_loss: 0.7049 - val_aux_output_loss: 2.2404\n",
      "Epoch 3/20\n",
      "11610/11610 [==============================] - 1s 66us/sample - loss: 0.8065 - main_output_loss: 0.6677 - aux_output_loss: 2.0549 - val_loss: 0.7512 - val_main_output_loss: 0.6377 - val_aux_output_loss: 1.7705\n",
      "Epoch 4/20\n",
      "11610/11610 [==============================] - 1s 67us/sample - loss: 0.7200 - main_output_loss: 0.6113 - aux_output_loss: 1.6969 - val_loss: 0.6929 - val_main_output_loss: 0.5968 - val_aux_output_loss: 1.5567\n",
      "Epoch 5/20\n",
      "11610/11610 [==============================] - 1s 66us/sample - loss: 0.6704 - main_output_loss: 0.5761 - aux_output_loss: 1.5184 - val_loss: 0.6575 - val_main_output_loss: 0.5689 - val_aux_output_loss: 1.4532\n",
      "Epoch 6/20\n",
      "11610/11610 [==============================] - 1s 66us/sample - loss: 0.6359 - main_output_loss: 0.5484 - aux_output_loss: 1.4216 - val_loss: 0.6326 - val_main_output_loss: 0.5486 - val_aux_output_loss: 1.3870\n",
      "Epoch 7/20\n",
      "11610/11610 [==============================] - 1s 66us/sample - loss: 0.6101 - main_output_loss: 0.5272 - aux_output_loss: 1.3567 - val_loss: 0.6145 - val_main_output_loss: 0.5337 - val_aux_output_loss: 1.3403\n",
      "Epoch 8/20\n",
      "11610/11610 [==============================] - 1s 66us/sample - loss: 0.5889 - main_output_loss: 0.5090 - aux_output_loss: 1.3076 - val_loss: 0.5993 - val_main_output_loss: 0.5210 - val_aux_output_loss: 1.3031\n",
      "Epoch 9/20\n",
      "11610/11610 [==============================] - 1s 66us/sample - loss: 0.5731 - main_output_loss: 0.4960 - aux_output_loss: 1.2671 - val_loss: 0.5859 - val_main_output_loss: 0.5093 - val_aux_output_loss: 1.2746\n",
      "Epoch 10/20\n",
      "11610/11610 [==============================] - 1s 66us/sample - loss: 0.5577 - main_output_loss: 0.4825 - aux_output_loss: 1.2335 - val_loss: 0.5749 - val_main_output_loss: 0.5004 - val_aux_output_loss: 1.2447\n",
      "Epoch 11/20\n",
      "11610/11610 [==============================] - 1s 67us/sample - loss: 0.5445 - main_output_loss: 0.4719 - aux_output_loss: 1.1967 - val_loss: 0.5681 - val_main_output_loss: 0.4959 - val_aux_output_loss: 1.2175\n",
      "Epoch 12/20\n",
      "11610/11610 [==============================] - 1s 66us/sample - loss: 0.5345 - main_output_loss: 0.4642 - aux_output_loss: 1.1674 - val_loss: 0.5582 - val_main_output_loss: 0.4880 - val_aux_output_loss: 1.1890\n",
      "Epoch 13/20\n",
      "11610/11610 [==============================] - 1s 67us/sample - loss: 0.5267 - main_output_loss: 0.4587 - aux_output_loss: 1.1407 - val_loss: 0.5516 - val_main_output_loss: 0.4834 - val_aux_output_loss: 1.1644\n",
      "Epoch 14/20\n",
      "11610/11610 [==============================] - 1s 67us/sample - loss: 0.5197 - main_output_loss: 0.4534 - aux_output_loss: 1.1170 - val_loss: 0.5452 - val_main_output_loss: 0.4789 - val_aux_output_loss: 1.1416\n",
      "Epoch 15/20\n",
      "11610/11610 [==============================] - 1s 67us/sample - loss: 0.5138 - main_output_loss: 0.4493 - aux_output_loss: 1.0941 - val_loss: 0.5424 - val_main_output_loss: 0.4779 - val_aux_output_loss: 1.1222\n",
      "Epoch 16/20\n",
      "11610/11610 [==============================] - 1s 66us/sample - loss: 0.5091 - main_output_loss: 0.4463 - aux_output_loss: 1.0746 - val_loss: 0.5365 - val_main_output_loss: 0.4737 - val_aux_output_loss: 1.1011\n",
      "Epoch 17/20\n",
      "11610/11610 [==============================] - 1s 66us/sample - loss: 0.5044 - main_output_loss: 0.4430 - aux_output_loss: 1.0553 - val_loss: 0.5341 - val_main_output_loss: 0.4731 - val_aux_output_loss: 1.0831\n",
      "Epoch 18/20\n",
      "11610/11610 [==============================] - 1s 68us/sample - loss: 0.4998 - main_output_loss: 0.4400 - aux_output_loss: 1.0382 - val_loss: 0.5307 - val_main_output_loss: 0.4713 - val_aux_output_loss: 1.0644\n",
      "Epoch 19/20\n",
      "11610/11610 [==============================] - 1s 65us/sample - loss: 0.4959 - main_output_loss: 0.4377 - aux_output_loss: 1.0201 - val_loss: 0.5269 - val_main_output_loss: 0.4690 - val_aux_output_loss: 1.0472\n",
      "Epoch 20/20\n",
      "11610/11610 [==============================] - 1s 67us/sample - loss: 0.4921 - main_output_loss: 0.4353 - aux_output_loss: 1.0037 - val_loss: 0.5235 - val_main_output_loss: 0.4672 - val_aux_output_loss: 1.0296\n"
     ]
    }
   ],
   "source": [
    "# Note: since here we have two parallel output layers, when fitting the model, \n",
    "# we need to specify two response variabels (identical here), i.e. [y_train, y_train] \n",
    "history = model.fit([X_train_A, X_train_B], [y_train, y_train], epochs=20, \n",
    "                    validation_data=([X_valid_A, X_valid_B], [y_valid, y_valid]))"
   ]
  },
  {
   "cell_type": "code",
   "execution_count": 57,
   "metadata": {},
   "outputs": [],
   "source": [
    "total_loss, main_loss, aux_loss = model.evaluate([X_test_A, X_test_B], [y_test, y_test], verbose=0)"
   ]
  },
  {
   "cell_type": "markdown",
   "metadata": {},
   "source": [
    "# The Subclassing API\n",
    "- Some models involve loops, varying shapes, conditional branching, and other dynamic behaviors.\n",
    "- For such cases, we can use the Subclassing API.\n",
    "- To do this, we simply **subclass the Model class**, **create the layers** you need in the constructor, and use them to perform the computations you want in the `call()` method. \n",
    "- For example, creating an instance of the following `WideAndDeepModel` class gives us an **equivalent model** to the one we just built with the Functional API."
   ]
  },
  {
   "cell_type": "code",
   "execution_count": 58,
   "metadata": {},
   "outputs": [],
   "source": [
    "class WideAndDeepModel (keras.models.Model):\n",
    "    def __init__(self, units=30, activation='relu', **kwargs):\n",
    "        super().__init__(**kwargs)\n",
    "        self.hidden1 = keras.layers.Dense(units, activation=activation)\n",
    "        self.hidden2 = keras.layers.Dense(units, activation=activation)\n",
    "        self.main_output = keras.layers.Dense(1)\n",
    "        self.aux_output = keras.layers.Dense(1)\n",
    "        \n",
    "    def call(self, inputs):\n",
    "        inputA, inputB = inputs\n",
    "        hidden1 = self.hidden1(inputB)\n",
    "        hidden2 = self.hidden2(hidden1)\n",
    "        concat = keras.layers.concatenate([inputA, hidden2])\n",
    "        main_output = self.main_output(concat)\n",
    "        aux_output = self.aux_output(hidden2)\n",
    "        return main_output, aux_output"
   ]
  },
  {
   "cell_type": "code",
   "execution_count": 59,
   "metadata": {},
   "outputs": [],
   "source": [
    "model = WideAndDeepModel(30, activation=\"relu\")"
   ]
  },
  {
   "cell_type": "code",
   "execution_count": 60,
   "metadata": {},
   "outputs": [
    {
     "name": "stdout",
     "output_type": "stream",
     "text": [
      "Train on 11610 samples, validate on 3870 samples\n",
      "Epoch 1/10\n",
      "11610/11610 [==============================] - 2s 150us/sample - loss: 2.5145 - output_1_loss: 2.3428 - output_2_loss: 4.0508 - val_loss: 1.1630 - val_output_1_loss: 0.9863 - val_output_2_loss: 2.7523\n",
      "Epoch 2/10\n",
      "11610/11610 [==============================] - 1s 66us/sample - loss: 0.9865 - output_1_loss: 0.8287 - output_2_loss: 2.4063 - val_loss: 0.8506 - val_output_1_loss: 0.7308 - val_output_2_loss: 1.9273\n",
      "Epoch 3/10\n",
      "11610/11610 [==============================] - 1s 66us/sample - loss: 0.7828 - output_1_loss: 0.6701 - output_2_loss: 1.7954 - val_loss: 0.7448 - val_output_1_loss: 0.6552 - val_output_2_loss: 1.5495\n",
      "Epoch 4/10\n",
      "11610/11610 [==============================] - 1s 67us/sample - loss: 0.6916 - output_1_loss: 0.6026 - output_2_loss: 1.4923 - val_loss: 0.6858 - val_output_1_loss: 0.6101 - val_output_2_loss: 1.3661\n",
      "Epoch 5/10\n",
      "11610/11610 [==============================] - 1s 66us/sample - loss: 0.6362 - output_1_loss: 0.5591 - output_2_loss: 1.3300 - val_loss: 0.6470 - val_output_1_loss: 0.5771 - val_output_2_loss: 1.2757\n",
      "Epoch 6/10\n",
      "11610/11610 [==============================] - 1s 66us/sample - loss: 0.5964 - output_1_loss: 0.5246 - output_2_loss: 1.2418 - val_loss: 0.6186 - val_output_1_loss: 0.5520 - val_output_2_loss: 1.2169\n",
      "Epoch 7/10\n",
      "11610/11610 [==============================] - 1s 67us/sample - loss: 0.5665 - output_1_loss: 0.4986 - output_2_loss: 1.1785 - val_loss: 0.6002 - val_output_1_loss: 0.5364 - val_output_2_loss: 1.1736\n",
      "Epoch 8/10\n",
      "11610/11610 [==============================] - 1s 67us/sample - loss: 0.5440 - output_1_loss: 0.4790 - output_2_loss: 1.1290 - val_loss: 0.5831 - val_output_1_loss: 0.5212 - val_output_2_loss: 1.1399\n",
      "Epoch 9/10\n",
      "11610/11610 [==============================] - 1s 66us/sample - loss: 0.5273 - output_1_loss: 0.4649 - output_2_loss: 1.0894 - val_loss: 0.5689 - val_output_1_loss: 0.5087 - val_output_2_loss: 1.1100\n",
      "Epoch 10/10\n",
      "11610/11610 [==============================] - 1s 66us/sample - loss: 0.5153 - output_1_loss: 0.4551 - output_2_loss: 1.0568 - val_loss: 0.5609 - val_output_1_loss: 0.5029 - val_output_2_loss: 1.0822\n"
     ]
    }
   ],
   "source": [
    "model.compile(loss=\"mse\", loss_weights=[0.9, 0.1], optimizer=keras.optimizers.SGD(lr=1e-3))\n",
    "history = model.fit((X_train_A, X_train_B), (y_train, y_train), epochs=10,\n",
    "                    validation_data=((X_valid_A, X_valid_B), (y_valid, y_valid)))\n",
    "total_loss, main_loss, aux_loss = model.evaluate((X_test_A, X_test_B), (y_test, y_test), verbose=0)"
   ]
  },
  {
   "cell_type": "code",
   "execution_count": 61,
   "metadata": {},
   "outputs": [
    {
     "data": {
      "text/plain": [
       "[<tensorflow.python.keras.layers.core.Dense at 0x7fd393288710>,\n",
       " <tensorflow.python.keras.layers.core.Dense at 0x7fd393288cd0>,\n",
       " <tensorflow.python.keras.layers.core.Dense at 0x7fd393288ad0>,\n",
       " <tensorflow.python.keras.layers.core.Dense at 0x7fd39328a110>]"
      ]
     },
     "execution_count": 61,
     "metadata": {},
     "output_type": "execute_result"
    }
   ],
   "source": [
    "model.layers"
   ]
  },
  {
   "cell_type": "code",
   "execution_count": 62,
   "metadata": {},
   "outputs": [
    {
     "name": "stdout",
     "output_type": "stream",
     "text": [
      "Model: \"wide_and_deep_model\"\n",
      "_________________________________________________________________\n",
      "Layer (type)                 Output Shape              Param #   \n",
      "=================================================================\n",
      "dense_12 (Dense)             multiple                  210       \n",
      "_________________________________________________________________\n",
      "dense_13 (Dense)             multiple                  930       \n",
      "_________________________________________________________________\n",
      "dense_14 (Dense)             multiple                  36        \n",
      "_________________________________________________________________\n",
      "dense_15 (Dense)             multiple                  31        \n",
      "=================================================================\n",
      "Total params: 1,207\n",
      "Trainable params: 1,207\n",
      "Non-trainable params: 0\n",
      "_________________________________________________________________\n"
     ]
    }
   ],
   "source": [
    "model.summary()"
   ]
  },
  {
   "cell_type": "markdown",
   "metadata": {},
   "source": [
    "- From above, we can see that the big difference between using Subclassing and Functional API is that you can do pretty much anything you want in the `call()` method here: for loops, if statements, low-level TensorFlow operations, etc.\n",
    "    - This makes it a great API for researchers experimenting with new ideas.\n",
    "- However, this extra flexibility comes at a cost: your model’s architecture is hidden within the `call()` method, so Keras cannot easily inspect it, it cannot save or clone it, and when you call the `summary()` method, you only get a list of layers, without any information on how they are connected to each other. \n",
    "- Moreover, Keras cannot check types and shapes ahead of time, and it is easier to make mistakes. So unless you really need that extra flexibility, you should probably **stick to the Sequential API or the Functional API**."
   ]
  },
  {
   "cell_type": "markdown",
   "metadata": {},
   "source": [
    "# Saving and Restoring Models"
   ]
  },
  {
   "cell_type": "code",
   "execution_count": 63,
   "metadata": {},
   "outputs": [],
   "source": [
    "np.random.seed(42)\n",
    "tf.random.set_seed(42)"
   ]
  },
  {
   "cell_type": "code",
   "execution_count": 64,
   "metadata": {},
   "outputs": [],
   "source": [
    "model = keras.models.Sequential([\n",
    "    keras.layers.Dense(30, activation='relu', input_shape=[8]),\n",
    "    keras.layers.Dense(30, activation='relu'),\n",
    "    keras.layers.Dense(1)\n",
    "])"
   ]
  },
  {
   "cell_type": "code",
   "execution_count": 65,
   "metadata": {},
   "outputs": [],
   "source": [
    "model.compile(optimizer=keras.optimizers.SGD(lr=1e-3), loss='mse')"
   ]
  },
  {
   "cell_type": "code",
   "execution_count": 66,
   "metadata": {},
   "outputs": [
    {
     "name": "stdout",
     "output_type": "stream",
     "text": [
      "Train on 11610 samples, validate on 3870 samples\n",
      "Epoch 1/10\n",
      "11610/11610 [==============================] - 1s 89us/sample - loss: 1.8631 - val_loss: 0.7804\n",
      "Epoch 2/10\n",
      "11610/11610 [==============================] - 1s 49us/sample - loss: 0.6723 - val_loss: 0.6186\n",
      "Epoch 3/10\n",
      "11610/11610 [==============================] - 1s 49us/sample - loss: 0.5927 - val_loss: 0.5829\n",
      "Epoch 4/10\n",
      "11610/11610 [==============================] - 1s 49us/sample - loss: 0.5550 - val_loss: 0.5511\n",
      "Epoch 5/10\n",
      "11610/11610 [==============================] - 1s 49us/sample - loss: 0.5278 - val_loss: 0.5357\n",
      "Epoch 6/10\n",
      "11610/11610 [==============================] - 1s 49us/sample - loss: 0.5032 - val_loss: 0.5102\n",
      "Epoch 7/10\n",
      "11610/11610 [==============================] - 1s 49us/sample - loss: 0.4863 - val_loss: 0.5011\n",
      "Epoch 8/10\n",
      "11610/11610 [==============================] - 1s 50us/sample - loss: 0.4701 - val_loss: 0.4869\n",
      "Epoch 9/10\n",
      "11610/11610 [==============================] - 1s 49us/sample - loss: 0.4586 - val_loss: 0.4790\n",
      "Epoch 10/10\n",
      "11610/11610 [==============================] - 1s 49us/sample - loss: 0.4476 - val_loss: 0.4697\n"
     ]
    }
   ],
   "source": [
    "history = model.fit(X_train, y_train, epochs=10, validation_data=(X_valid, y_valid))"
   ]
  },
  {
   "cell_type": "code",
   "execution_count": 67,
   "metadata": {},
   "outputs": [],
   "source": [
    "# model.save(\"my_keras_model.h5\")\n",
    "# model = keras.models.load_model(\"my_keras_model.h5\")\n",
    "\n",
    "# model.predict(X_new)\n",
    "\n",
    "# model.save_weights('my_keras_weights.ckpt')\n",
    "# model.load_weights('my_keras_weights.ckpt')"
   ]
  },
  {
   "cell_type": "markdown",
   "metadata": {},
   "source": [
    "# Using Callbacks during Training\n",
    "- To tell the `fit()` method to save checkpoints, we use the **callback** argument.\n",
    "- The `ModelCheckpoint` callback saves checkpoints of your model at regular intervals during training, by default at the end of each epoch.\n",
    "    - Moreover, if you use a validation set during training, you can set `save_best_only=True` when creating the ModelCheckpoint. In this case, it will only save your model when its performance on the validation set is the best so far."
   ]
  },
  {
   "cell_type": "code",
   "execution_count": 68,
   "metadata": {},
   "outputs": [],
   "source": [
    "keras.backend.clear_session()\n",
    "np.random.seed(42)\n",
    "tf.random.set_seed(42)"
   ]
  },
  {
   "cell_type": "code",
   "execution_count": 69,
   "metadata": {},
   "outputs": [],
   "source": [
    "model = keras.models.Sequential([\n",
    "    keras.layers.Dense(30, activation='relu', input_shape=[8]),\n",
    "    keras.layers.Dense(30, activation='relu'),\n",
    "    keras.layers.Dense(1)\n",
    "])"
   ]
  },
  {
   "cell_type": "code",
   "execution_count": 70,
   "metadata": {},
   "outputs": [],
   "source": [
    "model.compile(loss='mse', optimizer=keras.optimizers.SGD(lr=1e-3))"
   ]
  },
  {
   "cell_type": "code",
   "execution_count": 71,
   "metadata": {},
   "outputs": [],
   "source": [
    "checkpoint_cb = keras.callbacks.ModelCheckpoint(\"my_keras_model.h5\", save_best_only=True)"
   ]
  },
  {
   "cell_type": "code",
   "execution_count": 72,
   "metadata": {},
   "outputs": [],
   "source": [
    "# history = model.fit(X_train, y_train, epochs=10, validation_data=(X_valid, y_valid),\n",
    "#                    callbacks=[checkpoint_cb])"
   ]
  },
  {
   "cell_type": "code",
   "execution_count": 73,
   "metadata": {},
   "outputs": [],
   "source": [
    "# model = keras.models.load_model(\"my_keras_model.h5\")\n",
    "# model.evaluate(X_test, y_test)"
   ]
  },
  {
   "cell_type": "markdown",
   "metadata": {},
   "source": [
    "- Another way to implement early stopping is to simply use the **EarlyStopping callback**.\n",
    "- It will interrupt training when it measures no progress on the validation set for a number of epochs (defined by the `patience` argument), and it will optionally roll back to the best model."
   ]
  },
  {
   "cell_type": "code",
   "execution_count": 74,
   "metadata": {},
   "outputs": [],
   "source": [
    "model.compile(loss='mse', optimizer=keras.optimizers.SGD(lr=1e-3))\n",
    "\n",
    "early_stopping_cb = keras.callbacks.EarlyStopping(patience=10, restore_best_weights=True)\n",
    "\n",
    "# history = model.fit(X_train, y_train, validation_data=(X_valid, y_valid), epochs=100, \n",
    "#                    callbacks=[checkpoint_cb, early_stopping_cb])\n",
    "# model.evaluate(X_test, y_test)"
   ]
  },
  {
   "cell_type": "markdown",
   "metadata": {},
   "source": [
    "# Fine-Tuning Neural Network Hyperparameters \n",
    "- One option is to simply **try many combinations of hyperparameters** and see which one works best on the validation set (or using K-fold cross-validation). \n",
    "    - For this, one approach is simply use `GridSearchCV` or `RandomizedSearchCV` to explore the hyperparameter space, as we did in Chapter 2. \n",
    "    - For this, we need to wrap our Keras models in objects that mimic regular Scikit-Learn regressors. \n",
    "\n",
    "\n",
    "\n",
    "- The first step is to create a function that will build and compile a Keras model, given a set of hyperparameters."
   ]
  },
  {
   "cell_type": "code",
   "execution_count": 75,
   "metadata": {},
   "outputs": [],
   "source": [
    "def build_model(n_hidden=1, n_neurons=30, learning_rate=3e-3, input_shape=[8]):\n",
    "    model = keras.models.Sequential()\n",
    "    model.add(keras.layers.InputLayer(input_shape=input_shape))\n",
    "    for layer in range(n_hidden):\n",
    "        model.add(keras.layers.Dense(n_neurons, activation='relu'))\n",
    "    model.add(keras.layers.Dense(1))\n",
    "    optimizer=keras.optimizers.SGD(lr=learning_rate)\n",
    "    model.compile(loss='mse', optimizer=optimizer)\n",
    "    return model"
   ]
  },
  {
   "cell_type": "markdown",
   "metadata": {},
   "source": [
    "- Next, let’s create a `KerasRegressor` based on this `build_model()` function."
   ]
  },
  {
   "cell_type": "code",
   "execution_count": 76,
   "metadata": {},
   "outputs": [],
   "source": [
    "keras_reg = keras.wrappers.scikit_learn.KerasRegressor(build_model)"
   ]
  },
  {
   "cell_type": "markdown",
   "metadata": {},
   "source": [
    "- Now we can use this object like a regular Scikit-Learn regressor: \n",
    "    - We can train it using its `fit()` method, then evaluate it using its `score()` method, and use it to make predictions using its `predict()` method."
   ]
  },
  {
   "cell_type": "code",
   "execution_count": 77,
   "metadata": {},
   "outputs": [
    {
     "name": "stdout",
     "output_type": "stream",
     "text": [
      "Train on 11610 samples, validate on 3870 samples\n",
      "Epoch 1/100\n",
      "11610/11610 [==============================] - 1s 95us/sample - loss: 1.1574 - val_loss: 0.7626\n",
      "Epoch 2/100\n",
      "11610/11610 [==============================] - 1s 45us/sample - loss: 0.6511 - val_loss: 0.5926\n",
      "Epoch 3/100\n",
      "11610/11610 [==============================] - 1s 45us/sample - loss: 0.5236 - val_loss: 0.5494\n",
      "Epoch 4/100\n",
      "11610/11610 [==============================] - 1s 45us/sample - loss: 0.4881 - val_loss: 0.5211\n",
      "Epoch 5/100\n",
      "11610/11610 [==============================] - 1s 45us/sample - loss: 0.4650 - val_loss: 0.5012\n",
      "Epoch 6/100\n",
      "11610/11610 [==============================] - 1s 46us/sample - loss: 0.4489 - val_loss: 0.4895\n",
      "Epoch 7/100\n",
      "11610/11610 [==============================] - 1s 48us/sample - loss: 0.4371 - val_loss: 0.4791\n",
      "Epoch 8/100\n",
      "11610/11610 [==============================] - 1s 45us/sample - loss: 0.4293 - val_loss: 0.4713\n",
      "Epoch 9/100\n",
      "11610/11610 [==============================] - 1s 45us/sample - loss: 0.4228 - val_loss: 0.4628\n",
      "Epoch 10/100\n",
      "11610/11610 [==============================] - 1s 45us/sample - loss: 0.4175 - val_loss: 0.4586\n",
      "Epoch 11/100\n",
      "11610/11610 [==============================] - 1s 45us/sample - loss: 0.4128 - val_loss: 0.4629\n",
      "Epoch 12/100\n",
      "11610/11610 [==============================] - 1s 47us/sample - loss: 0.4100 - val_loss: 0.4518\n",
      "Epoch 13/100\n",
      "11610/11610 [==============================] - 1s 45us/sample - loss: 0.4063 - val_loss: 0.4520\n",
      "Epoch 14/100\n",
      "11610/11610 [==============================] - 1s 45us/sample - loss: 0.4036 - val_loss: 0.4491\n",
      "Epoch 15/100\n",
      "11610/11610 [==============================] - 1s 45us/sample - loss: 0.4004 - val_loss: 0.4483\n",
      "Epoch 16/100\n",
      "11610/11610 [==============================] - 1s 45us/sample - loss: 0.3975 - val_loss: 0.4431\n",
      "Epoch 17/100\n",
      "11610/11610 [==============================] - 1s 45us/sample - loss: 0.3958 - val_loss: 0.4462\n",
      "Epoch 18/100\n",
      "11610/11610 [==============================] - 1s 45us/sample - loss: 0.3929 - val_loss: 0.4431\n",
      "Epoch 19/100\n",
      "11610/11610 [==============================] - 1s 45us/sample - loss: 0.3915 - val_loss: 0.4415\n",
      "Epoch 20/100\n",
      "11610/11610 [==============================] - 1s 45us/sample - loss: 0.3895 - val_loss: 0.4398\n",
      "Epoch 21/100\n",
      "11610/11610 [==============================] - 1s 45us/sample - loss: 0.3881 - val_loss: 0.4398\n",
      "Epoch 22/100\n",
      "11610/11610 [==============================] - 1s 45us/sample - loss: 0.3863 - val_loss: 0.4379\n",
      "Epoch 23/100\n",
      "11610/11610 [==============================] - 1s 46us/sample - loss: 0.3844 - val_loss: 0.4391\n",
      "Epoch 24/100\n",
      "11610/11610 [==============================] - 1s 45us/sample - loss: 0.3834 - val_loss: 0.4353\n",
      "Epoch 25/100\n",
      "11610/11610 [==============================] - 1s 45us/sample - loss: 0.3818 - val_loss: 0.4367\n",
      "Epoch 26/100\n",
      "11610/11610 [==============================] - 1s 45us/sample - loss: 0.3799 - val_loss: 0.4325\n",
      "Epoch 27/100\n",
      "11610/11610 [==============================] - 1s 45us/sample - loss: 0.3794 - val_loss: 0.4341\n",
      "Epoch 28/100\n",
      "11610/11610 [==============================] - 1s 46us/sample - loss: 0.3776 - val_loss: 0.4348\n",
      "Epoch 29/100\n",
      "11610/11610 [==============================] - 1s 48us/sample - loss: 0.3766 - val_loss: 0.4327\n",
      "Epoch 30/100\n",
      "11610/11610 [==============================] - 1s 45us/sample - loss: 0.3754 - val_loss: 0.4337\n",
      "Epoch 31/100\n",
      "11610/11610 [==============================] - 1s 45us/sample - loss: 0.3741 - val_loss: 0.4308\n",
      "Epoch 32/100\n",
      "11610/11610 [==============================] - 1s 45us/sample - loss: 0.3732 - val_loss: 0.4315\n",
      "Epoch 33/100\n",
      "11610/11610 [==============================] - 1s 45us/sample - loss: 0.3720 - val_loss: 0.4288\n",
      "Epoch 34/100\n",
      "11610/11610 [==============================] - 1s 45us/sample - loss: 0.3716 - val_loss: 0.4297\n",
      "Epoch 35/100\n",
      "11610/11610 [==============================] - 1s 45us/sample - loss: 0.3706 - val_loss: 0.4294\n",
      "Epoch 36/100\n",
      "11610/11610 [==============================] - 1s 45us/sample - loss: 0.3692 - val_loss: 0.4317\n",
      "Epoch 37/100\n",
      "11610/11610 [==============================] - 1s 45us/sample - loss: 0.3680 - val_loss: 0.4300\n",
      "Epoch 38/100\n",
      "11610/11610 [==============================] - 1s 46us/sample - loss: 0.3676 - val_loss: 0.4302\n",
      "Epoch 39/100\n",
      "11610/11610 [==============================] - 1s 45us/sample - loss: 0.3667 - val_loss: 0.4288\n",
      "Epoch 40/100\n",
      "11610/11610 [==============================] - 1s 45us/sample - loss: 0.3659 - val_loss: 0.4304\n",
      "Epoch 41/100\n",
      "11610/11610 [==============================] - 1s 47us/sample - loss: 0.3645 - val_loss: 0.4244\n",
      "Epoch 42/100\n",
      "11610/11610 [==============================] - 1s 45us/sample - loss: 0.3640 - val_loss: 0.4271\n",
      "Epoch 43/100\n",
      "11610/11610 [==============================] - 1s 45us/sample - loss: 0.3629 - val_loss: 0.4269\n",
      "Epoch 44/100\n",
      "11610/11610 [==============================] - 1s 46us/sample - loss: 0.3624 - val_loss: 0.4277\n",
      "Epoch 45/100\n",
      "11610/11610 [==============================] - 1s 45us/sample - loss: 0.3613 - val_loss: 0.4268\n",
      "Epoch 46/100\n",
      "11610/11610 [==============================] - 1s 45us/sample - loss: 0.3609 - val_loss: 0.4243\n",
      "Epoch 47/100\n",
      "11610/11610 [==============================] - 1s 45us/sample - loss: 0.3602 - val_loss: 0.4234\n",
      "Epoch 48/100\n",
      "11610/11610 [==============================] - 1s 45us/sample - loss: 0.3593 - val_loss: 0.4281\n",
      "Epoch 49/100\n",
      "11610/11610 [==============================] - 1s 45us/sample - loss: 0.3577 - val_loss: 0.4275\n",
      "Epoch 50/100\n",
      "11610/11610 [==============================] - 1s 45us/sample - loss: 0.3569 - val_loss: 0.4241\n",
      "Epoch 51/100\n",
      "11610/11610 [==============================] - 1s 45us/sample - loss: 0.3564 - val_loss: 0.4250\n",
      "Epoch 52/100\n",
      "11610/11610 [==============================] - 1s 45us/sample - loss: 0.3561 - val_loss: 0.4251\n",
      "Epoch 53/100\n",
      "11610/11610 [==============================] - 1s 45us/sample - loss: 0.3549 - val_loss: 0.4264\n",
      "Epoch 54/100\n",
      "11610/11610 [==============================] - 1s 45us/sample - loss: 0.3546 - val_loss: 0.4238\n",
      "Epoch 55/100\n",
      "11610/11610 [==============================] - 1s 45us/sample - loss: 0.3559 - val_loss: 0.4231\n",
      "Epoch 56/100\n",
      "11610/11610 [==============================] - 1s 45us/sample - loss: 0.3536 - val_loss: 0.4224\n",
      "Epoch 57/100\n",
      "11610/11610 [==============================] - 1s 45us/sample - loss: 0.3527 - val_loss: 0.4216\n",
      "Epoch 58/100\n",
      "11610/11610 [==============================] - 1s 45us/sample - loss: 0.3530 - val_loss: 0.4232\n",
      "Epoch 59/100\n",
      "11610/11610 [==============================] - 1s 46us/sample - loss: 0.3527 - val_loss: 0.4265\n",
      "Epoch 60/100\n",
      "11610/11610 [==============================] - 1s 45us/sample - loss: 0.3518 - val_loss: 0.4233\n",
      "Epoch 61/100\n",
      "11610/11610 [==============================] - 1s 45us/sample - loss: 0.3517 - val_loss: 0.4244\n",
      "Epoch 62/100\n",
      "11610/11610 [==============================] - 1s 45us/sample - loss: 0.3503 - val_loss: 0.4268\n",
      "Epoch 63/100\n",
      "11610/11610 [==============================] - 1s 45us/sample - loss: 0.3522 - val_loss: 0.4235\n",
      "Epoch 64/100\n",
      "11610/11610 [==============================] - 1s 45us/sample - loss: 0.3502 - val_loss: 0.4243\n",
      "Epoch 65/100\n",
      "11610/11610 [==============================] - 1s 45us/sample - loss: 0.3501 - val_loss: 0.4219\n",
      "Epoch 66/100\n",
      "11610/11610 [==============================] - 1s 45us/sample - loss: 0.3503 - val_loss: 0.4192\n",
      "Epoch 67/100\n",
      "11610/11610 [==============================] - 1s 45us/sample - loss: 0.3485 - val_loss: 0.4221\n",
      "Epoch 68/100\n",
      "11610/11610 [==============================] - 1s 45us/sample - loss: 0.3474 - val_loss: 0.4244\n",
      "Epoch 69/100\n",
      "11610/11610 [==============================] - 1s 46us/sample - loss: 0.3481 - val_loss: 0.4270\n",
      "Epoch 70/100\n",
      "11610/11610 [==============================] - 1s 45us/sample - loss: 0.3482 - val_loss: 0.4228\n",
      "Epoch 71/100\n",
      "11610/11610 [==============================] - 1s 45us/sample - loss: 0.3469 - val_loss: 0.4190\n",
      "Epoch 72/100\n",
      "11610/11610 [==============================] - 1s 45us/sample - loss: 0.3458 - val_loss: 0.4212\n",
      "Epoch 73/100\n",
      "11610/11610 [==============================] - 1s 45us/sample - loss: 0.3458 - val_loss: 0.4211\n",
      "Epoch 74/100\n",
      "11610/11610 [==============================] - 1s 46us/sample - loss: 0.3453 - val_loss: 0.4200\n",
      "Epoch 75/100\n",
      "11610/11610 [==============================] - 1s 46us/sample - loss: 0.3441 - val_loss: 0.4170\n"
     ]
    },
    {
     "name": "stdout",
     "output_type": "stream",
     "text": [
      "Epoch 76/100\n",
      "11610/11610 [==============================] - 1s 45us/sample - loss: 0.3447 - val_loss: 0.4181\n",
      "Epoch 77/100\n",
      "11610/11610 [==============================] - 1s 45us/sample - loss: 0.3443 - val_loss: 0.4174\n",
      "Epoch 78/100\n",
      "11610/11610 [==============================] - 1s 45us/sample - loss: 0.3431 - val_loss: 0.4189\n",
      "Epoch 79/100\n",
      "11610/11610 [==============================] - 1s 46us/sample - loss: 0.3440 - val_loss: 0.4172\n",
      "Epoch 80/100\n",
      "11610/11610 [==============================] - 1s 45us/sample - loss: 0.3423 - val_loss: 0.4242\n",
      "Epoch 81/100\n",
      "11610/11610 [==============================] - 1s 45us/sample - loss: 0.3432 - val_loss: 0.4189\n",
      "Epoch 82/100\n",
      "11610/11610 [==============================] - 1s 45us/sample - loss: 0.3428 - val_loss: 0.4159\n",
      "Epoch 83/100\n",
      "11610/11610 [==============================] - 1s 45us/sample - loss: 0.3428 - val_loss: 0.4153\n",
      "Epoch 84/100\n",
      "11610/11610 [==============================] - 1s 45us/sample - loss: 0.3412 - val_loss: 0.4179\n",
      "Epoch 85/100\n",
      "11610/11610 [==============================] - 1s 47us/sample - loss: 0.3421 - val_loss: 0.4183\n",
      "Epoch 86/100\n",
      "11610/11610 [==============================] - 1s 47us/sample - loss: 0.3424 - val_loss: 0.4213\n",
      "Epoch 87/100\n",
      "11610/11610 [==============================] - 1s 45us/sample - loss: 0.3401 - val_loss: 0.4204\n",
      "Epoch 88/100\n",
      "11610/11610 [==============================] - 1s 45us/sample - loss: 0.3409 - val_loss: 0.4160\n",
      "Epoch 89/100\n",
      "11610/11610 [==============================] - 1s 45us/sample - loss: 0.3400 - val_loss: 0.4165\n",
      "Epoch 90/100\n",
      "11610/11610 [==============================] - 1s 45us/sample - loss: 0.3401 - val_loss: 0.4177\n",
      "Epoch 91/100\n",
      "11610/11610 [==============================] - 1s 45us/sample - loss: 0.3391 - val_loss: 0.4162\n",
      "Epoch 92/100\n",
      "11610/11610 [==============================] - 1s 46us/sample - loss: 0.3390 - val_loss: 0.4193\n",
      "Epoch 93/100\n",
      "11610/11610 [==============================] - 1s 45us/sample - loss: 0.3396 - val_loss: 0.4127\n",
      "Epoch 94/100\n",
      "11610/11610 [==============================] - 1s 45us/sample - loss: 0.3385 - val_loss: 0.4151\n",
      "Epoch 95/100\n",
      "11610/11610 [==============================] - 1s 45us/sample - loss: 0.3377 - val_loss: 0.4163\n",
      "Epoch 96/100\n",
      "11610/11610 [==============================] - 1s 45us/sample - loss: 0.3402 - val_loss: 0.4207\n",
      "Epoch 97/100\n",
      "11610/11610 [==============================] - 1s 45us/sample - loss: 0.3389 - val_loss: 0.4196\n",
      "Epoch 98/100\n",
      "11610/11610 [==============================] - 1s 46us/sample - loss: 0.3396 - val_loss: 0.4158\n",
      "Epoch 99/100\n",
      "11610/11610 [==============================] - 1s 45us/sample - loss: 0.3372 - val_loss: 0.4160\n",
      "Epoch 100/100\n",
      "11610/11610 [==============================] - 1s 45us/sample - loss: 0.3381 - val_loss: 0.4186\n"
     ]
    },
    {
     "data": {
      "text/plain": [
       "<tensorflow.python.keras.callbacks.History at 0x7fd376391190>"
      ]
     },
     "execution_count": 77,
     "metadata": {},
     "output_type": "execute_result"
    }
   ],
   "source": [
    "keras_reg.fit(X_train, y_train, validation_data=(X_valid, y_valid), epochs=100)"
   ]
  },
  {
   "cell_type": "code",
   "execution_count": 78,
   "metadata": {},
   "outputs": [
    {
     "data": {
      "text/plain": [
       "-0.38290873132934866"
      ]
     },
     "execution_count": 78,
     "metadata": {},
     "output_type": "execute_result"
    }
   ],
   "source": [
    "keras_reg.score(X_test, y_test, verbose=0)"
   ]
  },
  {
   "cell_type": "markdown",
   "metadata": {},
   "source": [
    "- Now, let's search for the best combinations of hyperparameters using `RandomizedSearchCV`."
   ]
  },
  {
   "cell_type": "code",
   "execution_count": 79,
   "metadata": {},
   "outputs": [],
   "source": [
    "np.random.seed(42)\n",
    "tf.random.set_seed(42)"
   ]
  },
  {
   "cell_type": "code",
   "execution_count": 80,
   "metadata": {},
   "outputs": [],
   "source": [
    "from scipy.stats import reciprocal\n",
    "from sklearn.model_selection import RandomizedSearchCV"
   ]
  },
  {
   "cell_type": "code",
   "execution_count": 81,
   "metadata": {},
   "outputs": [],
   "source": [
    "param_distribs = {\n",
    "    \"n_hidden\":[0, 1, 2, 3],\n",
    "    \"n_neurons\":np.arange(1, 100),\n",
    "    \"learning_rate\": reciprocal(3e-4, 3e-2)\n",
    "}"
   ]
  },
  {
   "cell_type": "code",
   "execution_count": 82,
   "metadata": {},
   "outputs": [],
   "source": [
    "rnd_search_cv = RandomizedSearchCV(keras_reg, param_distribs, n_iter=10, cv=3, verbose=2)\n",
    "# rnd_search_cv.fit(X_train, y_train, epochs=100, validation_data=(X_valid, y_valid))"
   ]
  },
  {
   "cell_type": "code",
   "execution_count": 83,
   "metadata": {},
   "outputs": [],
   "source": [
    "# rnd_search_cv.best_params_"
   ]
  },
  {
   "cell_type": "code",
   "execution_count": 84,
   "metadata": {},
   "outputs": [],
   "source": [
    "# rnd_search_cv.best_score_"
   ]
  },
  {
   "cell_type": "code",
   "execution_count": 85,
   "metadata": {},
   "outputs": [],
   "source": [
    "# rnd_search_cv.best_index_"
   ]
  },
  {
   "cell_type": "code",
   "execution_count": 86,
   "metadata": {},
   "outputs": [],
   "source": [
    "best_model = keras.models.Sequential([\n",
    "    keras.layers.Dense(42, activation='relu', input_shape=[8]),\n",
    "    keras.layers.Dense(42, activation='relu'),\n",
    "    keras.layers.Dense(1)\n",
    "])\n",
    "\n",
    "best_model.compile(loss='mse', optimizer=keras.optimizers.SGD(lr=0.0033625641252688094))"
   ]
  },
  {
   "cell_type": "code",
   "execution_count": 87,
   "metadata": {},
   "outputs": [
    {
     "name": "stdout",
     "output_type": "stream",
     "text": [
      "Train on 11610 samples, validate on 3870 samples\n",
      "Epoch 1/10\n",
      "11610/11610 [==============================] - 1s 90us/sample - loss: 1.0703 - val_loss: 0.6718\n",
      "Epoch 2/10\n",
      "11610/11610 [==============================] - 1s 50us/sample - loss: 0.5730 - val_loss: 0.5501\n",
      "Epoch 3/10\n",
      "11610/11610 [==============================] - 1s 50us/sample - loss: 0.4771 - val_loss: 0.4837\n",
      "Epoch 4/10\n",
      "11610/11610 [==============================] - 1s 50us/sample - loss: 0.4299 - val_loss: 0.4626\n",
      "Epoch 5/10\n",
      "11610/11610 [==============================] - 1s 50us/sample - loss: 0.4087 - val_loss: 0.4472\n",
      "Epoch 6/10\n",
      "11610/11610 [==============================] - 1s 50us/sample - loss: 0.3937 - val_loss: 0.4408\n",
      "Epoch 7/10\n",
      "11610/11610 [==============================] - 1s 50us/sample - loss: 0.3843 - val_loss: 0.4342\n",
      "Epoch 8/10\n",
      "11610/11610 [==============================] - 1s 51us/sample - loss: 0.3778 - val_loss: 0.4367\n",
      "Epoch 9/10\n",
      "11610/11610 [==============================] - 1s 50us/sample - loss: 0.3734 - val_loss: 0.4291\n",
      "Epoch 10/10\n",
      "11610/11610 [==============================] - 1s 50us/sample - loss: 0.3675 - val_loss: 0.4281\n"
     ]
    },
    {
     "data": {
      "text/plain": [
       "<tensorflow.python.keras.callbacks.History at 0x7fd393a79150>"
      ]
     },
     "execution_count": 87,
     "metadata": {},
     "output_type": "execute_result"
    }
   ],
   "source": [
    "best_model.fit(X_train, y_train, validation_data=(X_valid, y_valid), epochs=10)"
   ]
  },
  {
   "cell_type": "code",
   "execution_count": 88,
   "metadata": {},
   "outputs": [
    {
     "data": {
      "text/plain": [
       "0.3892289841128874"
      ]
     },
     "execution_count": 88,
     "metadata": {},
     "output_type": "execute_result"
    }
   ],
   "source": [
    "best_model.evaluate(X_test, y_test, verbose=0)"
   ]
  },
  {
   "cell_type": "markdown",
   "metadata": {},
   "source": [
    "# Exercises"
   ]
  },
  {
   "cell_type": "markdown",
   "metadata": {},
   "source": [
    "## 10. \n",
    "- Train a deep MLP on the MNIST dataset (you can load it using `keras.datasets.mnist.load_data()`. See if you can get over 98% precision. \n",
    "- Try searching for the optimal learning rate by using the approach presented in this chapter (i.e., by growing the learning rate exponentially, plotting the loss, and finding the point where the loss shoots up). \n",
    "- Try adding all the bells and whistles—save checkpoints, use early stopping, and plot learning curves using TensorBoard."
   ]
  },
  {
   "cell_type": "code",
   "execution_count": 89,
   "metadata": {},
   "outputs": [],
   "source": [
    "(X_train_full, y_train_full), (X_test, y_test) = keras.datasets.mnist.load_data()"
   ]
  },
  {
   "cell_type": "code",
   "execution_count": 90,
   "metadata": {},
   "outputs": [
    {
     "data": {
      "text/plain": [
       "(60000, 28, 28)"
      ]
     },
     "execution_count": 90,
     "metadata": {},
     "output_type": "execute_result"
    }
   ],
   "source": [
    "X_train_full.shape"
   ]
  },
  {
   "cell_type": "code",
   "execution_count": 91,
   "metadata": {},
   "outputs": [
    {
     "data": {
      "text/plain": [
       "dtype('uint8')"
      ]
     },
     "execution_count": 91,
     "metadata": {},
     "output_type": "execute_result"
    }
   ],
   "source": [
    "X_train_full.dtype"
   ]
  },
  {
   "cell_type": "code",
   "execution_count": 92,
   "metadata": {},
   "outputs": [],
   "source": [
    "X_valid, X_train = X_train_full[:5000] / 255., X_train_full[5000:] / 255.\n",
    "y_valid, y_train = y_train_full[:5000], y_train_full[5000:]\n",
    "X_test = X_test / 255."
   ]
  },
  {
   "cell_type": "code",
   "execution_count": 93,
   "metadata": {},
   "outputs": [
    {
     "data": {
      "text/plain": [
       "<matplotlib.image.AxesImage at 0x7fd3750849d0>"
      ]
     },
     "execution_count": 93,
     "metadata": {},
     "output_type": "execute_result"
    },
    {
     "data": {
      "image/png": "[encoded data removed]",
      "text/plain": [
       "<Figure size 432x288 with 1 Axes>"
      ]
     },
     "metadata": {
      "needs_background": "light"
     },
     "output_type": "display_data"
    }
   ],
   "source": [
    "plt.imshow(X_train[0], cmap='binary')"
   ]
  },
  {
   "cell_type": "code",
   "execution_count": 94,
   "metadata": {},
   "outputs": [
    {
     "data": {
      "text/plain": [
       "array([7, 3, 4, ..., 5, 6, 8], dtype=uint8)"
      ]
     },
     "execution_count": 94,
     "metadata": {},
     "output_type": "execute_result"
    }
   ],
   "source": [
    "y_train"
   ]
  },
  {
   "cell_type": "code",
   "execution_count": 95,
   "metadata": {},
   "outputs": [
    {
     "data": {
      "text/plain": [
       "(5000, 28, 28)"
      ]
     },
     "execution_count": 95,
     "metadata": {},
     "output_type": "execute_result"
    }
   ],
   "source": [
    "X_valid.shape"
   ]
  },
  {
   "cell_type": "code",
   "execution_count": 96,
   "metadata": {},
   "outputs": [
    {
     "data": {
      "image/png": "[encoded data removed]",
      "text/plain": [
       "<Figure size 864x345.6 with 40 Axes>"
      ]
     },
     "metadata": {
      "needs_background": "light"
     },
     "output_type": "display_data"
    }
   ],
   "source": [
    "n_rows = 4\n",
    "n_cols = 10\n",
    "\n",
    "plt.figure(figsize=(n_cols * 1.2, n_rows * 1.2))\n",
    "\n",
    "for row in range(n_rows):\n",
    "    for col in range(n_cols):\n",
    "        index = n_cols*row + col\n",
    "        plt.subplot(n_rows, n_cols, index+1)\n",
    "        plt.imshow(X_train[index], cmap='binary', interpolation='nearest')\n",
    "        plt.axis('off')\n",
    "        plt.title(y_train[index], fontsize=12)\n",
    "plt.subplots_adjust(wspace=0.2, hspace=0.5)"
   ]
  },
  {
   "cell_type": "markdown",
   "metadata": {},
   "source": [
    "- Now, let's build a simple dense network and find the optimal learning rate.\n",
    "- We'll need a callback to grow the learning rate at each iteration. It will also record the learning rate and the loss at each iteration."
   ]
  },
  {
   "cell_type": "code",
   "execution_count": 97,
   "metadata": {},
   "outputs": [],
   "source": [
    "K = keras.backend\n",
    "\n",
    "class ExponentialLearningRate(keras.callbacks.Callback):\n",
    "    def __init__(self, factor):\n",
    "        self.factor = factor\n",
    "        self.rates=[]\n",
    "        self.losses=[]\n",
    "        \n",
    "    def on_batch_end(self, batch, logs):\n",
    "        self.rates.append(K.get_value(self.model.optimizer.lr))\n",
    "        self.losses.append(logs['loss'])\n",
    "        K.set_value(self.model.optimizer.lr, self.model.optimizer.lr * self.factor)"
   ]
  },
  {
   "cell_type": "code",
   "execution_count": 98,
   "metadata": {},
   "outputs": [],
   "source": [
    "keras.backend.clear_session()\n",
    "np.random.seed(42)\n",
    "tf.random.set_seed(42)"
   ]
  },
  {
   "cell_type": "code",
   "execution_count": 99,
   "metadata": {},
   "outputs": [],
   "source": [
    "model = keras.models.Sequential([\n",
    "    keras.layers.Flatten(input_shape=[28, 28]),\n",
    "    keras.layers.Dense(300, activation='relu'),\n",
    "    keras.layers.Dense(100, activation='relu'),\n",
    "    keras.layers.Dense(10, activation='softmax')\n",
    "])"
   ]
  },
  {
   "cell_type": "code",
   "execution_count": 100,
   "metadata": {},
   "outputs": [],
   "source": [
    "model.compile(loss='sparse_categorical_crossentropy', optimizer=keras.optimizers.SGD(lr=1e-3),\n",
    "             metrics=['accuracy'])\n",
    "expon_lr = ExponentialLearningRate(factor=1.005)"
   ]
  },
  {
   "cell_type": "markdown",
   "metadata": {},
   "source": [
    "- Now, let's train the model for just one epoch."
   ]
  },
  {
   "cell_type": "code",
   "execution_count": 101,
   "metadata": {},
   "outputs": [
    {
     "name": "stdout",
     "output_type": "stream",
     "text": [
      "Train on 55000 samples, validate on 5000 samples\n",
      "55000/55000 [==============================] - 11s 194us/sample - loss: 62799700980007432093696.0000 - accuracy: 0.5726 - val_loss: 2.3240 - val_accuracy: 0.1100\n"
     ]
    }
   ],
   "source": [
    "history = model.fit(X_train, y_train, validation_data=(X_valid, y_valid), epochs=1, callbacks=[expon_lr])"
   ]
  },
  {
   "cell_type": "code",
   "execution_count": 102,
   "metadata": {},
   "outputs": [
    {
     "data": {
      "text/plain": [
       "Text(0, 0.5, 'Loss')"
      ]
     },
     "execution_count": 102,
     "metadata": {},
     "output_type": "execute_result"
    },
    {
     "data": {
      "image/png": "[encoded data removed]",
      "text/plain": [
       "<Figure size 432x288 with 1 Axes>"
      ]
     },
     "metadata": {
      "needs_background": "light"
     },
     "output_type": "display_data"
    }
   ],
   "source": [
    "plt.plot(expon_lr.rates, expon_lr.losses)\n",
    "plt.gca().set_xscale('log')\n",
    "plt.hlines(min(expon_lr.losses), min(expon_lr.rates), max(expon_lr.rates))\n",
    "plt.axis([min(expon_lr.rates), max(expon_lr.rates), 0, expon_lr.losses[0]])\n",
    "plt.xlabel(\"Learning rate\")\n",
    "plt.ylabel(\"Loss\")"
   ]
  },
  {
   "cell_type": "markdown",
   "metadata": {},
   "source": [
    "- From above, let's try learning rate around 2e-1."
   ]
  },
  {
   "cell_type": "code",
   "execution_count": 103,
   "metadata": {},
   "outputs": [],
   "source": [
    "keras.backend.clear_session()\n",
    "np.random.seed(42)\n",
    "tf.random.set_seed(42)"
   ]
  },
  {
   "cell_type": "code",
   "execution_count": 104,
   "metadata": {},
   "outputs": [],
   "source": [
    "model = keras.models.Sequential([\n",
    "    keras.layers.Flatten(input_shape=[28, 28]),\n",
    "    keras.layers.Dense(300, activation='relu'),\n",
    "    keras.layers.Dense(100, activation='relu'),\n",
    "    keras.layers.Dense(10, activation='softmax')\n",
    "])"
   ]
  },
  {
   "cell_type": "code",
   "execution_count": 105,
   "metadata": {},
   "outputs": [],
   "source": [
    "model.compile(loss='sparse_categorical_crossentropy',\n",
    "             optimizer=keras.optimizers.SGD(lr=2e-1),\n",
    "             metrics=['accuracy'])"
   ]
  },
  {
   "cell_type": "code",
   "execution_count": 106,
   "metadata": {},
   "outputs": [],
   "source": [
    "# run_index = 1 # increment this at every run\n",
    "# run_logdir = os.path.join(os.curdir, \"my_mnist_logs\", \"run_{:03d}\".format(run_index))\n",
    "# run_logdir"
   ]
  },
  {
   "cell_type": "code",
   "execution_count": 107,
   "metadata": {},
   "outputs": [],
   "source": [
    "# early_stopping_cb = keras.callbacks.EarlyStopping(patience=20)\n",
    "# checkpoint_cb = keras.callbacks.ModelCheckpoint(\"my_mnist_model.h5\", save_best_only=True)\n",
    "# tensorboard_cb = keras.callbacks.TensorBoard(run_logdir)\n",
    "\n",
    "# history = model.fit(X_train, y_train, epochs=100,\n",
    "#                     validation_data=(X_valid, y_valid),\n",
    "#                     callbacks=[early_stopping_cb, checkpoint_cb, tensorboard_cb])"
   ]
  },
  {
   "cell_type": "code",
   "execution_count": 108,
   "metadata": {},
   "outputs": [],
   "source": [
    "# model = keras.models.load_model('my_mnist_model.h5')\n",
    "# model.evaluate(X_test, y_test)"
   ]
  }
 ],
 "metadata": {
  "kernelspec": {
   "display_name": "Python 3",
   "language": "python",
   "name": "python3"
  },
  "language_info": {
   "codemirror_mode": {
    "name": "ipython",
    "version": 3
   },
   "file_extension": ".py",
   "mimetype": "text/x-python",
   "name": "python",
   "nbconvert_exporter": "python",
   "pygments_lexer": "ipython3",
   "version": "3.7.6"
  }
 },
 "nbformat": 4,
 "nbformat_minor": 4
}
