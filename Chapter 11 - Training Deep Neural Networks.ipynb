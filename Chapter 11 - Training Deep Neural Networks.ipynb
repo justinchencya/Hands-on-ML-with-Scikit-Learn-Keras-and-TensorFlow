{
 "cells": [
  {
   "cell_type": "markdown",
   "metadata": {},
   "source": [
    "# Setup"
   ]
  },
  {
   "cell_type": "code",
   "execution_count": 1,
   "metadata": {},
   "outputs": [],
   "source": [
    "# Python ≥3.5 is required\n",
    "import sys\n",
    "assert sys.version_info >= (3, 5)\n",
    "\n",
    "# Scikit-Learn ≥0.20 is required\n",
    "# Kernel will die if we don't run this line\n",
    "import sklearn\n",
    "assert sklearn.__version__ >= \"0.20\"\n",
    "\n",
    "try:\n",
    "    # %tensorflow_version only exists in Colab.\n",
    "    %tensorflow_version 2.x\n",
    "except Exception:\n",
    "    pass\n",
    "\n",
    "# TensorFlow ≥2.0 is required\n",
    "import tensorflow as tf\n",
    "from tensorflow import keras\n",
    "assert tf.__version__ >= \"2.0\"\n",
    "\n",
    "%load_ext tensorboard\n",
    "\n",
    "# Common imports\n",
    "import numpy as np\n",
    "import os\n",
    "\n",
    "# to make this notebook's output stable across runs\n",
    "np.random.seed(42)\n",
    "\n",
    "# To plot pretty figures\n",
    "%matplotlib inline\n",
    "import matplotlib as mpl\n",
    "import matplotlib.pyplot as plt\n",
    "mpl.rc('axes', labelsize=14)\n",
    "mpl.rc('xtick', labelsize=12)\n",
    "mpl.rc('ytick', labelsize=12)\n",
    "\n",
    "# # Where to save the figures\n",
    "# PROJECT_ROOT_DIR = \".\"\n",
    "# CHAPTER_ID = \"deep\"\n",
    "# IMAGES_PATH = os.path.join(PROJECT_ROOT_DIR, \"images\", CHAPTER_ID)\n",
    "# os.makedirs(IMAGES_PATH, exist_ok=True)\n",
    "\n",
    "# def save_fig(fig_id, tight_layout=True, fig_extension=\"png\", resolution=300):\n",
    "#     path = os.path.join(IMAGES_PATH, fig_id + \".\" + fig_extension)\n",
    "#     print(\"Saving figure\", fig_id)\n",
    "#     if tight_layout:\n",
    "#         plt.tight_layout()\n",
    "#     plt.savefig(path, format=fig_extension, dpi=resolution"
   ]
  },
  {
   "cell_type": "code",
   "execution_count": 2,
   "metadata": {},
   "outputs": [],
   "source": [
    "import pandas as pd\n",
    "# import numpy as np\n",
    "# import matplotlib.pyplot as plt\n",
    "# %matplotlib inline"
   ]
  },
  {
   "cell_type": "code",
   "execution_count": 3,
   "metadata": {},
   "outputs": [],
   "source": [
    "# import tensorflow as tf\n",
    "# from tensorflow import keras"
   ]
  },
  {
   "cell_type": "markdown",
   "metadata": {},
   "source": [
    "# Vanishing/Exploding Gradients Problems \n",
    "- The **Vanishing Gradients** Problem\n",
    "    - When training deep neural networks, gradients often get smaller and smaller as the algorithm progresses down to the lower layers. \n",
    "    - As a result, the Gradient Descent update leaves the lower layer connection weights virtually unchanged, and training never converges to a good solution.\n",
    "- The **Exploding Gradients** Problem\n",
    "    - In some cases, the opposite can happen: the gradients can grow bigger and bigger, so many layers get insanely large weight updates and the algorithm diverges."
   ]
  },
  {
   "cell_type": "markdown",
   "metadata": {},
   "source": [
    "# Glorot and He Initialization\n",
    "- To significantly alleviate the Vanishing/Exploding Gradient problems, Glorot and Bengio proposed that we need the signal to flow properly in both directions.\n",
    "- For the signal to flow properly, we need the **variance of the outputs** of each layer to be **equal** to the **variance of its inputs**, and we also need the **gradients to have equal variance** before and after flowing through a layer in the reverse direction. \n",
    "- It is actually not possible to guarantee both unless the layer has **an equal number of inputs and neurons** (these numbers are called the **fan-in** and **fan-out** of the layer), but they proposed a good compromise that has proven to work very well in practice - **Glorot (Xavier) Initialization**.\n",
    "    - The connection weights of each layer must be initialized randomly as:\n",
    "        - **Normal distribution** with mean 0 and variance $\\sigma^2 = 1/fan_{avg}$\n",
    "        - Or a **uniform distribution** between $-r$ and $+r$, with $r = \\sqrt{\\frac{3}{fan_{avg}}}$ "
   ]
  },
  {
   "cell_type": "code",
   "execution_count": 4,
   "metadata": {},
   "outputs": [
    {
     "data": {
      "text/plain": [
       "['Constant',\n",
       " 'GlorotNormal',\n",
       " 'GlorotUniform',\n",
       " 'Identity',\n",
       " 'Initializer',\n",
       " 'Ones',\n",
       " 'Orthogonal',\n",
       " 'RandomNormal',\n",
       " 'RandomUniform',\n",
       " 'TruncatedNormal',\n",
       " 'VarianceScaling',\n",
       " 'Zeros',\n",
       " 'constant',\n",
       " 'deserialize',\n",
       " 'get',\n",
       " 'glorot_normal',\n",
       " 'glorot_uniform',\n",
       " 'he_normal',\n",
       " 'he_uniform',\n",
       " 'identity',\n",
       " 'lecun_normal',\n",
       " 'lecun_uniform',\n",
       " 'ones',\n",
       " 'orthogonal',\n",
       " 'serialize',\n",
       " 'zeros']"
      ]
     },
     "execution_count": 4,
     "metadata": {},
     "output_type": "execute_result"
    }
   ],
   "source": [
    "[name for name in dir(keras.initializers) if not name.startswith(\"_\")]"
   ]
  },
  {
   "cell_type": "markdown",
   "metadata": {},
   "source": [
    "## He Initialization\n",
    "- Activation functions: ReLU & variants\n",
    "- $\\sigma^2$ (normal): $\\frac{2}{fan_{in}}$"
   ]
  },
  {
   "cell_type": "code",
   "execution_count": 5,
   "metadata": {},
   "outputs": [
    {
     "data": {
      "text/plain": [
       "<tensorflow.python.keras.layers.core.Dense at 0x7fce93e1a5d0>"
      ]
     },
     "execution_count": 5,
     "metadata": {},
     "output_type": "execute_result"
    }
   ],
   "source": [
    "keras.layers.Dense(10, activation='relu', kernel_initializer='he_normal')"
   ]
  },
  {
   "cell_type": "markdown",
   "metadata": {},
   "source": [
    "- If you want **He initialization** with a **uniform distribution**, but based on $fan_{avg}$ rather than $fan_{in}$, you can use the `VarianceScaling` initializer."
   ]
  },
  {
   "cell_type": "code",
   "execution_count": 6,
   "metadata": {},
   "outputs": [
    {
     "data": {
      "text/plain": [
       "<tensorflow.python.keras.layers.core.Dense at 0x7fce93eb9350>"
      ]
     },
     "execution_count": 6,
     "metadata": {},
     "output_type": "execute_result"
    }
   ],
   "source": [
    "init = keras.initializers.VarianceScaling(scale=2., mode='fan_avg', distribution='uniform')\n",
    "keras.layers.Dense(10, activation='relu', kernel_initializer=init)"
   ]
  },
  {
   "cell_type": "markdown",
   "metadata": {},
   "source": [
    "## Summary - Initialization parameters for each type of activation function\n",
    "- **Glorot**\n",
    "    - Activation functions: None, Tanh, Logistic, Softmax\n",
    "    - $\\sigma^2 (Normal) = 1/fan_{avg}$\n",
    "- **He**\n",
    "    - Activation functions: ReLU & variants\n",
    "    - $\\sigma^2 (Normal) = 2/fan_{in}$\n",
    "- **LeCun**\n",
    "    - Activation functions: SELU\n",
    "    - $\\sigma^2 (Normal) = 1/fan_{in}$"
   ]
  },
  {
   "cell_type": "markdown",
   "metadata": {},
   "source": [
    "# Nonsaturating Activating Functions\n",
    "- Although behavoring well in most deep learning models, the ReLU activation function is not perfect. It suffers from a problem known as the **dying ReLUs**. \n",
    "    - During training, some neurons effectively die, meaning they stop outputting anything other than 0. \n",
    "    - A neuron dies when its weights get tweaked in such a way that **the weighted sum of its inputs are negative for all instances** in the training set. \n",
    "    - When this happens, it just **keeps outputting 0s**, and gradient descent does not affect it anymore since the gradient of the ReLU function is 0 when its input is negative.\n",
    "    \n",
    "## Leaky ReLU\n",
    "- To solve this problem, you may want to use a variant of the ReLU function, such as the **leaky ReLU**. \n",
    "    - This function is defined as $LeakyReLU_\\alpha(z) = max(\\alpha z, z)$. \n",
    "        - The hyperparameter $\\alpha$ defines how much the function “leaks”: it is the slope of the function for $z < 0$, and is typically set to 0.01. \n",
    "        - This small slope ensures that **leaky ReLUs never die**."
   ]
  },
  {
   "cell_type": "code",
   "execution_count": 7,
   "metadata": {},
   "outputs": [],
   "source": [
    "def leaky_relu(z, alpha=0.01):\n",
    "    return np.maximum(alpha*z, z)"
   ]
  },
  {
   "cell_type": "code",
   "execution_count": 8,
   "metadata": {},
   "outputs": [
    {
     "data": {
      "text/plain": [
       "[-5, 5, -0.5, 4.2]"
      ]
     },
     "execution_count": 8,
     "metadata": {},
     "output_type": "execute_result"
    },
    {
     "data": {
      "image/png": "[encoded data removed]",
      "text/plain": [
       "<Figure size 432x288 with 1 Axes>"
      ]
     },
     "metadata": {
      "needs_background": "light"
     },
     "output_type": "display_data"
    }
   ],
   "source": [
    "z = np.linspace(-5, 5, 200)\n",
    "\n",
    "plt.plot(z, leaky_relu(z, 0.05), \"b-\", linewidth=2)\n",
    "plt.plot([-5, 5], [0, 0], 'k-')\n",
    "plt.plot([0, 0], [-0.5, 4.2], 'k-')\n",
    "plt.grid(True)\n",
    "props = dict(facecolor='black', shrink=0.1)\n",
    "plt.annotate('Leak', xytext=(-3.5, 0.5), xy=(-5, -0.2), arrowprops=props, fontsize=14, ha=\"center\")\n",
    "plt.title(\"Leaky ReLU activation function\", fontsize=14)\n",
    "plt.axis([-5, 5, -0.5, 4.2])"
   ]
  },
  {
   "cell_type": "code",
   "execution_count": 9,
   "metadata": {},
   "outputs": [
    {
     "data": {
      "text/plain": [
       "['deserialize',\n",
       " 'elu',\n",
       " 'exponential',\n",
       " 'get',\n",
       " 'hard_sigmoid',\n",
       " 'linear',\n",
       " 'relu',\n",
       " 'selu',\n",
       " 'serialize',\n",
       " 'sigmoid',\n",
       " 'softmax',\n",
       " 'softplus',\n",
       " 'softsign',\n",
       " 'tanh']"
      ]
     },
     "execution_count": 9,
     "metadata": {},
     "output_type": "execute_result"
    }
   ],
   "source": [
    "[m for m in dir(keras.activations) if not m.startswith('_')]"
   ]
  },
  {
   "cell_type": "markdown",
   "metadata": {},
   "source": [
    "- Let's train a neural network on Fashion MNIST using the **Leaky ReLU**."
   ]
  },
  {
   "cell_type": "code",
   "execution_count": 10,
   "metadata": {},
   "outputs": [],
   "source": [
    "(X_train_full, y_train_full), (X_test, y_test) = keras.datasets.fashion_mnist.load_data()\n",
    "\n",
    "X_train_full = X_train_full / 255.0\n",
    "X_test = X_test / 255.0\n",
    "X_valid, X_train = X_train_full[:5000], X_train_full[5000:]\n",
    "y_valid, y_train = y_train_full[:5000], y_train_full[5000:]"
   ]
  },
  {
   "cell_type": "code",
   "execution_count": 11,
   "metadata": {},
   "outputs": [
    {
     "data": {
      "text/plain": [
       "(55000, 28, 28)"
      ]
     },
     "execution_count": 11,
     "metadata": {},
     "output_type": "execute_result"
    }
   ],
   "source": [
    "X_train.shape"
   ]
  },
  {
   "cell_type": "code",
   "execution_count": 12,
   "metadata": {},
   "outputs": [],
   "source": [
    "tf.random.set_seed(42)\n",
    "np.random.seed(42)\n",
    "\n",
    "model = keras.models.Sequential()\n",
    "\n",
    "model.add(keras.layers.Flatten(input_shape=[28,28]))\n",
    "\n",
    "model.add(keras.layers.Dense(300, kernel_initializer='he_normal'))\n",
    "model.add(keras.layers.LeakyReLU())\n",
    "\n",
    "model.add(keras.layers.Dense(100, kernel_initializer='he_normal'))\n",
    "model.add(keras.layers.LeakyReLU())\n",
    "\n",
    "model.add(keras.layers.Dense(10, activation='softmax'))\n",
    "\n",
    "\n",
    "# tf.random.set_seed(42)\n",
    "# np.random.seed(42)\n",
    "\n",
    "# model = keras.models.Sequential([\n",
    "#     keras.layers.Flatten(input_shape=[28, 28]),\n",
    "#     keras.layers.Dense(300, kernel_initializer=\"he_normal\"),\n",
    "#     keras.layers.LeakyReLU(),\n",
    "#     keras.layers.Dense(100, kernel_initializer=\"he_normal\"),\n",
    "#     keras.layers.LeakyReLU(),\n",
    "#     keras.layers.Dense(10, activation=\"softmax\")\n",
    "# ])"
   ]
  },
  {
   "cell_type": "code",
   "execution_count": 13,
   "metadata": {},
   "outputs": [],
   "source": [
    "model.compile(loss='sparse_categorical_crossentropy', optimizer='adam', metrics=['accuracy'])\n",
    "\n",
    "# model.compile(loss=\"sparse_categorical_crossentropy\",\n",
    "#               optimizer=keras.optimizers.SGD(lr=1e-3),\n",
    "#               metrics=[\"accuracy\"])"
   ]
  },
  {
   "cell_type": "code",
   "execution_count": 14,
   "metadata": {
    "scrolled": true
   },
   "outputs": [],
   "source": [
    "# history = model.fit(X_train, y_train, epochs=10, validation_data=(X_valid, y_valid))"
   ]
  },
  {
   "cell_type": "markdown",
   "metadata": {},
   "source": [
    "- **Randomized ReLU (RReLU)**\n",
    "    - $\\alpha$ is picked randomly\n",
    "- **Parametric Leaky ReLU (PReLU)**\n",
    "    - $\\alpha$ is authorized to be learned during training.\n",
    "    - Instead of being a hyperparameter, $\\alpha$ becomes a parameter that can be modified by backpropagation like any other parameter."
   ]
  },
  {
   "cell_type": "code",
   "execution_count": 15,
   "metadata": {},
   "outputs": [],
   "source": [
    "tf.random.set_seed(42)\n",
    "np.random.seed(42)"
   ]
  },
  {
   "cell_type": "code",
   "execution_count": 16,
   "metadata": {},
   "outputs": [],
   "source": [
    "model = keras.models.Sequential()\n",
    "\n",
    "model.add(keras.layers.Flatten(input_shape=[28, 28]))\n",
    "\n",
    "model.add(keras.layers.Dense(300, kernel_initializer='he_normal'))\n",
    "model.add(keras.layers.PReLU())\n",
    "\n",
    "model.add(keras.layers.Dense(100, kernel_initializer='he_normal'))\n",
    "model.add(keras.layers.PReLU())\n",
    "\n",
    "model.add(keras.layers.Dense(10, activation='softmax'))"
   ]
  },
  {
   "cell_type": "code",
   "execution_count": 17,
   "metadata": {},
   "outputs": [],
   "source": [
    "model.compile(optimizer='adam', loss='sparse_categorical_crossentropy', metrics=['accuracy'])"
   ]
  },
  {
   "cell_type": "code",
   "execution_count": 18,
   "metadata": {},
   "outputs": [],
   "source": [
    "# history = model.fit(X_train, y_train, epochs=10, validation_data=(X_valid, y_valid))"
   ]
  },
  {
   "cell_type": "markdown",
   "metadata": {},
   "source": [
    "## Exponential Linear Unit (ELU)\n",
    "- $ELU_\\alpha (z) = \\begin{cases} \\alpha (exp(z) - 1) & z < 0 \\\\ z & z\\geqslant 0 \\end{cases}$"
   ]
  },
  {
   "cell_type": "code",
   "execution_count": 19,
   "metadata": {},
   "outputs": [],
   "source": [
    "def elu(z, alpha=1):\n",
    "    return np.where(z < 0, alpha*(np.exp(z)-1), z)"
   ]
  },
  {
   "cell_type": "code",
   "execution_count": 20,
   "metadata": {},
   "outputs": [
    {
     "data": {
      "text/plain": [
       "[-5, 5, -2.2, 3.2]"
      ]
     },
     "execution_count": 20,
     "metadata": {},
     "output_type": "execute_result"
    },
    {
     "data": {
      "image/png": "[encoded data removed]",
      "text/plain": [
       "<Figure size 432x288 with 1 Axes>"
      ]
     },
     "metadata": {
      "needs_background": "light"
     },
     "output_type": "display_data"
    }
   ],
   "source": [
    "plt.plot(z, elu(z), \"b-\", linewidth=2)\n",
    "plt.plot([-5, 5], [0, 0], 'k-')\n",
    "plt.plot([-5, 5], [-1, -1], 'k--')\n",
    "plt.plot([0, 0], [-2.2, 3.2], 'k-')\n",
    "plt.grid(True)\n",
    "plt.title(r\"ELU activation function ($\\alpha=1$)\", fontsize=14)\n",
    "plt.axis([-5, 5, -2.2, 3.2])"
   ]
  },
  {
   "cell_type": "markdown",
   "metadata": {},
   "source": [
    "- We implement ELU in TensorFlow by specifying the activation function when building each layer."
   ]
  },
  {
   "cell_type": "code",
   "execution_count": 21,
   "metadata": {},
   "outputs": [
    {
     "data": {
      "text/plain": [
       "<tensorflow.python.keras.layers.core.Dense at 0x7fce93e48b90>"
      ]
     },
     "execution_count": 21,
     "metadata": {},
     "output_type": "execute_result"
    }
   ],
   "source": [
    "keras.layers.Dense(10, activation='elu')"
   ]
  },
  {
   "cell_type": "markdown",
   "metadata": {},
   "source": [
    "## SELU\n",
    "- A scaled version of the ELU activation function: $SELU_{scale, alpha}(z) = scale \\times ELU_{alpha}(z)$\n",
    "- This activation function was proposed in this great paper by Günter Klambauer, Thomas Unterthiner and Andreas Mayr, published in June 2017. \n",
    "- During training, a neural network composed **exclusively** of a stack of **dense layers** using the **SELU activation function** and **LeCun initialization** will **self-normalize**. \n",
    "    - The output of each layer will tend to preserve the **same mean and variance** during training, which solves the vanishing/exploding gradients problem. \n",
    "- As a result, **SELU function outperforms** the other activation functions very significantly for such neural nets. \n",
    "- Unfortunately, the self-normalizing property of the SELU activation function is easily broken: you cannot use $l^1$ or $l^2$ regularization, regular dropout, max-norm, skip connections or other non-sequential topologies (so recurrent neural networks won't self-normalize). \n",
    "    - However, in practice it works quite well with **sequential ANNs**. \n",
    "    - If you break self-normalization, SELU will not necessarily outperform other activation functions."
   ]
  },
  {
   "cell_type": "code",
   "execution_count": 22,
   "metadata": {},
   "outputs": [],
   "source": [
    "from scipy.special import erfc\n",
    "\n",
    "# alpha and scale to self normalize with mean 0 and standard deviation 1\n",
    "# (see equation 14 in the paper):\n",
    "alpha_0_1 = -np.sqrt(2 / np.pi) / (erfc(1/np.sqrt(2)) * np.exp(1/2) - 1)\n",
    "scale_0_1 = (1 - erfc(1 / np.sqrt(2)) * np.sqrt(np.e)) * np.sqrt(2 * np.pi) * (2 * erfc(np.sqrt(2))*np.e**2 + np.pi*erfc(1/np.sqrt(2))**2*np.e - 2*(2+np.pi)*erfc(1/np.sqrt(2))*np.sqrt(np.e)+np.pi+2)**(-1/2)"
   ]
  },
  {
   "cell_type": "code",
   "execution_count": 23,
   "metadata": {},
   "outputs": [],
   "source": [
    "def selu(z, scale=scale_0_1, alpha=alpha_0_1):\n",
    "    return scale * elu(z, alpha)"
   ]
  },
  {
   "cell_type": "code",
   "execution_count": 24,
   "metadata": {},
   "outputs": [
    {
     "data": {
      "text/plain": [
       "[-5, 5, -2.2, 3.2]"
      ]
     },
     "execution_count": 24,
     "metadata": {},
     "output_type": "execute_result"
    },
    {
     "data": {
      "image/png": "[encoded data removed]",
      "text/plain": [
       "<Figure size 432x288 with 1 Axes>"
      ]
     },
     "metadata": {
      "needs_background": "light"
     },
     "output_type": "display_data"
    }
   ],
   "source": [
    "plt.plot(z, selu(z), \"b-\", linewidth=2)\n",
    "plt.plot([-5, 5], [0, 0], 'k-')\n",
    "plt.plot([-5, 5], [-1.758, -1.758], 'k--')\n",
    "plt.plot([0, 0], [-2.2, 3.2], 'k-')\n",
    "plt.grid(True)\n",
    "plt.title(\"SELU activation function\", fontsize=14)\n",
    "plt.axis([-5, 5, -2.2, 3.2])"
   ]
  },
  {
   "cell_type": "markdown",
   "metadata": {},
   "source": [
    "- By default, the SELU hyperparameters (scale and alpha) are tuned in such a way that the **mean output of each neuron** remains **close to 0**, and the **standard deviation** remains **close to 1** (assuming the **inputs are standardized with mean 0 and standard deviation 1** too). \n",
    "- Using this activation function, even a 1,000 layer deep neural network preserves roughly mean 0 and standard deviation 1 across all layers, avoiding the exploding/vanishing gradients problem."
   ]
  },
  {
   "cell_type": "code",
   "execution_count": 25,
   "metadata": {},
   "outputs": [
    {
     "name": "stdout",
     "output_type": "stream",
     "text": [
      "Layer 0: mean -0.00, standard deviation 1.00\n",
      "Layer 100: mean 0.02, standard deviation 0.96\n",
      "Layer 200: mean 0.01, standard deviation 0.90\n",
      "Layer 300: mean -0.02, standard deviation 0.92\n",
      "Layer 400: mean 0.05, standard deviation 0.89\n",
      "Layer 500: mean 0.01, standard deviation 0.93\n",
      "Layer 600: mean 0.02, standard deviation 0.92\n",
      "Layer 700: mean -0.02, standard deviation 0.90\n",
      "Layer 800: mean 0.05, standard deviation 0.83\n",
      "Layer 900: mean 0.02, standard deviation 1.00\n"
     ]
    }
   ],
   "source": [
    "np.random.seed(42)\n",
    "Z = np.random.normal(size=(500, 100)) # assuming standardized inputs\n",
    "for layer in range(1000):\n",
    "    W = np.random.normal(size=(100, 100), scale=np.sqrt(1/100)) #LeCun initialization\n",
    "    Z = selu(np.dot(Z, W))\n",
    "#     print(Z.shape)\n",
    "    means = np.mean(Z, axis=0).mean()\n",
    "    stds = np.std(Z, axis=0).mean()\n",
    "    if layer % 100 == 0:\n",
    "        print(\"Layer {}: mean {:.2f}, standard deviation {:.2f}\".format(layer, means, stds))"
   ]
  },
  {
   "cell_type": "markdown",
   "metadata": {},
   "source": [
    "- To implement SELU activation, just set `activation=\"selu\"` and `kernel_initializer=\"lecun_normal\"` when creating a layer."
   ]
  },
  {
   "cell_type": "code",
   "execution_count": 26,
   "metadata": {},
   "outputs": [
    {
     "data": {
      "text/plain": [
       "<tensorflow.python.keras.layers.core.Dense at 0x7fce94801b50>"
      ]
     },
     "execution_count": 26,
     "metadata": {},
     "output_type": "execute_result"
    }
   ],
   "source": [
    "keras.layers.Dense(10, activation='selu', kernel_initializer='lecun_normal')"
   ]
  },
  {
   "cell_type": "markdown",
   "metadata": {},
   "source": [
    "- Let's create a neural net for Fashion MNIST with 100 hidden layers, using the SELU activation function."
   ]
  },
  {
   "cell_type": "code",
   "execution_count": 27,
   "metadata": {},
   "outputs": [],
   "source": [
    "np.random.seed(42)\n",
    "tf.random.set_seed(42)"
   ]
  },
  {
   "cell_type": "code",
   "execution_count": 28,
   "metadata": {},
   "outputs": [],
   "source": [
    "model = keras.models.Sequential()\n",
    "model.add(keras.layers.Flatten(input_shape=[28, 28]))\n",
    "model.add(keras.layers.Dense(300, activation='selu', kernel_initializer='lecun_normal'))\n",
    "\n",
    "for layer in range(99):\n",
    "    model.add(keras.layers.Dense(100, activation='selu', kernel_initializer='lecun_normal'))\n",
    "    \n",
    "model.add(keras.layers.Dense(10, activation='softmax'))"
   ]
  },
  {
   "cell_type": "code",
   "execution_count": 29,
   "metadata": {},
   "outputs": [],
   "source": [
    "model.compile(loss='sparse_categorical_crossentropy', optimizer=keras.optimizers.SGD(lr=1e-3),\n",
    "             metrics=['accuracy'])"
   ]
  },
  {
   "cell_type": "markdown",
   "metadata": {},
   "source": [
    "- To train a model using the SELU activation function, we need to first **scale the inputs** to mean 0 and standard deviation 1."
   ]
  },
  {
   "cell_type": "code",
   "execution_count": 30,
   "metadata": {},
   "outputs": [],
   "source": [
    "pixel_means = X_train.mean(axis=0, keepdims=True)\n",
    "pixel_std = X_train.std(axis=0, keepdims=True)\n",
    "\n",
    "X_train_scaled = (X_train - pixel_means) / pixel_std\n",
    "X_valid_scaled = (X_valid - pixel_means) / pixel_std\n",
    "X_test_scaled = (X_test - pixel_means) / pixel_std"
   ]
  },
  {
   "cell_type": "code",
   "execution_count": 31,
   "metadata": {},
   "outputs": [],
   "source": [
    "# history = model.fit(X_train_scaled, y_train, validation_data=(X_valid_scaled, y_valid), epochs=10)"
   ]
  },
  {
   "cell_type": "markdown",
   "metadata": {},
   "source": [
    "- Let's look what happens if we try to use the ReLU activation function instead."
   ]
  },
  {
   "cell_type": "code",
   "execution_count": 32,
   "metadata": {},
   "outputs": [],
   "source": [
    "np.random.seed(42)\n",
    "tf.random.set_seed(42)"
   ]
  },
  {
   "cell_type": "code",
   "execution_count": 33,
   "metadata": {},
   "outputs": [],
   "source": [
    "model = keras.models.Sequential()\n",
    "model.add(keras.layers.Flatten(input_shape=[28, 28]))\n",
    "model.add(keras.layers.Dense(300, activation='relu', kernel_initializer='he_normal'))\n",
    "\n",
    "for layer in range(99):\n",
    "    model.add(keras.layers.Dense(100, activation='relu', kernel_initializer='he_normal'))\n",
    "    \n",
    "model.add(keras.layers.Dense(10, activation='softmax'))"
   ]
  },
  {
   "cell_type": "code",
   "execution_count": 34,
   "metadata": {},
   "outputs": [],
   "source": [
    "model.compile(loss='sparse_categorical_crossentropy', optimizer='adam', metrics=['accuracy'])"
   ]
  },
  {
   "cell_type": "code",
   "execution_count": 35,
   "metadata": {},
   "outputs": [],
   "source": [
    "# history = model.fit(X_train_scaled, y_train, validation_data=(X_valid_scaled, y_valid), epochs=10)"
   ]
  },
  {
   "cell_type": "markdown",
   "metadata": {},
   "source": [
    "- Comparing the results above, we can see that SELU outperforms ReLU in terms of avoiding Vanishing/Exploding Gradients."
   ]
  },
  {
   "cell_type": "markdown",
   "metadata": {},
   "source": [
    "# Batch Normalization\n",
    "- Although using He initialization along with ELU (or any variant of ReLU) can significantly reduce the vanishing/exploding gradients problems at the beginning of training, it doesn’t guarantee that they won’t come back during training.\n",
    "- **Batch Normalization** is another technique to address the vanishing/exploding gradient problem.\n",
    "    - The technique simply **zero-centers and normalizes each input**, then **scaling and shifting the result** using two new parameter vectors per layer: one for scaling, the other for shifting.\n",
    "    - In order to zero-center and normalize the inputs, the algorithm needs to estimate each input’s mean and standard deviation. \n",
    "    - It does so by evaluating the mean and standard deviation of each input over the current mini-batch.\n",
    "- Batch Normalization algorithm\n",
    "    1. $\\mu_B = \\frac{1}{m_B}\\sum_{i=1}^{m_B}x^{(i)}$\n",
    "    2. $\\sigma_B^2 = \\frac{1}{m_B}\\sum_{i=1}^{m_B}(x^{(i)}-\\mu_B)^2$\n",
    "    3. $\\hat{(x)}^{(i)} = \\frac{x^{(i)} - \\mu_B}{\\sqrt{\\sigma_B^2 + \\epsilon}}$\n",
    "    4. $z^{(i)} = \\gamma \\times \\hat{(x)}^{(i)} + \\beta$\n",
    "        - $\\mu_B$ is the vector of input means, evaluated over the whole mini-batch B.\n",
    "            - It contains one mean per input (feature).\n",
    "        - $\\sigma_B$ is the vector of input standard deviations, also evaluated over the whole mini-batch.\n",
    "            - It contains one standard deviation per input.\n",
    "        - $m_B$ is the number of instances in the mini_batch.\n",
    "        - $\\hat{(x)}^{(i)}$ is the vector of zero-centered and normalized inputs for instance i.\n",
    "        - $\\gamma$ is the output scale parameter vector for the layer.\n",
    "            - It contains one scale parameter per input.\n",
    "        - $\\times$ represents element-wise multiplication.\n",
    "            - Each input is multiplied by its corresponding output scale parameter.\n",
    "        - $\\beta$ is the output shift (offset) parameter vector for the layer.\n",
    "            - It contains one offset parameter per input. \n",
    "            - Each input is offset by its corresponding shift parameter.\n",
    "        - $\\epsilon$ is a tiny number to avoid division by zero.\n",
    "            - AKA the smoothing term.\n",
    "        - $z^{(i)}$ is the output of the BN operation.\n",
    "            - It's a scaled and shifted version of the inputs of instance i.\n",
    "- To sum up, four parameter vectors are learned in each batch-normalized layer: \n",
    "    - $\\gamma$ (the **ouput scale vector**) and $\\beta$ (the **output offset vector**) are learned through regular **backpropagation**.\n",
    "    - $\\mu$ (the **final input mean vector**) and $\\sigma$ (the **final input standard deviation vector**) are estimated using an **exponential moving average**.\n",
    "\n",
    "## Implementing Batch Normalization with Keras\n",
    "- To implement Batch Normalization using Keras, just add a `BatchNormalization` layer before or after each hidden layer’s activation function, and optionally add a BN layer as well as the first layer in your model."
   ]
  },
  {
   "cell_type": "code",
   "execution_count": 36,
   "metadata": {},
   "outputs": [],
   "source": [
    "model = keras.models.Sequential()\n",
    "\n",
    "model.add(keras.layers.Flatten(input_shape=[28, 28]))\n",
    "model.add(keras.layers.BatchNormalization())\n",
    "\n",
    "model.add(keras.layers.Dense(300, activation='relu', kernel_initializer='he_normal'))\n",
    "model.add(keras.layers.BatchNormalization())\n",
    "model.add(keras.layers.Dense(100, activation='relu', kernel_initializer='he_normal'))\n",
    "model.add(keras.layers.BatchNormalization())\n",
    "\n",
    "model.add(keras.layers.Dense(10, activation='softmax'))"
   ]
  },
  {
   "cell_type": "markdown",
   "metadata": {},
   "source": [
    "- If you display the model summary, you can see that each BN layer adds 4 parameters per input: $\\gamma$, $\\beta$, $\\mu$, and $\\sigma$.\n",
    "    - E.g. The first BN layer adds 3136 parameters, which is 4 times 784."
   ]
  },
  {
   "cell_type": "code",
   "execution_count": 37,
   "metadata": {},
   "outputs": [
    {
     "name": "stdout",
     "output_type": "stream",
     "text": [
      "Model: \"sequential_4\"\n",
      "_________________________________________________________________\n",
      "Layer (type)                 Output Shape              Param #   \n",
      "=================================================================\n",
      "flatten_4 (Flatten)          (None, 784)               0         \n",
      "_________________________________________________________________\n",
      "batch_normalization (BatchNo (None, 784)               3136      \n",
      "_________________________________________________________________\n",
      "dense_212 (Dense)            (None, 300)               235500    \n",
      "_________________________________________________________________\n",
      "batch_normalization_1 (Batch (None, 300)               1200      \n",
      "_________________________________________________________________\n",
      "dense_213 (Dense)            (None, 100)               30100     \n",
      "_________________________________________________________________\n",
      "batch_normalization_2 (Batch (None, 100)               400       \n",
      "_________________________________________________________________\n",
      "dense_214 (Dense)            (None, 10)                1010      \n",
      "=================================================================\n",
      "Total params: 271,346\n",
      "Trainable params: 268,978\n",
      "Non-trainable params: 2,368\n",
      "_________________________________________________________________\n"
     ]
    }
   ],
   "source": [
    "model.summary()"
   ]
  },
  {
   "cell_type": "markdown",
   "metadata": {},
   "source": [
    "- Let’s look at the parameters of the first BN layer. \n",
    "- Two are trainable (by backprop), and two are not."
   ]
  },
  {
   "cell_type": "code",
   "execution_count": 38,
   "metadata": {},
   "outputs": [
    {
     "data": {
      "text/plain": [
       "[('batch_normalization/gamma:0', True),\n",
       " ('batch_normalization/beta:0', True),\n",
       " ('batch_normalization/moving_mean:0', False),\n",
       " ('batch_normalization/moving_variance:0', False)]"
      ]
     },
     "execution_count": 38,
     "metadata": {},
     "output_type": "execute_result"
    }
   ],
   "source": [
    "[(var.name, var.trainable) for var in model.layers[1].variables]"
   ]
  },
  {
   "cell_type": "markdown",
   "metadata": {},
   "source": [
    "- Sometimes **applying BN before the activation function** works better (there's a debate on this topic).\n",
    "- Moreover, since a Batch Normalization layer includes one offset parameter per input, you can **remove the bias term** from the previous layer (just pass `use_bias=False` when creating it)."
   ]
  },
  {
   "cell_type": "code",
   "execution_count": 39,
   "metadata": {},
   "outputs": [],
   "source": [
    "model = keras.models.Sequential()\n",
    "\n",
    "model.add(keras.layers.Flatten(input_shape=[28, 28]))\n",
    "model.add(keras.layers.BatchNormalization())\n",
    "\n",
    "model.add(keras.layers.Dense(300, activation='relu', kernel_initializer='he_normal', use_bias=False))\n",
    "model.add(keras.layers.BatchNormalization())\n",
    "model.add(keras.layers.Dense(100, activation='relu', kernel_initializer='he_normal', use_bias=False))\n",
    "model.add(keras.layers.BatchNormalization())\n",
    "\n",
    "model.add(keras.layers.Dense(10, activation='softmax'))"
   ]
  },
  {
   "cell_type": "code",
   "execution_count": 40,
   "metadata": {},
   "outputs": [],
   "source": [
    "model.compile(optimizer='adam', loss='sparse_categorical_crossentropy', metrics=['accuracy'])"
   ]
  },
  {
   "cell_type": "code",
   "execution_count": 41,
   "metadata": {},
   "outputs": [
    {
     "name": "stdout",
     "output_type": "stream",
     "text": [
      "Train on 55000 samples, validate on 5000 samples\n",
      "Epoch 1/10\n",
      "55000/55000 [==============================] - 20s 363us/sample - loss: 0.4763 - accuracy: 0.8281 - val_loss: 0.3367 - val_accuracy: 0.8746\n",
      "Epoch 2/10\n",
      "55000/55000 [==============================] - 20s 358us/sample - loss: 0.3656 - accuracy: 0.8667 - val_loss: 0.3386 - val_accuracy: 0.8736\n",
      "Epoch 3/10\n",
      "55000/55000 [==============================] - 20s 355us/sample - loss: 0.3282 - accuracy: 0.8787 - val_loss: 0.3127 - val_accuracy: 0.8848\n",
      "Epoch 4/10\n",
      "55000/55000 [==============================] - 20s 359us/sample - loss: 0.3030 - accuracy: 0.8869 - val_loss: 0.3047 - val_accuracy: 0.8880\n",
      "Epoch 5/10\n",
      "55000/55000 [==============================] - 20s 362us/sample - loss: 0.2817 - accuracy: 0.8943 - val_loss: 0.3015 - val_accuracy: 0.8892\n",
      "Epoch 6/10\n",
      "55000/55000 [==============================] - 20s 359us/sample - loss: 0.2633 - accuracy: 0.9022 - val_loss: 0.2996 - val_accuracy: 0.8900\n",
      "Epoch 7/10\n",
      "55000/55000 [==============================] - 20s 358us/sample - loss: 0.2504 - accuracy: 0.9049 - val_loss: 0.2994 - val_accuracy: 0.8916\n",
      "Epoch 8/10\n",
      "55000/55000 [==============================] - 20s 356us/sample - loss: 0.2379 - accuracy: 0.9120 - val_loss: 0.2933 - val_accuracy: 0.8936\n",
      "Epoch 9/10\n",
      "55000/55000 [==============================] - 20s 362us/sample - loss: 0.2262 - accuracy: 0.9155 - val_loss: 0.3030 - val_accuracy: 0.8922\n",
      "Epoch 10/10\n",
      "55000/55000 [==============================] - 20s 365us/sample - loss: 0.2177 - accuracy: 0.9185 - val_loss: 0.3014 - val_accuracy: 0.8926\n"
     ]
    }
   ],
   "source": [
    "history = model.fit(X_train, y_train, validation_data=(X_valid, y_valid), epochs=10)"
   ]
  },
  {
   "cell_type": "code",
   "execution_count": 42,
   "metadata": {},
   "outputs": [
    {
     "data": {
      "text/plain": [
       "<matplotlib.axes._subplots.AxesSubplot at 0x7fce5210a150>"
      ]
     },
     "execution_count": 42,
     "metadata": {},
     "output_type": "execute_result"
    },
    {
     "data": {
      "image/png": "[encoded data removed]",
      "text/plain": [
       "<Figure size 432x288 with 1 Axes>"
      ]
     },
     "metadata": {
      "needs_background": "light"
     },
     "output_type": "display_data"
    }
   ],
   "source": [
    "losses = pd.DataFrame(history.history)\n",
    "losses[['loss', 'val_loss']].plot()"
   ]
  },
  {
   "cell_type": "markdown",
   "metadata": {},
   "source": [
    "# Gradient Clipping\n",
    "- **Gridient Clipping** is another technique to lessen the **exploding gradient** problem by **clipping the gradient duing backpropagation.**\n",
    "- In Keras, implementing Gradient Clipping is just a matter of setting the `clipvalue` or `clipnorm` argument when creating an optimizer.\n",
    "    - Note: If you want to ensure that Gradient Clipping **preserves the direction of the gradient vector**, you should clip by norm by setting **`clipnorm`** instead of clipvalue."
   ]
  },
  {
   "cell_type": "code",
   "execution_count": 43,
   "metadata": {},
   "outputs": [],
   "source": [
    "optimizer = keras.optimizers.SGD(clipvalue=1.0)"
   ]
  },
  {
   "cell_type": "code",
   "execution_count": 44,
   "metadata": {},
   "outputs": [],
   "source": [
    "optimizer = keras.optimizers.SGD(clipnorm=1.0)"
   ]
  },
  {
   "cell_type": "markdown",
   "metadata": {},
   "source": [
    "# Reusing Pretrained Layers\n",
    "- When training neural networks, we should always try to find an **existing neural network** that accomplishes a similar task to the one you are trying to tackle, then just **reuse the lower layers** of this network: this is called **transfer learning**. \n",
    "    - It will not only speed up training considerably, but will also require much less training data.\n",
    "- The right number of layers to reuse\n",
    "    - Try **freezing all** the reused layers first (i.e., make their weights non-trainable, so gradient descent won’t modify them), then train your model and see how it performs.\n",
    "    - Then try **unfreezing one or two of the top hidden layers** to let backpropagation tweak them and see if performance improves.\n",
    "        - The more training data available, the more layers you can unfreeze.\n",
    "        - It is also useful to **reduce the learning rate** when you unfreeze reused layers: this will avoid wrecking their fine-tuned weights.\n",
    "    - If you still cannot get good performance, and you have little training data, try **dropping the top hidden layer(s)** and **freeze all remaining hidden layers** again."
   ]
  },
  {
   "cell_type": "markdown",
   "metadata": {},
   "source": [
    "## Reusing a Keras Model\n",
    "- Let's split the Fashion MNIST dataset in two:\n",
    "    - `X_train_A`: all images of all items except for sandals and shirts (classes 5 and 6).\n",
    "    - `X_train_B`: a much smaller training set of just the first 200 images of sandals or shirts.\n",
    "- The validation set and the test set are also split this way, but without restricting the number of images. \n",
    "- We will train a model on set A (classification task with 8 classes), and try to reuse it to tackle set B (binary classification). \n",
    "     - We hope to transfer a little bit of knowledge from task A to task B, since classes in set A (sneakers, ankle boots, coats, t-shirts, etc.) are somewhat similar to classes in set B (sandals and shirts). \n",
    "     - However, since we are using Dense layers, only patterns that occur at the same location can be reused (in contrast, convolutional layers will transfer much better, since learned patterns can be detected anywhere on the image, as we will see in the CNN chapter)."
   ]
  },
  {
   "cell_type": "code",
   "execution_count": 45,
   "metadata": {},
   "outputs": [],
   "source": [
    "def split_dataset(X, y):\n",
    "    y_5_or_6 = (y == 5) | (y == 6) # sandals or shirts\n",
    "    y_A = y[~y_5_or_6]\n",
    "    y_A[y_A > 6] -= 2 # class indices 7, 8, 9 should be moved to 5, 6, 7\n",
    "    y_B = (y[y_5_or_6] == 6).astype(np.float32) # binary classification task: is it a shirt (class 6)?\n",
    "    \n",
    "    return ((X[~y_5_or_6], y_A),\n",
    "            (X[y_5_or_6], y_B))"
   ]
  },
  {
   "cell_type": "code",
   "execution_count": 46,
   "metadata": {},
   "outputs": [],
   "source": [
    "(X_train_A, y_train_A), (X_train_B, y_train_B) = split_dataset(X_train, y_train)\n",
    "(X_valid_A, y_valid_A), (X_valid_B, y_valid_B) = split_dataset(X_valid, y_valid)\n",
    "(X_test_A, y_test_A), (X_test_B, y_test_B) = split_dataset(X_test, y_test)\n",
    "X_train_B = X_train_B[:200]\n",
    "y_train_B = y_train_B[:200]"
   ]
  },
  {
   "cell_type": "code",
   "execution_count": 47,
   "metadata": {},
   "outputs": [
    {
     "data": {
      "text/plain": [
       "(43986, 28, 28)"
      ]
     },
     "execution_count": 47,
     "metadata": {},
     "output_type": "execute_result"
    }
   ],
   "source": [
    "X_train_A.shape"
   ]
  },
  {
   "cell_type": "code",
   "execution_count": 48,
   "metadata": {},
   "outputs": [
    {
     "data": {
      "text/plain": [
       "(200, 28, 28)"
      ]
     },
     "execution_count": 48,
     "metadata": {},
     "output_type": "execute_result"
    }
   ],
   "source": [
    "X_train_B.shape"
   ]
  },
  {
   "cell_type": "code",
   "execution_count": 49,
   "metadata": {},
   "outputs": [],
   "source": [
    "tf.random.set_seed(42)\n",
    "np.random.seed(42)"
   ]
  },
  {
   "cell_type": "code",
   "execution_count": 50,
   "metadata": {},
   "outputs": [],
   "source": [
    "model_A = keras.models.Sequential()\n",
    "\n",
    "model_A.add(keras.layers.Flatten(input_shape=[28, 28]))\n",
    "\n",
    "for n_hidden in (300, 100, 50, 50, 50):\n",
    "    model_A.add(keras.layers.Dense(n_hidden, activation='selu'))\n",
    "\n",
    "model_A.add(keras.layers.Dense(8, activation='softmax'))"
   ]
  },
  {
   "cell_type": "code",
   "execution_count": 51,
   "metadata": {},
   "outputs": [],
   "source": [
    "model_A.compile(loss='sparse_categorical_crossentropy', optimizer=keras.optimizers.SGD(lr=1e-3),\n",
    "               metrics=['accuracy'])"
   ]
  },
  {
   "cell_type": "code",
   "execution_count": 52,
   "metadata": {
    "scrolled": true
   },
   "outputs": [
    {
     "name": "stdout",
     "output_type": "stream",
     "text": [
      "Train on 43986 samples, validate on 4014 samples\n",
      "Epoch 1/10\n",
      "43986/43986 [==============================] - 13s 302us/sample - loss: 0.5909 - accuracy: 0.8100 - val_loss: 0.3772 - val_accuracy: 0.8707\n",
      "Epoch 2/10\n",
      "43986/43986 [==============================] - 12s 277us/sample - loss: 0.3521 - accuracy: 0.8793 - val_loss: 0.3394 - val_accuracy: 0.8779\n",
      "Epoch 3/10\n",
      "43986/43986 [==============================] - 12s 273us/sample - loss: 0.3167 - accuracy: 0.8890 - val_loss: 0.3018 - val_accuracy: 0.8959\n",
      "Epoch 4/10\n",
      "43986/43986 [==============================] - 11s 259us/sample - loss: 0.2969 - accuracy: 0.8967 - val_loss: 0.2858 - val_accuracy: 0.9031\n",
      "Epoch 5/10\n",
      "43986/43986 [==============================] - 12s 281us/sample - loss: 0.2824 - accuracy: 0.9030 - val_loss: 0.2808 - val_accuracy: 0.9071\n",
      "Epoch 6/10\n",
      "43986/43986 [==============================] - 12s 278us/sample - loss: 0.2720 - accuracy: 0.9073 - val_loss: 0.2683 - val_accuracy: 0.9103\n",
      "Epoch 7/10\n",
      "43986/43986 [==============================] - 12s 274us/sample - loss: 0.2641 - accuracy: 0.9095 - val_loss: 0.2681 - val_accuracy: 0.9103\n",
      "Epoch 8/10\n",
      "43986/43986 [==============================] - 12s 275us/sample - loss: 0.2570 - accuracy: 0.9115 - val_loss: 0.2738 - val_accuracy: 0.9048\n",
      "Epoch 9/10\n",
      "43986/43986 [==============================] - 11s 260us/sample - loss: 0.2514 - accuracy: 0.9143 - val_loss: 0.2587 - val_accuracy: 0.9118\n",
      "Epoch 10/10\n",
      "43986/43986 [==============================] - 12s 266us/sample - loss: 0.2456 - accuracy: 0.9162 - val_loss: 0.2594 - val_accuracy: 0.9108\n"
     ]
    }
   ],
   "source": [
    "history = model_A.fit(X_train_A, y_train_A, epochs=10, validation_data=(X_valid_A, y_valid_A))"
   ]
  },
  {
   "cell_type": "markdown",
   "metadata": {},
   "source": [
    "- Let's create a new model that's entirely new and for task B."
   ]
  },
  {
   "cell_type": "code",
   "execution_count": 53,
   "metadata": {},
   "outputs": [],
   "source": [
    "model_B = keras.models.Sequential()\n",
    "model_B.add(keras.layers.Flatten(input_shape=[28, 28]))\n",
    "for n_hidden in (300, 100, 50, 50, 50):\n",
    "    model_B.add(keras.layers.Dense(n_hidden, activation=\"selu\"))\n",
    "model_B.add(keras.layers.Dense(1, activation=\"sigmoid\"))"
   ]
  },
  {
   "cell_type": "code",
   "execution_count": 54,
   "metadata": {},
   "outputs": [],
   "source": [
    "model_B.compile(loss=\"binary_crossentropy\",\n",
    "                optimizer=keras.optimizers.SGD(lr=1e-3),\n",
    "                metrics=[\"accuracy\"])"
   ]
  },
  {
   "cell_type": "code",
   "execution_count": 55,
   "metadata": {},
   "outputs": [
    {
     "name": "stdout",
     "output_type": "stream",
     "text": [
      "Train on 200 samples, validate on 986 samples\n",
      "Epoch 1/10\n",
      "200/200 [==============================] - 2s 9ms/sample - loss: 0.9545 - accuracy: 0.4600 - val_loss: 0.6655 - val_accuracy: 0.5385\n",
      "Epoch 2/10\n",
      "200/200 [==============================] - 0s 1ms/sample - loss: 0.5899 - accuracy: 0.6900 - val_loss: 0.4785 - val_accuracy: 0.8519\n",
      "Epoch 3/10\n",
      "200/200 [==============================] - 0s 1ms/sample - loss: 0.4512 - accuracy: 0.8800 - val_loss: 0.4098 - val_accuracy: 0.8945\n",
      "Epoch 4/10\n",
      "200/200 [==============================] - 0s 1ms/sample - loss: 0.3871 - accuracy: 0.9100 - val_loss: 0.3666 - val_accuracy: 0.9128\n",
      "Epoch 5/10\n",
      "200/200 [==============================] - 0s 1ms/sample - loss: 0.3438 - accuracy: 0.9250 - val_loss: 0.3315 - val_accuracy: 0.9300\n",
      "Epoch 6/10\n",
      "200/200 [==============================] - 0s 1ms/sample - loss: 0.3095 - accuracy: 0.9300 - val_loss: 0.3034 - val_accuracy: 0.9402\n",
      "Epoch 7/10\n",
      "200/200 [==============================] - 0s 1ms/sample - loss: 0.2810 - accuracy: 0.9400 - val_loss: 0.2808 - val_accuracy: 0.9432\n",
      "Epoch 8/10\n",
      "200/200 [==============================] - 0s 1ms/sample - loss: 0.2580 - accuracy: 0.9500 - val_loss: 0.2618 - val_accuracy: 0.9462\n",
      "Epoch 9/10\n",
      "200/200 [==============================] - 0s 1ms/sample - loss: 0.2372 - accuracy: 0.9600 - val_loss: 0.2447 - val_accuracy: 0.9513\n",
      "Epoch 10/10\n",
      "200/200 [==============================] - 0s 1ms/sample - loss: 0.2196 - accuracy: 0.9650 - val_loss: 0.2316 - val_accuracy: 0.9513\n"
     ]
    }
   ],
   "source": [
    "history = model_B.fit(X_train_B, y_train_B, epochs=10,\n",
    "                      validation_data=(X_valid_B, y_valid_B))"
   ]
  },
  {
   "cell_type": "markdown",
   "metadata": {},
   "source": [
    "- Now, let's create a new model based on the model A’s layers. \n",
    "    - Let’s reuse all layers except for the output layer."
   ]
  },
  {
   "cell_type": "code",
   "execution_count": 56,
   "metadata": {},
   "outputs": [],
   "source": [
    "model_B_on_A = keras.models.Sequential(layers=model_A.layers[:-1])\n",
    "model_B_on_A.add(keras.layers.Dense(1, activation='sigmoid'))"
   ]
  },
  {
   "cell_type": "markdown",
   "metadata": {},
   "source": [
    "- When you **train model_B_on_A**, it will also **affect model_A**. \n",
    "- If you want to avoid that, you need to **clone model_A** before you reuse its layers. \n",
    "    - To do this, you must clone model A’s architecture, then copy its weights (since `clone_model()` does not clone the weights)."
   ]
  },
  {
   "cell_type": "code",
   "execution_count": 57,
   "metadata": {},
   "outputs": [],
   "source": [
    "model_A_clone = keras.models.clone_model(model_A)\n",
    "model_A_clone.set_weights(model_A.get_weights())"
   ]
  },
  {
   "cell_type": "markdown",
   "metadata": {},
   "source": [
    "- Now we could just train model_B_on_A for task B, but since the **new output layer** was **initialized randomly**, it will make large errors, at least during the first few epochs, so there will be large error gradients that may wreck the reused weights. \n",
    "- To avoid this, one approach is to **freeze the reused layers** during the **first few epochs**, giving the new layer some time to learn reasonable weights. \n",
    "    - To do this, simply set every layer’s `trainable` attribute to False and compile the model."
   ]
  },
  {
   "cell_type": "code",
   "execution_count": 58,
   "metadata": {},
   "outputs": [
    {
     "name": "stdout",
     "output_type": "stream",
     "text": [
      "Train on 200 samples, validate on 986 samples\n",
      "Epoch 1/5\n",
      "200/200 [==============================] - 2s 8ms/sample - loss: 0.1862 - accuracy: 0.9650 - val_loss: 0.1896 - val_accuracy: 0.9797\n",
      "Epoch 2/5\n",
      "200/200 [==============================] - 0s 1ms/sample - loss: 0.1594 - accuracy: 0.9800 - val_loss: 0.1661 - val_accuracy: 0.9828\n",
      "Epoch 3/5\n",
      "200/200 [==============================] - 0s 1ms/sample - loss: 0.1375 - accuracy: 0.9800 - val_loss: 0.1469 - val_accuracy: 0.9838\n",
      "Epoch 4/5\n",
      "200/200 [==============================] - 0s 1ms/sample - loss: 0.1199 - accuracy: 0.9850 - val_loss: 0.1310 - val_accuracy: 0.9848\n",
      "Epoch 5/5\n",
      "200/200 [==============================] - 0s 1ms/sample - loss: 0.1052 - accuracy: 0.9850 - val_loss: 0.1182 - val_accuracy: 0.9848\n"
     ]
    }
   ],
   "source": [
    "for layer in model_B_on_A.layers[:-1]:\n",
    "    layer.trainable=False\n",
    "    \n",
    "model_B_on_A.compile(loss='binary_crossentropy', optimizer='adam', metrics=['accuracy'])\n",
    "\n",
    "history = model_B_on_A.fit(X_train_B, y_train_B, validation_data=(X_valid_B, y_valid_B), epochs=5)"
   ]
  },
  {
   "cell_type": "markdown",
   "metadata": {},
   "source": [
    "- Next, we can **unfreeze the reused layers** (which requires **compiling the model again**) and continue training to fine-tune the reused layers for task B. \n",
    "- After unfreezing the reused layers, it is usually a good idea to **reduce the learning rate**, once again to avoid damaging the reused weights."
   ]
  },
  {
   "cell_type": "code",
   "execution_count": 59,
   "metadata": {},
   "outputs": [
    {
     "name": "stdout",
     "output_type": "stream",
     "text": [
      "Train on 200 samples, validate on 986 samples\n",
      "Epoch 1/5\n",
      "200/200 [==============================] - 2s 9ms/sample - loss: 0.0462 - accuracy: 0.9900 - val_loss: 0.0357 - val_accuracy: 0.9899\n",
      "Epoch 2/5\n",
      "200/200 [==============================] - 0s 1ms/sample - loss: 0.0022 - accuracy: 1.0000 - val_loss: 0.2034 - val_accuracy: 0.9675\n",
      "Epoch 3/5\n",
      "200/200 [==============================] - 0s 1ms/sample - loss: 0.0180 - accuracy: 0.9950 - val_loss: 0.0822 - val_accuracy: 0.9878\n",
      "Epoch 4/5\n",
      "200/200 [==============================] - 0s 1ms/sample - loss: 5.2796e-05 - accuracy: 1.0000 - val_loss: 0.0396 - val_accuracy: 0.9909\n",
      "Epoch 5/5\n",
      "200/200 [==============================] - 0s 1ms/sample - loss: 2.9584e-05 - accuracy: 1.0000 - val_loss: 0.0283 - val_accuracy: 0.9970\n"
     ]
    }
   ],
   "source": [
    "for layer in model_B_on_A.layers[:-1]:\n",
    "    layer.trainable=True\n",
    "    \n",
    "model_B_on_A.compile(loss='binary_crossentropy', optimizer='adam', metrics=['accuracy'])\n",
    "\n",
    "history = model_B_on_A.fit(X_train_B, y_train_B, validation_data=(X_valid_B, y_valid_B), epochs=5)"
   ]
  },
  {
   "cell_type": "markdown",
   "metadata": {},
   "source": [
    "- Now, let's compare `model_B_on_A` with `model_B`."
   ]
  },
  {
   "cell_type": "code",
   "execution_count": 60,
   "metadata": {},
   "outputs": [
    {
     "data": {
      "text/plain": [
       "[0.22956316041946412, 0.955]"
      ]
     },
     "execution_count": 60,
     "metadata": {},
     "output_type": "execute_result"
    }
   ],
   "source": [
    "model_B.evaluate(X_test_B, y_test_B, verbose=0)"
   ]
  },
  {
   "cell_type": "code",
   "execution_count": 61,
   "metadata": {},
   "outputs": [
    {
     "data": {
      "text/plain": [
       "[0.007541129923303742, 0.997]"
      ]
     },
     "execution_count": 61,
     "metadata": {},
     "output_type": "execute_result"
    }
   ],
   "source": [
    "model_B_on_A.evaluate(X_test_B, y_test_B, verbose=0)"
   ]
  },
  {
   "cell_type": "markdown",
   "metadata": {},
   "source": [
    "- As we can see, `model_B_on_A` outperforms `model_B` significantly.\n",
    "- However, keep in mind that transfer learning generally does not work very well with small dense networks: it works best with deep convolutional neural networks."
   ]
  },
  {
   "cell_type": "markdown",
   "metadata": {},
   "source": [
    "# Unsupervised Pretraining\n",
    "- In the case where you don’t have much labeled training data, and you cannot find a model trained on a similar task, you may still be able to perform **unsupervised pretraining** if you can find enough unlabeled training data.\n",
    "- You can try to **train the layers one by one**, starting with the lowest layer and then going up, using an **unsupervised feature detector algorithm** such as **Restricted Boltzmann Machines (RBMs)** or **autoencoders**. \n",
    "    - Each layer is trained on the output of the previously trained layers (all layers except the one being trained are **frozen**). \n",
    "- Once all layers have been trained this way, you can **add the output layer** for your task, and fine-tune the final network using supervised learning (i.e., with the labeled training examples). \n",
    "    - At this point, you can **unfreeze** all the pretrained layers, or just some of the upper ones.\n",
    "    \n",
    "# Pretraining on an Auxiliary Task\n",
    "- If you do not have much labeled training data, one last option is to train a first neural network on an auxiliary task."
   ]
  },
  {
   "cell_type": "markdown",
   "metadata": {},
   "source": [
    "# Faster Optimizers\n",
    "- Training a very large deep neural network can be painfully slow. \n",
    "- So far, we have seen 4 ways to speed up training (and reach a better solution): \n",
    "    - Applying a **good initialization strategy** for the connection weights\n",
    "    - Using a **good activation function**\n",
    "    - Using **Batch Normalization**\n",
    "    - Reusing parts of a **pretrained network** \n",
    "        - Possibly built on an auxiliary task \n",
    "        - Or using unsupervised learning\n",
    "- Another huge speed boost comes from using a **faster optimizer** than the regular Gradient Descent optimizer.\n",
    "\n",
    "## Momentum Optimization\n",
    "- Recall that **regular Gradient Descent** will simply take small regular steps down the slope, as the algorithm simply updates the weights $\\theta$ by directly subtracting the gradient of the cost function $J(\\theta)$ with regards to the weights $(\\nabla_{\\theta} J(\\theta))$ multiplied by the learning rate $\\eta$.\n",
    "    - $\\theta \\leftarrow \\theta - \\eta \\nabla_{\\theta} J(\\theta)$\n",
    "- **Momentum optimization** cares a great deal about what **previous gradients** were. \n",
    "- At each iteration, it subtracts the local gradient from the **momentum vector** $m$ (multiplied by the learning rate $\\eta$), and it updates the weights by simply adding this momentum vector.\n",
    "    - $m \\leftarrow \\beta m - \\eta \\nabla_{\\theta} J(\\theta)$\n",
    "    - $\\theta \\leftarrow \\theta + m$\n",
    "        - $\\beta$ is the new hyperparamter **momentum** with values between 0 and 1 (typical value is 0.9).\n",
    "- Although Momentum optimization adds another hyperparameter to tune, the **momentum value of 0.9** usually works well in practice and almost always goes faster than regular Gradient Descent.\n",
    "- To implement momentum optimization using Keras, just use the **SGD optimizer** and set its `momentum` hyperparameter."
   ]
  },
  {
   "cell_type": "code",
   "execution_count": 62,
   "metadata": {},
   "outputs": [
    {
     "data": {
      "text/plain": [
       "<tensorflow.python.keras.optimizer_v2.gradient_descent.SGD at 0x7fce766c3690>"
      ]
     },
     "execution_count": 62,
     "metadata": {},
     "output_type": "execute_result"
    }
   ],
   "source": [
    "keras.optimizers.SGD(lr=1e-3, momentum=0.9)"
   ]
  },
  {
   "cell_type": "markdown",
   "metadata": {},
   "source": [
    "## Nesterov Accelerated Gradient (NAG)\n",
    "- One small variant to Momentum optimization, almost always **faster than vanilla Momentum optimization**. \n",
    "- The idea of **Nesterov Momentum optimization**, or **Nesterov Accelerated Gradient (NAG)**, is to measure the gradient of the cost function not at the local position but slightly ahead in the direction of the momentum. \n",
    "    - The only difference from vanilla Momentum optimization is that the gradient is measured at $\\theta + \\beta m$ rather than at $\\theta$.\n",
    "        - $m \\leftarrow \\beta m - \\nabla_{\\theta}J(\\theta + \\beta m) \\times \\eta$\n",
    "        - $\\theta \\leftarrow \\theta + m$\n",
    "- To use it, simply set `nesterov=True` when creating the **SGD** optimizer."
   ]
  },
  {
   "cell_type": "code",
   "execution_count": 63,
   "metadata": {},
   "outputs": [
    {
     "data": {
      "text/plain": [
       "<tensorflow.python.keras.optimizer_v2.gradient_descent.SGD at 0x7fce766c3d50>"
      ]
     },
     "execution_count": 63,
     "metadata": {},
     "output_type": "execute_result"
    }
   ],
   "source": [
    "keras.optimizers.SGD(lr=1e-3, nesterov=True)"
   ]
  },
  {
   "cell_type": "markdown",
   "metadata": {},
   "source": [
    "## AdaGrad\n",
    "- The AdaGrad algorithm **corrects its direction** to point a bit more toward the **global optimum** by **scaling down the gradient vector** along the steepest dimensions.\n",
    "- The first step of the algorithm accumulates the square of the gradient, and the second step scales down the gradient vector.\n",
    "    - $s \\leftarrow s + \\nabla_{\\theta}J(\\theta) \\otimes \\nabla_{\\theta}J(\\theta)$\n",
    "    - $\\theta \\leftarrow \\theta - \\eta \\nabla_{\\theta}J(\\theta) \\oslash \\sqrt{s + \\epsilon}$\n",
    "- In short, this algorithm **decays the learning rate**, but it does so **faster for steep dimensions** than for dimensions with gentler slopes. \n",
    "    - This is called an **adaptive learning rate**.\n",
    "- Note that AdaGrad tends to stop too early when training deep neural networks.\n",
    "    - So even though Keras has an Adagrad optimizer, you should **NOT** use it to train **deep neural networks**."
   ]
  },
  {
   "cell_type": "code",
   "execution_count": 64,
   "metadata": {},
   "outputs": [
    {
     "data": {
      "text/plain": [
       "<tensorflow.python.keras.optimizer_v2.adagrad.Adagrad at 0x7fce766c82d0>"
      ]
     },
     "execution_count": 64,
     "metadata": {},
     "output_type": "execute_result"
    }
   ],
   "source": [
    "keras.optimizers.Adagrad(lr=1e-3)"
   ]
  },
  {
   "cell_type": "markdown",
   "metadata": {},
   "source": [
    "## RMSProp\n",
    "- Although AdaGrad slows down a bit too fast and ends up never converging to the global optimum, the RMSProp algorithm fixes this by **accumulating only the gradients** from **the most recent iterations** (as opposed to all the gradients since the beginning of training). \n",
    "    - $s \\leftarrow \\beta s + (1-\\beta) \\nabla_{\\theta}J(\\theta) \\otimes \\nabla_{\\theta}J(\\theta)$\n",
    "    - $\\theta \\leftarrow \\theta - \\eta \\nabla_{\\theta}J(\\theta) \\oslash \\sqrt{s + \\epsilon}$\n",
    "        - $\\beta$ is the decay rate, typically set 0.9.\n",
    "- The RMSProp optimizer almost always performs much better than AdaGrad.\n",
    "- To implement RMSProp, we can use the `RMSProp` optimizer from Keras."
   ]
  },
  {
   "cell_type": "code",
   "execution_count": 65,
   "metadata": {},
   "outputs": [
    {
     "data": {
      "text/plain": [
       "<tensorflow.python.keras.optimizer_v2.rmsprop.RMSprop at 0x7fce766c8910>"
      ]
     },
     "execution_count": 65,
     "metadata": {},
     "output_type": "execute_result"
    }
   ],
   "source": [
    "keras.optimizers.RMSprop(lr=0.01, rho=0.9)"
   ]
  },
  {
   "cell_type": "markdown",
   "metadata": {},
   "source": [
    "## Adam and Nadam Optimization\n",
    "- **Adam**, which stands for **adaptive moment estimation**, combines the ideas of **Momentum optimization** and **RMSProp**.\n",
    "    - Just like Momentum optimization it keeps track of an **exponentially decaying average of past gradients**\n",
    "    - Just like RMSProp it keeps track of an **exponentially decaying average of past squared gradients**.\n",
    "- The Adam algorithm\n",
    "    1. $m \\leftarrow \\beta_1 m - (1-\\beta_1) \\nabla_{\\theta}J(\\theta)$\n",
    "    2. $s \\leftarrow \\beta_2 s + (1-\\beta_2) \\nabla_{\\theta}J(\\theta) \\otimes \\nabla_{\\theta}J(\\theta)$\n",
    "    3. $\\hat{m} \\leftarrow \\frac{m}{1-{\\beta_1}^t}$\n",
    "    4. $\\hat{s} \\leftarrow \\frac{s}{1-{\\beta_2}^t}$\n",
    "    5. $\\theta \\leftarrow \\theta + \\eta \\hat{m} \\oslash \\sqrt{\\hat{s}+\\epsilon}$\n",
    "        - The momentum decay hyperparameter $\\beta_1$ is typically initialized to 0.9.\n",
    "        - The scaling decay hyperparameter $\\beta_2$ is often initialized to 0.999. \n",
    "        - As earlier, the smoothing term $\\epsilon$ is usually initialized to a tiny number such as $10^{-7}$.\n",
    "- To implement Adam optimization, we can use the `Adam` class from Keras."
   ]
  },
  {
   "cell_type": "code",
   "execution_count": 66,
   "metadata": {},
   "outputs": [
    {
     "data": {
      "text/plain": [
       "<tensorflow.python.keras.optimizer_v2.adam.Adam at 0x7fce766c8e50>"
      ]
     },
     "execution_count": 66,
     "metadata": {},
     "output_type": "execute_result"
    }
   ],
   "source": [
    "keras.optimizers.Adam()"
   ]
  },
  {
   "cell_type": "markdown",
   "metadata": {},
   "source": [
    "- **Nadam optimization** is simply **Adam optimization** plus the **Nesterov trick**, so it will often **converge slightly faster** than Adam."
   ]
  },
  {
   "cell_type": "code",
   "execution_count": 67,
   "metadata": {},
   "outputs": [
    {
     "data": {
      "text/plain": [
       "<tensorflow.python.keras.optimizer_v2.nadam.Nadam at 0x7fce766cb450>"
      ]
     },
     "execution_count": 67,
     "metadata": {},
     "output_type": "execute_result"
    }
   ],
   "source": [
    "keras.optimizers.Nadam()"
   ]
  },
  {
   "cell_type": "markdown",
   "metadata": {},
   "source": [
    "# Learning Rate Scheduling\n",
    "- Finding the optimal learning rate is tricky, and wee can do better than a constant learning rate.\n",
    "    - If you start with a high learning rate and then reduce it once it stops making fast progress, you can reach a good solution faster than with the optimal constant learning rate. \n",
    "- There are many different **strategies to reduce the learning rate** during training, which are called **learning schedules**.\n",
    "\n",
    "## Power Scheduling\n",
    "- $\\eta(t) = \\frac{\\eta_0}{(1+t/k)^c}$\n",
    "- This schedule first drops quickly, then more and more slowly as $t$ increases.\n",
    "- Implementing power scheduling in Keras is the easiest option: just set the `decay` hyperparameter when creating an optimizer. \n",
    "    - The `decay` is the inverse of $k$ (the number of steps it takes to divide the learning rate by one more unit), and Keras assumes that $c$ is equal to 1."
   ]
  },
  {
   "cell_type": "code",
   "execution_count": 68,
   "metadata": {},
   "outputs": [
    {
     "data": {
      "text/plain": [
       "<tensorflow.python.keras.optimizer_v2.gradient_descent.SGD at 0x7fce93eb92d0>"
      ]
     },
     "execution_count": 68,
     "metadata": {},
     "output_type": "execute_result"
    }
   ],
   "source": [
    "keras.optimizers.SGD(lr=0.01, decay=1/10000)"
   ]
  },
  {
   "cell_type": "markdown",
   "metadata": {},
   "source": [
    "## Exponential Scheduling\n",
    "- $\\eta(t) = \\eta_0 0.1^{t/s}$\n",
    "- The learning rate will gradually drop by a factor of 10 every $s$ steps.\n",
    "- To implement exponential scheduling:\n",
    "    - First, define a function that takes the current epoch and returns the learning rate\n",
    "    - Next, create a **`LearningRateScheduler` callback**, giving it the schedule function, and pass this callback to the `fit()` method"
   ]
  },
  {
   "cell_type": "code",
   "execution_count": 69,
   "metadata": {},
   "outputs": [],
   "source": [
    "def exponential_decay(lr0, s):\n",
    "    def exponential_decay_fn(epoch):\n",
    "        return lr0*0.1**(epoch/s)\n",
    "    return exponential_decay_fn"
   ]
  },
  {
   "cell_type": "code",
   "execution_count": 70,
   "metadata": {},
   "outputs": [],
   "source": [
    "exponential_decay_fn = exponential_decay(lr0=0.01, s=20)"
   ]
  },
  {
   "cell_type": "code",
   "execution_count": 71,
   "metadata": {},
   "outputs": [],
   "source": [
    "exp_scheduler = keras.callbacks.LearningRateScheduler(exponential_decay_fn)"
   ]
  },
  {
   "cell_type": "code",
   "execution_count": 72,
   "metadata": {},
   "outputs": [],
   "source": [
    "# history = model.fit(X_train, y_train, ..., callbacks=[exp_scheduler])"
   ]
  },
  {
   "cell_type": "markdown",
   "metadata": {},
   "source": [
    "- The schedule function can take the **current learning rate** as a second argument."
   ]
  },
  {
   "cell_type": "code",
   "execution_count": 73,
   "metadata": {},
   "outputs": [],
   "source": [
    " def exponential_decay_fn(epoch, lr):\n",
    "        return lr*0.1**(1/20)"
   ]
  },
  {
   "cell_type": "markdown",
   "metadata": {},
   "source": [
    "- If you want to **update the learning rate at each iteration** rather than each epoch, you must write your own **callback class**."
   ]
  },
  {
   "cell_type": "code",
   "execution_count": 74,
   "metadata": {},
   "outputs": [],
   "source": [
    "K = keras.backend\n",
    "\n",
    "class ExponentialDecay(keras.callbacks.Callback):\n",
    "    def __init__(self, s=40000):\n",
    "        super().__init__()\n",
    "        self.s = s\n",
    "        \n",
    "    def on_batch_begin(self, batch, logs=None):\n",
    "        lr = K.get_value(self.model.optimizer.lr)\n",
    "        K.set_value(self.model.optimizer.lr, lr*0.1**(1/s))\n",
    "        \n",
    "    def on_epoch_end(self, epoch, logs=None):\n",
    "        logs = logs or {}\n",
    "        logs['lr'] = K.get_value(self.model.optimizer.lr)"
   ]
  },
  {
   "cell_type": "code",
   "execution_count": 75,
   "metadata": {},
   "outputs": [],
   "source": [
    "s = 20 * len(X_train) // 32   # number of steps in 20 epochs, given batch size is 32 (one batch in each step)\n",
    "\n",
    "exp_decay = ExponentialDecay(s)\n",
    "\n",
    "# history = model.fit(X_train, y_train, ..., callbacks=[exp_decay])"
   ]
  },
  {
   "cell_type": "markdown",
   "metadata": {},
   "source": [
    "## Piecewise Constant Scheduling\n",
    "- Use a constant learning rate for a number of epochs (e.g. $\\eta_0=0.1$ for 5 epochs), then a smaller learning rate for another number of epochs (e.g. $\\eta_1=0.001$ for 50 epochs), and so on.\n",
    "- To implement Piecewise Constant Scheduling, we can use a **schedule function** as earlier, then create a **`LearningRateScheduler` callback** with this function."
   ]
  },
  {
   "cell_type": "code",
   "execution_count": 76,
   "metadata": {},
   "outputs": [],
   "source": [
    "def piecewise_constant_fn(epoch):\n",
    "    if epoch < 5:\n",
    "        return 0.01\n",
    "    elif epoch < 15:\n",
    "        return 0.005\n",
    "    else:\n",
    "        return 0.001"
   ]
  },
  {
   "cell_type": "code",
   "execution_count": 77,
   "metadata": {},
   "outputs": [],
   "source": [
    "piecewise_constant_scheduler = keras.callbacks.LearningRateScheduler(piecewise_constant_fn)"
   ]
  },
  {
   "cell_type": "code",
   "execution_count": 78,
   "metadata": {},
   "outputs": [],
   "source": [
    "# history = model.fit(X_train, y_train, ..., callbacks=[piecewise_constant_scheduler])"
   ]
  },
  {
   "cell_type": "markdown",
   "metadata": {},
   "source": [
    "## Performance Scheduling\n",
    "- Measure the validation error every $N$ steps, and reduce the learning rate by a factor $\\lambda$ when the error stops dropping.\n",
    "- To implement performance scheduling, simply use the **`ReduceLROnPlateau` callback**. \n",
    "    - The following callback will multiply the learning rate by 0.5 ($\\lambda = 0.5$) whenever the best validation loss does not improve for 5 consecutive epochs."
   ]
  },
  {
   "cell_type": "code",
   "execution_count": 79,
   "metadata": {},
   "outputs": [],
   "source": [
    "performance_scheduler = keras.callbacks.ReduceLROnPlateau(factor=0.5, patience=5)\n",
    "\n",
    "# history = model.fit(X_train, y_train, ..., callbacks=[performance_scheduler])"
   ]
  },
  {
   "cell_type": "markdown",
   "metadata": {},
   "source": [
    "## tf.keras Schedulers\n",
    "- Lastly, **tf.keras** offers an alternative way to implement learning rate scheduling: just define the learning rate using one of the schedules available in `keras.optimisers.schedules`, then pass this learning rate to any optimizer.\n",
    "- This approach updates the learning rate at **each step** rather than at each epoch."
   ]
  },
  {
   "cell_type": "code",
   "execution_count": 80,
   "metadata": {},
   "outputs": [],
   "source": [
    "n_epochs = 20\n",
    "batch_size = 32\n",
    "\n",
    "s = n_epochs * len(X_train) // batch_size\n",
    "\n",
    "learning_rate = keras.optimizers.schedules.ExponentialDecay(initial_learning_rate=0.01, \n",
    "                                                            decay_steps=s, decay_rate=0.1)\n",
    "exp_optimizer = keras.optimizers.SGD(learning_rate)\n",
    "\n",
    "# model.compile(loss='sparse_categorical_crossentropy', optimizer=exp_optimizer, metrics=['accuracy'])\n",
    "\n",
    "# history = model.fit(X_train, y_train, ..., epochs=n_epochs)"
   ]
  },
  {
   "cell_type": "markdown",
   "metadata": {},
   "source": [
    "# Avoiding Overfitting through Regularization\n",
    "## $l_1$ and $l_2$ Regularization\n",
    "- Just like you did in Chapter 4 for simple linear models, you can use $l_1$ and $l_2$ regularization.\n",
    "- We implement $l_1$ and $l_2$ regularizations using `keras.regularizers.l1()` and `keras.regularizers.l2()`.\n",
    "    - We need to specify the **regularization factor**.\n",
    "    - These functions will compute the regularization loss at each step during training, which is then added to the final loss.\n",
    "- If you want **both $l_1$ and $l_2$ regularization**, use `keras.regularizers.l1_l2()`, specifying both regularization factors."
   ]
  },
  {
   "cell_type": "code",
   "execution_count": 81,
   "metadata": {},
   "outputs": [
    {
     "data": {
      "text/plain": [
       "<tensorflow.python.keras.layers.core.Dense at 0x7fce74087390>"
      ]
     },
     "execution_count": 81,
     "metadata": {},
     "output_type": "execute_result"
    }
   ],
   "source": [
    "keras.layers.Dense(100, activation=\"elu\", kernel_initializer=\"he_normal\", \n",
    "                   kernel_regularizer=keras.regularizers.l2(0.01))"
   ]
  },
  {
   "cell_type": "markdown",
   "metadata": {},
   "source": [
    "- Since you will typically want to apply the **same regularizer, activation function, and initialization strategy** to **all layers** in your network, you may find yourself repeating the same arguments over and over.\n",
    "- To avoid this, you can try refactoring your code to use loops. \n",
    "- Another option is to use Python’s `functools.partial()` function.\n",
    "    - It lets you create a thin wrapper for any callable, with some default argument values."
   ]
  },
  {
   "cell_type": "code",
   "execution_count": 82,
   "metadata": {},
   "outputs": [],
   "source": [
    "from functools import partial"
   ]
  },
  {
   "cell_type": "code",
   "execution_count": 83,
   "metadata": {},
   "outputs": [],
   "source": [
    "RegularizedDense = partial(keras.layers.Dense,\n",
    "                          activation='elu',\n",
    "                          kernel_initializer='he_normal',\n",
    "                          kernel_regularizer=keras.regularizers.l2(0.01))"
   ]
  },
  {
   "cell_type": "code",
   "execution_count": 84,
   "metadata": {},
   "outputs": [],
   "source": [
    "model = keras.models.Sequential()\n",
    "\n",
    "model.add(keras.layers.Flatten(input_shape=[28, 28]))\n",
    "\n",
    "model.add(RegularizedDense(300))\n",
    "model.add(RegularizedDense(300))\n",
    "model.add(RegularizedDense(300))\n",
    "\n",
    "model.add(keras.layers.Dense(10, activation='softmax', kernel_initializer='glorot_uniform'))"
   ]
  },
  {
   "cell_type": "markdown",
   "metadata": {},
   "source": [
    "## Dropout\n",
    "- Dropout is one of the most popular regularization techniques for deep neural networks.\n",
    "- It is a fairly simple algorithm: \n",
    "    - At **every training step**, every neuron (including the **input neurons**, but always excluding the output neurons) has a **probability $p$** of being temporarily “dropped out,” meaning it will be **entirely ignored** during this training step, but it may be active during the next step. \n",
    "    - The hyperparameter $p$ is called the **dropout rate**, and it is typically set to 50%.\n",
    "- There is one small but important technical detail: Suppose p = 50%, in which case during testing a neuron will be connected to twice as many input neurons as it was (on average) during training. \n",
    "    - To compensate for this fact, we need to **multiply each input connection weight** by the **keep probability** $(1 – p)$ after training. \n",
    "    - Alternatively, we can **divide each neuron’s output** by the **keep probability** during training.\n",
    "- To implement dropout using Keras, you can use the `keras.layers.Dropout` layer.\n",
    "    - During training, it randomly drops some inputs (setting them to 0) and divides the remaining inputs by the keep probability."
   ]
  },
  {
   "cell_type": "code",
   "execution_count": 85,
   "metadata": {},
   "outputs": [],
   "source": [
    "model = keras.models.Sequential()\n",
    "\n",
    "model.add(keras.layers.Flatten(input_shape=[28, 28]))\n",
    "\n",
    "model.add(keras.layers.Dense(300, activation='elu', kernel_initializer='he_normal'))\n",
    "model.add(keras.layers.Dropout(0.5))\n",
    "model.add(keras.layers.Dense(300, activation='elu', kernel_initializer='he_normal'))\n",
    "model.add(keras.layers.Dropout(0.5))\n",
    "model.add(keras.layers.Dense(300, activation='elu', kernel_initializer='he_normal'))\n",
    "model.add(keras.layers.Dropout(0.5))\n",
    "\n",
    "model.add(keras.layers.Dense(10, activation='softmax', kernel_initializer='glorot_uniform'))"
   ]
  },
  {
   "cell_type": "markdown",
   "metadata": {},
   "source": [
    "## Monte-Carlo (MC) Dropout\n",
    "- To implement MC Dropout, we first **force training mode on**, using a `learning_phase_scope(1)` context. \n",
    "    - This turns dropout on within the `with` block. \n",
    "- Then we **make 100 predictions** over the test set, and we **stack them**. \n",
    "    - Since dropout is on, all predictions will be different. \n",
    "    - Recall that `predict()` returns a matrix with one row per instance, and one column per class.\n",
    "    - Since there are 10,000 instances in the test set, and 10 classes, this is a matrix of shape [10000, 10]. \n",
    "    - We stack 100 such matrices, so y_probas is an array of shape [100, 10000, 10]. \n",
    "- Once we average over the first dimension (`axis=0`), we get `y_proba`, an array of shape [10000, 10], like we would get with a single prediction."
   ]
  },
  {
   "cell_type": "code",
   "execution_count": 86,
   "metadata": {},
   "outputs": [],
   "source": [
    "# with keras.backend.learning_phase_scope(1):\n",
    "#     y_probas = np.stack([model.predict(X_test_scaled) for sample in range(100)])\n",
    "\n",
    "# y_proba = y_probas.mean(axis=0)"
   ]
  },
  {
   "cell_type": "markdown",
   "metadata": {},
   "source": [
    "- If your model contains **other layers that behave in a special way** during training (such as **Batch Normalization layers**), then you should NOT force training mode like we just did. \n",
    "- Instead, you should replace the Dropout layers with the following **MCDropout class**.\n",
    "    - We just sublass the Dropout layer and override the `call()` method to force its `training` argument to True."
   ]
  },
  {
   "cell_type": "code",
   "execution_count": 87,
   "metadata": {},
   "outputs": [],
   "source": [
    "class MCDropout(keras.layers.Dropout):\n",
    "    def call(self, inputs):\n",
    "        return super().call(inputs, training=True)"
   ]
  },
  {
   "cell_type": "markdown",
   "metadata": {},
   "source": [
    "- If you are creating a model from scratch, it’s just a matter of using `MCDropout` rather than `Dropout`."
   ]
  },
  {
   "cell_type": "code",
   "execution_count": 88,
   "metadata": {},
   "outputs": [],
   "source": [
    "model = keras.models.Sequential()\n",
    "\n",
    "model.add(keras.layers.Flatten(input_shape=[28, 28]))\n",
    "\n",
    "model.add(keras.layers.Dense(300, activation='elu', kernel_initializer='he_normal'))\n",
    "model.add(MCDropout(0.5))\n",
    "model.add(keras.layers.Dense(300, activation='elu', kernel_initializer='he_normal'))\n",
    "model.add(MCDropout(0.5))\n",
    "model.add(keras.layers.Dense(300, activation='elu', kernel_initializer='he_normal'))\n",
    "model.add(MCDropout(0.5))\n",
    "\n",
    "model.add(keras.layers.Dense(10, activation='softmax', kernel_initializer='glorot_uniform'))"
   ]
  },
  {
   "cell_type": "code",
   "execution_count": 89,
   "metadata": {},
   "outputs": [
    {
     "name": "stdout",
     "output_type": "stream",
     "text": [
      "Model: \"sequential_11\"\n",
      "_________________________________________________________________\n",
      "Layer (type)                 Output Shape              Param #   \n",
      "=================================================================\n",
      "flatten_10 (Flatten)         (None, 784)               0         \n",
      "_________________________________________________________________\n",
      "dense_240 (Dense)            (None, 300)               235500    \n",
      "_________________________________________________________________\n",
      "mc_dropout (MCDropout)       (None, 300)               0         \n",
      "_________________________________________________________________\n",
      "dense_241 (Dense)            (None, 300)               90300     \n",
      "_________________________________________________________________\n",
      "mc_dropout_1 (MCDropout)     (None, 300)               0         \n",
      "_________________________________________________________________\n",
      "dense_242 (Dense)            (None, 300)               90300     \n",
      "_________________________________________________________________\n",
      "mc_dropout_2 (MCDropout)     (None, 300)               0         \n",
      "_________________________________________________________________\n",
      "dense_243 (Dense)            (None, 10)                3010      \n",
      "=================================================================\n",
      "Total params: 419,110\n",
      "Trainable params: 419,110\n",
      "Non-trainable params: 0\n",
      "_________________________________________________________________\n"
     ]
    }
   ],
   "source": [
    "model.summary()"
   ]
  },
  {
   "cell_type": "markdown",
   "metadata": {},
   "source": [
    "- If you have a model that was already trained using `Dropout`, you need to create a new model identical to the existing model except replacing the `Dropout` layers with `MCDropout`, then copy the existing model’s weights to your new model."
   ]
  },
  {
   "cell_type": "code",
   "execution_count": 90,
   "metadata": {},
   "outputs": [],
   "source": [
    "mc_model = keras.models.Sequential([\n",
    "    MCDropout(layer.rate) if isinstance(layer, keras.layers.Dropout) else layer for layer in model.layers\n",
    "])"
   ]
  },
  {
   "cell_type": "code",
   "execution_count": 91,
   "metadata": {},
   "outputs": [
    {
     "name": "stdout",
     "output_type": "stream",
     "text": [
      "Model: \"sequential_12\"\n",
      "_________________________________________________________________\n",
      "Layer (type)                 Output Shape              Param #   \n",
      "=================================================================\n",
      "flatten_10 (Flatten)         (None, 784)               0         \n",
      "_________________________________________________________________\n",
      "dense_240 (Dense)            (None, 300)               235500    \n",
      "_________________________________________________________________\n",
      "mc_dropout_3 (MCDropout)     (None, 300)               0         \n",
      "_________________________________________________________________\n",
      "dense_241 (Dense)            (None, 300)               90300     \n",
      "_________________________________________________________________\n",
      "mc_dropout_4 (MCDropout)     (None, 300)               0         \n",
      "_________________________________________________________________\n",
      "dense_242 (Dense)            (None, 300)               90300     \n",
      "_________________________________________________________________\n",
      "mc_dropout_5 (MCDropout)     (None, 300)               0         \n",
      "_________________________________________________________________\n",
      "dense_243 (Dense)            (None, 10)                3010      \n",
      "=================================================================\n",
      "Total params: 419,110\n",
      "Trainable params: 419,110\n",
      "Non-trainable params: 0\n",
      "_________________________________________________________________\n"
     ]
    }
   ],
   "source": [
    "mc_model.summary()"
   ]
  },
  {
   "cell_type": "code",
   "execution_count": 92,
   "metadata": {},
   "outputs": [],
   "source": [
    "mc_model.compile(loss='sparse_categorical_crossentropy', optimizer='adam', metrics=['accuracy'])"
   ]
  },
  {
   "cell_type": "code",
   "execution_count": 93,
   "metadata": {},
   "outputs": [
    {
     "name": "stdout",
     "output_type": "stream",
     "text": [
      "Train on 55000 samples, validate on 5000 samples\n",
      "Epoch 1/3\n",
      "55000/55000 [==============================] - 25s 462us/sample - loss: 1.0600 - accuracy: 0.7161 - val_loss: 0.6135 - val_accuracy: 0.7926\n",
      "Epoch 2/3\n",
      "55000/55000 [==============================] - 24s 442us/sample - loss: 0.5843 - accuracy: 0.7939 - val_loss: 0.5780 - val_accuracy: 0.7980\n",
      "Epoch 3/3\n",
      "55000/55000 [==============================] - 24s 440us/sample - loss: 0.5655 - accuracy: 0.8054 - val_loss: 0.5299 - val_accuracy: 0.8216\n"
     ]
    }
   ],
   "source": [
    "history = mc_model.fit(X_train_scaled, y_train, validation_data=(X_valid_scaled, y_valid), epochs=3)"
   ]
  },
  {
   "cell_type": "code",
   "execution_count": 94,
   "metadata": {},
   "outputs": [
    {
     "data": {
      "text/plain": [
       "array([[0.  , 0.  , 0.  , 0.  , 0.  , 0.  , 0.  , 0.04, 0.  , 0.95]],\n",
       "      dtype=float32)"
      ]
     },
     "execution_count": 94,
     "metadata": {},
     "output_type": "execute_result"
    }
   ],
   "source": [
    "np.round(model.predict(X_test_scaled[:1]), 2)"
   ]
  },
  {
   "cell_type": "code",
   "execution_count": 95,
   "metadata": {},
   "outputs": [
    {
     "data": {
      "text/plain": [
       "array([[0.  , 0.  , 0.  , 0.  , 0.  , 0.1 , 0.  , 0.12, 0.  , 0.78]],\n",
       "      dtype=float32)"
      ]
     },
     "execution_count": 95,
     "metadata": {},
     "output_type": "execute_result"
    }
   ],
   "source": [
    "np.round(np.mean([mc_model.predict(X_test_scaled[:1]) for sample in range (100)], axis=0), 2)"
   ]
  },
  {
   "cell_type": "markdown",
   "metadata": {},
   "source": [
    "## Max-Norm Regularization\n",
    "- For **each neuron**, it **constrains the weights** $w$ of the incoming connections such that $\\left\\|w \\right\\|_2 \\leq r$, where $r$ is the max-norm hyperparameter and $\\left\\|w \\right\\|_2$ is the $l_2$ norm.\n",
    "- Max-norm regularization does not add a regularization loss term to the overall loss function. \n",
    "    - Instead, it is typically implemented by computing $\\left\\|w \\right\\|_2$ after each training step and clipping $w$ if needed ($w \\leftarrow w\\frac{r}{\\left\\|w \\right\\|_2}$).\n",
    "    - Reducing $r$ increases the amount of regularization and helps reduce overfitting.\n",
    "- To implement max-norm regularization in Keras, just set every hidden layer’s `kernel_constraint` argument to a `max_norm()` constraint, with the appropriate max value."
   ]
  },
  {
   "cell_type": "code",
   "execution_count": 96,
   "metadata": {},
   "outputs": [],
   "source": [
    "layer = keras.layers.Dense(100, activation='selu', kernel_initializer='lecun_normal',\n",
    "                          kernel_constraint=keras.constraints.max_norm(1.0))"
   ]
  },
  {
   "cell_type": "markdown",
   "metadata": {},
   "source": [
    "- Now, let's build an ANN model using Max-Norm regularization using the `functools.partial()` function as before."
   ]
  },
  {
   "cell_type": "code",
   "execution_count": 97,
   "metadata": {},
   "outputs": [],
   "source": [
    "MaxNormDense = partial(keras.layers.Dense,\n",
    "                      activation='selu',\n",
    "                      kernel_initializer='lecun_normal',\n",
    "                      kernel_constraint=keras.constraints.max_norm(1.0))"
   ]
  },
  {
   "cell_type": "code",
   "execution_count": 98,
   "metadata": {},
   "outputs": [],
   "source": [
    "model = keras.models.Sequential()\n",
    "\n",
    "model.add(keras.layers.Flatten(input_shape=[28, 28]))\n",
    "\n",
    "model.add(MaxNormDense(300))\n",
    "model.add(MaxNormDense(100))\n",
    "\n",
    "model.add(keras.layers.Dense(10, activation='softmax'))"
   ]
  },
  {
   "cell_type": "code",
   "execution_count": 99,
   "metadata": {},
   "outputs": [],
   "source": [
    "model.compile(loss='sparse_categorical_crossentropy', optimizer='nadam', metrics=['accuracy'])"
   ]
  },
  {
   "cell_type": "code",
   "execution_count": 100,
   "metadata": {},
   "outputs": [
    {
     "name": "stdout",
     "output_type": "stream",
     "text": [
      "Train on 55000 samples, validate on 5000 samples\n",
      "Epoch 1/3\n",
      "55000/55000 [==============================] - 22s 402us/sample - loss: 0.4761 - accuracy: 0.8338 - val_loss: 0.3973 - val_accuracy: 0.8544\n",
      "Epoch 2/3\n",
      "55000/55000 [==============================] - 21s 379us/sample - loss: 0.3584 - accuracy: 0.8691 - val_loss: 0.3782 - val_accuracy: 0.8672\n",
      "Epoch 3/3\n",
      "55000/55000 [==============================] - 21s 382us/sample - loss: 0.3280 - accuracy: 0.8785 - val_loss: 0.3497 - val_accuracy: 0.8752\n"
     ]
    }
   ],
   "source": [
    "history = model.fit(X_train_scaled, y_train, epochs=3, validation_data=(X_valid_scaled, y_valid))"
   ]
  },
  {
   "cell_type": "code",
   "execution_count": 101,
   "metadata": {},
   "outputs": [
    {
     "data": {
      "text/plain": [
       "[0.37800401457548144, 0.8634]"
      ]
     },
     "execution_count": 101,
     "metadata": {},
     "output_type": "execute_result"
    }
   ],
   "source": [
    "model.evaluate(X_test_scaled, y_test, verbose=0)"
   ]
  },
  {
   "cell_type": "markdown",
   "metadata": {},
   "source": [
    "# Summary and Practical Guidelines\n",
    "- The configuration below will work fine in most cases, without requiring much hyperparameter tuning.\n",
    "    - Kernel initializer: **LeCun Initialization**\n",
    "    - Activation function: **SELU**\n",
    "    - Normalization: None (self-normalization)\n",
    "    - Regularization: **Early Stopping**\n",
    "    - Optimizer: **Nadam**\n",
    "    - Learning rate schedule: **Performance Scheduling**\n",
    "    - Also, don't forget to **standardize the input features**."
   ]
  },
  {
   "cell_type": "markdown",
   "metadata": {},
   "source": [
    "# Exercises\n",
    "## 8. Deep Learning\n",
    "- This exercise requires fitting models for hundreds of epochs, which is highly computationaly-expensive.\n",
    "- For the sample code, visit: https://github.com/ageron/handson-ml2/blob/master/11_training_deep_neural_networks.ipynb"
   ]
  }
 ],
 "metadata": {
  "kernelspec": {
   "display_name": "Python 3",
   "language": "python",
   "name": "python3"
  },
  "language_info": {
   "codemirror_mode": {
    "name": "ipython",
    "version": 3
   },
   "file_extension": ".py",
   "mimetype": "text/x-python",
   "name": "python",
   "nbconvert_exporter": "python",
   "pygments_lexer": "ipython3",
   "version": "3.7.6"
  }
 },
 "nbformat": 4,
 "nbformat_minor": 4
}
